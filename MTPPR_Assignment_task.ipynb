{
  "nbformat": 4,
  "nbformat_minor": 0,
  "metadata": {
    "colab": {
      "provenance": [],
      "collapsed_sections": [
        "lhQaDYab9bp6"
      ]
    },
    "kernelspec": {
      "name": "python3",
      "display_name": "Python 3"
    },
    "language_info": {
      "name": "python"
    }
  },
  "cells": [
    {
      "cell_type": "markdown",
      "source": [
        "## Задача о назначениях\n",
        "Необходимо собрать команду разработчиков для создания компьтерной игры. Необходимо выбрать: художника, тестировщика, сценариста, композитора, геймдизайнера и программиста. На выбор даны девять кандидатов. Известны заработная плата, которую они хотят, а также степень их заинтересованности. Необходимо назначить кандидатов так, чтобы на каждую должность должен быть назначен сотрудник.Заинтересованность кандидатов должна быть максимальной, а зарплата как можно более низкой."
      ],
      "metadata": {
        "id": "oQAJQDwsEvqG"
      }
    },
    {
      "cell_type": "markdown",
      "source": [
        "### Загружаем исходные данные"
      ],
      "metadata": {
        "id": "5h4JYHAuUcV_"
      }
    },
    {
      "cell_type": "code",
      "execution_count": 1,
      "metadata": {
        "colab": {
          "base_uri": "https://localhost:8080/"
        },
        "id": "aIqE-4xsEDWn",
        "outputId": "d23684dd-3226-4693-ed15-ac76c2df39b8"
      },
      "outputs": [
        {
          "output_type": "stream",
          "name": "stdout",
          "text": [
            "Mounted at /content/gdrive\n"
          ]
        }
      ],
      "source": [
        "from google.colab import drive\n",
        "drive.mount('/content/gdrive')"
      ]
    },
    {
      "cell_type": "code",
      "source": [
        "import pandas as pd\n",
        "import numpy as np\n",
        "\n",
        "df_salary_org = pd.read_csv('/content/gdrive/MyDrive/TPR/Z1/Data_salary.csv', encoding=\"cp1251\", sep=';')\n",
        "df_salary_org"
      ],
      "metadata": {
        "colab": {
          "base_uri": "https://localhost:8080/",
          "height": 332
        },
        "id": "7Qpl9k58OI9S",
        "outputId": "a7c8488d-3a97-4b53-9659-479a46eb9edd"
      },
      "execution_count": 38,
      "outputs": [
        {
          "output_type": "execute_result",
          "data": {
            "text/plain": [
              "    Исполнители  Художник  Тестировщик  Сценарист  Композитор  Геймдизайнер  \\\n",
              "0  Исполнитель1        50           80         90          70            40   \n",
              "1  Исполнитель2        90           60         30          50            80   \n",
              "2  Исполнитель3        20           50         70          80            40   \n",
              "3  Исполнитель4        70           80         60          40            30   \n",
              "4  Исполнитель5       100           30         50          90            50   \n",
              "5  Исполнитель6        30           60         40          60            20   \n",
              "6  Исполнитель7        60           40         20          30            60   \n",
              "7  Исполнитель8        40           30         80          50            70   \n",
              "8  Исполнитель9        80           70         50          70            80   \n",
              "\n",
              "   Маркетолог  \n",
              "0          90  \n",
              "1          60  \n",
              "2          30  \n",
              "3          50  \n",
              "4          80  \n",
              "5          70  \n",
              "6          50  \n",
              "7          40  \n",
              "8          20  "
            ],
            "text/html": [
              "\n",
              "  <div id=\"df-89575e27-a2ae-4806-9902-46c06b91fcdb\">\n",
              "    <div class=\"colab-df-container\">\n",
              "      <div>\n",
              "<style scoped>\n",
              "    .dataframe tbody tr th:only-of-type {\n",
              "        vertical-align: middle;\n",
              "    }\n",
              "\n",
              "    .dataframe tbody tr th {\n",
              "        vertical-align: top;\n",
              "    }\n",
              "\n",
              "    .dataframe thead th {\n",
              "        text-align: right;\n",
              "    }\n",
              "</style>\n",
              "<table border=\"1\" class=\"dataframe\">\n",
              "  <thead>\n",
              "    <tr style=\"text-align: right;\">\n",
              "      <th></th>\n",
              "      <th>Исполнители</th>\n",
              "      <th>Художник</th>\n",
              "      <th>Тестировщик</th>\n",
              "      <th>Сценарист</th>\n",
              "      <th>Композитор</th>\n",
              "      <th>Геймдизайнер</th>\n",
              "      <th>Маркетолог</th>\n",
              "    </tr>\n",
              "  </thead>\n",
              "  <tbody>\n",
              "    <tr>\n",
              "      <th>0</th>\n",
              "      <td>Исполнитель1</td>\n",
              "      <td>50</td>\n",
              "      <td>80</td>\n",
              "      <td>90</td>\n",
              "      <td>70</td>\n",
              "      <td>40</td>\n",
              "      <td>90</td>\n",
              "    </tr>\n",
              "    <tr>\n",
              "      <th>1</th>\n",
              "      <td>Исполнитель2</td>\n",
              "      <td>90</td>\n",
              "      <td>60</td>\n",
              "      <td>30</td>\n",
              "      <td>50</td>\n",
              "      <td>80</td>\n",
              "      <td>60</td>\n",
              "    </tr>\n",
              "    <tr>\n",
              "      <th>2</th>\n",
              "      <td>Исполнитель3</td>\n",
              "      <td>20</td>\n",
              "      <td>50</td>\n",
              "      <td>70</td>\n",
              "      <td>80</td>\n",
              "      <td>40</td>\n",
              "      <td>30</td>\n",
              "    </tr>\n",
              "    <tr>\n",
              "      <th>3</th>\n",
              "      <td>Исполнитель4</td>\n",
              "      <td>70</td>\n",
              "      <td>80</td>\n",
              "      <td>60</td>\n",
              "      <td>40</td>\n",
              "      <td>30</td>\n",
              "      <td>50</td>\n",
              "    </tr>\n",
              "    <tr>\n",
              "      <th>4</th>\n",
              "      <td>Исполнитель5</td>\n",
              "      <td>100</td>\n",
              "      <td>30</td>\n",
              "      <td>50</td>\n",
              "      <td>90</td>\n",
              "      <td>50</td>\n",
              "      <td>80</td>\n",
              "    </tr>\n",
              "    <tr>\n",
              "      <th>5</th>\n",
              "      <td>Исполнитель6</td>\n",
              "      <td>30</td>\n",
              "      <td>60</td>\n",
              "      <td>40</td>\n",
              "      <td>60</td>\n",
              "      <td>20</td>\n",
              "      <td>70</td>\n",
              "    </tr>\n",
              "    <tr>\n",
              "      <th>6</th>\n",
              "      <td>Исполнитель7</td>\n",
              "      <td>60</td>\n",
              "      <td>40</td>\n",
              "      <td>20</td>\n",
              "      <td>30</td>\n",
              "      <td>60</td>\n",
              "      <td>50</td>\n",
              "    </tr>\n",
              "    <tr>\n",
              "      <th>7</th>\n",
              "      <td>Исполнитель8</td>\n",
              "      <td>40</td>\n",
              "      <td>30</td>\n",
              "      <td>80</td>\n",
              "      <td>50</td>\n",
              "      <td>70</td>\n",
              "      <td>40</td>\n",
              "    </tr>\n",
              "    <tr>\n",
              "      <th>8</th>\n",
              "      <td>Исполнитель9</td>\n",
              "      <td>80</td>\n",
              "      <td>70</td>\n",
              "      <td>50</td>\n",
              "      <td>70</td>\n",
              "      <td>80</td>\n",
              "      <td>20</td>\n",
              "    </tr>\n",
              "  </tbody>\n",
              "</table>\n",
              "</div>\n",
              "      <button class=\"colab-df-convert\" onclick=\"convertToInteractive('df-89575e27-a2ae-4806-9902-46c06b91fcdb')\"\n",
              "              title=\"Convert this dataframe to an interactive table.\"\n",
              "              style=\"display:none;\">\n",
              "        \n",
              "  <svg xmlns=\"http://www.w3.org/2000/svg\" height=\"24px\"viewBox=\"0 0 24 24\"\n",
              "       width=\"24px\">\n",
              "    <path d=\"M0 0h24v24H0V0z\" fill=\"none\"/>\n",
              "    <path d=\"M18.56 5.44l.94 2.06.94-2.06 2.06-.94-2.06-.94-.94-2.06-.94 2.06-2.06.94zm-11 1L8.5 8.5l.94-2.06 2.06-.94-2.06-.94L8.5 2.5l-.94 2.06-2.06.94zm10 10l.94 2.06.94-2.06 2.06-.94-2.06-.94-.94-2.06-.94 2.06-2.06.94z\"/><path d=\"M17.41 7.96l-1.37-1.37c-.4-.4-.92-.59-1.43-.59-.52 0-1.04.2-1.43.59L10.3 9.45l-7.72 7.72c-.78.78-.78 2.05 0 2.83L4 21.41c.39.39.9.59 1.41.59.51 0 1.02-.2 1.41-.59l7.78-7.78 2.81-2.81c.8-.78.8-2.07 0-2.86zM5.41 20L4 18.59l7.72-7.72 1.47 1.35L5.41 20z\"/>\n",
              "  </svg>\n",
              "      </button>\n",
              "      \n",
              "  <style>\n",
              "    .colab-df-container {\n",
              "      display:flex;\n",
              "      flex-wrap:wrap;\n",
              "      gap: 12px;\n",
              "    }\n",
              "\n",
              "    .colab-df-convert {\n",
              "      background-color: #E8F0FE;\n",
              "      border: none;\n",
              "      border-radius: 50%;\n",
              "      cursor: pointer;\n",
              "      display: none;\n",
              "      fill: #1967D2;\n",
              "      height: 32px;\n",
              "      padding: 0 0 0 0;\n",
              "      width: 32px;\n",
              "    }\n",
              "\n",
              "    .colab-df-convert:hover {\n",
              "      background-color: #E2EBFA;\n",
              "      box-shadow: 0px 1px 2px rgba(60, 64, 67, 0.3), 0px 1px 3px 1px rgba(60, 64, 67, 0.15);\n",
              "      fill: #174EA6;\n",
              "    }\n",
              "\n",
              "    [theme=dark] .colab-df-convert {\n",
              "      background-color: #3B4455;\n",
              "      fill: #D2E3FC;\n",
              "    }\n",
              "\n",
              "    [theme=dark] .colab-df-convert:hover {\n",
              "      background-color: #434B5C;\n",
              "      box-shadow: 0px 1px 3px 1px rgba(0, 0, 0, 0.15);\n",
              "      filter: drop-shadow(0px 1px 2px rgba(0, 0, 0, 0.3));\n",
              "      fill: #FFFFFF;\n",
              "    }\n",
              "  </style>\n",
              "\n",
              "      <script>\n",
              "        const buttonEl =\n",
              "          document.querySelector('#df-89575e27-a2ae-4806-9902-46c06b91fcdb button.colab-df-convert');\n",
              "        buttonEl.style.display =\n",
              "          google.colab.kernel.accessAllowed ? 'block' : 'none';\n",
              "\n",
              "        async function convertToInteractive(key) {\n",
              "          const element = document.querySelector('#df-89575e27-a2ae-4806-9902-46c06b91fcdb');\n",
              "          const dataTable =\n",
              "            await google.colab.kernel.invokeFunction('convertToInteractive',\n",
              "                                                     [key], {});\n",
              "          if (!dataTable) return;\n",
              "\n",
              "          const docLinkHtml = 'Like what you see? Visit the ' +\n",
              "            '<a target=\"_blank\" href=https://colab.research.google.com/notebooks/data_table.ipynb>data table notebook</a>'\n",
              "            + ' to learn more about interactive tables.';\n",
              "          element.innerHTML = '';\n",
              "          dataTable['output_type'] = 'display_data';\n",
              "          await google.colab.output.renderOutput(dataTable, element);\n",
              "          const docLink = document.createElement('div');\n",
              "          docLink.innerHTML = docLinkHtml;\n",
              "          element.appendChild(docLink);\n",
              "        }\n",
              "      </script>\n",
              "    </div>\n",
              "  </div>\n",
              "  "
            ]
          },
          "metadata": {},
          "execution_count": 38
        }
      ]
    },
    {
      "cell_type": "code",
      "source": [
        "df_motivation_org = pd.read_csv('/content/gdrive/MyDrive/TPR/Z1/Data_motivation.csv', encoding=\"cp1251\", sep=';')\n",
        "df_motivation_org"
      ],
      "metadata": {
        "colab": {
          "base_uri": "https://localhost:8080/",
          "height": 332
        },
        "id": "ihLf3bx9THws",
        "outputId": "58083846-a68b-482b-e2af-da343bf62816"
      },
      "execution_count": 39,
      "outputs": [
        {
          "output_type": "execute_result",
          "data": {
            "text/plain": [
              "    Исполнители  Художник  Тестировщик  Сценарист  Композитор  Геймдизайнер  \\\n",
              "0  Исполнитель1        90           60         50          30            50   \n",
              "1  Исполнитель2        50           90         30          60            80   \n",
              "2  Исполнитель3        70           80         50          70            40   \n",
              "3  Исполнитель4        40           70         60          80            30   \n",
              "4  Исполнитель5        70           50         90          80            40   \n",
              "5  Исполнитель6        50           40         80          30            70   \n",
              "6  Исполнитель7        30           50         20          40            60   \n",
              "7  Исполнитель8        60           30         40          20            20   \n",
              "8  Исполнитель9        90           20         70          50            40   \n",
              "\n",
              "   Маркетолог  \n",
              "0          80  \n",
              "1          20  \n",
              "2          40  \n",
              "3          90  \n",
              "4          50  \n",
              "5          50  \n",
              "6          70  \n",
              "7          60  \n",
              "8          80  "
            ],
            "text/html": [
              "\n",
              "  <div id=\"df-a31f46d9-4104-4a29-ac47-28d5001e040a\">\n",
              "    <div class=\"colab-df-container\">\n",
              "      <div>\n",
              "<style scoped>\n",
              "    .dataframe tbody tr th:only-of-type {\n",
              "        vertical-align: middle;\n",
              "    }\n",
              "\n",
              "    .dataframe tbody tr th {\n",
              "        vertical-align: top;\n",
              "    }\n",
              "\n",
              "    .dataframe thead th {\n",
              "        text-align: right;\n",
              "    }\n",
              "</style>\n",
              "<table border=\"1\" class=\"dataframe\">\n",
              "  <thead>\n",
              "    <tr style=\"text-align: right;\">\n",
              "      <th></th>\n",
              "      <th>Исполнители</th>\n",
              "      <th>Художник</th>\n",
              "      <th>Тестировщик</th>\n",
              "      <th>Сценарист</th>\n",
              "      <th>Композитор</th>\n",
              "      <th>Геймдизайнер</th>\n",
              "      <th>Маркетолог</th>\n",
              "    </tr>\n",
              "  </thead>\n",
              "  <tbody>\n",
              "    <tr>\n",
              "      <th>0</th>\n",
              "      <td>Исполнитель1</td>\n",
              "      <td>90</td>\n",
              "      <td>60</td>\n",
              "      <td>50</td>\n",
              "      <td>30</td>\n",
              "      <td>50</td>\n",
              "      <td>80</td>\n",
              "    </tr>\n",
              "    <tr>\n",
              "      <th>1</th>\n",
              "      <td>Исполнитель2</td>\n",
              "      <td>50</td>\n",
              "      <td>90</td>\n",
              "      <td>30</td>\n",
              "      <td>60</td>\n",
              "      <td>80</td>\n",
              "      <td>20</td>\n",
              "    </tr>\n",
              "    <tr>\n",
              "      <th>2</th>\n",
              "      <td>Исполнитель3</td>\n",
              "      <td>70</td>\n",
              "      <td>80</td>\n",
              "      <td>50</td>\n",
              "      <td>70</td>\n",
              "      <td>40</td>\n",
              "      <td>40</td>\n",
              "    </tr>\n",
              "    <tr>\n",
              "      <th>3</th>\n",
              "      <td>Исполнитель4</td>\n",
              "      <td>40</td>\n",
              "      <td>70</td>\n",
              "      <td>60</td>\n",
              "      <td>80</td>\n",
              "      <td>30</td>\n",
              "      <td>90</td>\n",
              "    </tr>\n",
              "    <tr>\n",
              "      <th>4</th>\n",
              "      <td>Исполнитель5</td>\n",
              "      <td>70</td>\n",
              "      <td>50</td>\n",
              "      <td>90</td>\n",
              "      <td>80</td>\n",
              "      <td>40</td>\n",
              "      <td>50</td>\n",
              "    </tr>\n",
              "    <tr>\n",
              "      <th>5</th>\n",
              "      <td>Исполнитель6</td>\n",
              "      <td>50</td>\n",
              "      <td>40</td>\n",
              "      <td>80</td>\n",
              "      <td>30</td>\n",
              "      <td>70</td>\n",
              "      <td>50</td>\n",
              "    </tr>\n",
              "    <tr>\n",
              "      <th>6</th>\n",
              "      <td>Исполнитель7</td>\n",
              "      <td>30</td>\n",
              "      <td>50</td>\n",
              "      <td>20</td>\n",
              "      <td>40</td>\n",
              "      <td>60</td>\n",
              "      <td>70</td>\n",
              "    </tr>\n",
              "    <tr>\n",
              "      <th>7</th>\n",
              "      <td>Исполнитель8</td>\n",
              "      <td>60</td>\n",
              "      <td>30</td>\n",
              "      <td>40</td>\n",
              "      <td>20</td>\n",
              "      <td>20</td>\n",
              "      <td>60</td>\n",
              "    </tr>\n",
              "    <tr>\n",
              "      <th>8</th>\n",
              "      <td>Исполнитель9</td>\n",
              "      <td>90</td>\n",
              "      <td>20</td>\n",
              "      <td>70</td>\n",
              "      <td>50</td>\n",
              "      <td>40</td>\n",
              "      <td>80</td>\n",
              "    </tr>\n",
              "  </tbody>\n",
              "</table>\n",
              "</div>\n",
              "      <button class=\"colab-df-convert\" onclick=\"convertToInteractive('df-a31f46d9-4104-4a29-ac47-28d5001e040a')\"\n",
              "              title=\"Convert this dataframe to an interactive table.\"\n",
              "              style=\"display:none;\">\n",
              "        \n",
              "  <svg xmlns=\"http://www.w3.org/2000/svg\" height=\"24px\"viewBox=\"0 0 24 24\"\n",
              "       width=\"24px\">\n",
              "    <path d=\"M0 0h24v24H0V0z\" fill=\"none\"/>\n",
              "    <path d=\"M18.56 5.44l.94 2.06.94-2.06 2.06-.94-2.06-.94-.94-2.06-.94 2.06-2.06.94zm-11 1L8.5 8.5l.94-2.06 2.06-.94-2.06-.94L8.5 2.5l-.94 2.06-2.06.94zm10 10l.94 2.06.94-2.06 2.06-.94-2.06-.94-.94-2.06-.94 2.06-2.06.94z\"/><path d=\"M17.41 7.96l-1.37-1.37c-.4-.4-.92-.59-1.43-.59-.52 0-1.04.2-1.43.59L10.3 9.45l-7.72 7.72c-.78.78-.78 2.05 0 2.83L4 21.41c.39.39.9.59 1.41.59.51 0 1.02-.2 1.41-.59l7.78-7.78 2.81-2.81c.8-.78.8-2.07 0-2.86zM5.41 20L4 18.59l7.72-7.72 1.47 1.35L5.41 20z\"/>\n",
              "  </svg>\n",
              "      </button>\n",
              "      \n",
              "  <style>\n",
              "    .colab-df-container {\n",
              "      display:flex;\n",
              "      flex-wrap:wrap;\n",
              "      gap: 12px;\n",
              "    }\n",
              "\n",
              "    .colab-df-convert {\n",
              "      background-color: #E8F0FE;\n",
              "      border: none;\n",
              "      border-radius: 50%;\n",
              "      cursor: pointer;\n",
              "      display: none;\n",
              "      fill: #1967D2;\n",
              "      height: 32px;\n",
              "      padding: 0 0 0 0;\n",
              "      width: 32px;\n",
              "    }\n",
              "\n",
              "    .colab-df-convert:hover {\n",
              "      background-color: #E2EBFA;\n",
              "      box-shadow: 0px 1px 2px rgba(60, 64, 67, 0.3), 0px 1px 3px 1px rgba(60, 64, 67, 0.15);\n",
              "      fill: #174EA6;\n",
              "    }\n",
              "\n",
              "    [theme=dark] .colab-df-convert {\n",
              "      background-color: #3B4455;\n",
              "      fill: #D2E3FC;\n",
              "    }\n",
              "\n",
              "    [theme=dark] .colab-df-convert:hover {\n",
              "      background-color: #434B5C;\n",
              "      box-shadow: 0px 1px 3px 1px rgba(0, 0, 0, 0.15);\n",
              "      filter: drop-shadow(0px 1px 2px rgba(0, 0, 0, 0.3));\n",
              "      fill: #FFFFFF;\n",
              "    }\n",
              "  </style>\n",
              "\n",
              "      <script>\n",
              "        const buttonEl =\n",
              "          document.querySelector('#df-a31f46d9-4104-4a29-ac47-28d5001e040a button.colab-df-convert');\n",
              "        buttonEl.style.display =\n",
              "          google.colab.kernel.accessAllowed ? 'block' : 'none';\n",
              "\n",
              "        async function convertToInteractive(key) {\n",
              "          const element = document.querySelector('#df-a31f46d9-4104-4a29-ac47-28d5001e040a');\n",
              "          const dataTable =\n",
              "            await google.colab.kernel.invokeFunction('convertToInteractive',\n",
              "                                                     [key], {});\n",
              "          if (!dataTable) return;\n",
              "\n",
              "          const docLinkHtml = 'Like what you see? Visit the ' +\n",
              "            '<a target=\"_blank\" href=https://colab.research.google.com/notebooks/data_table.ipynb>data table notebook</a>'\n",
              "            + ' to learn more about interactive tables.';\n",
              "          element.innerHTML = '';\n",
              "          dataTable['output_type'] = 'display_data';\n",
              "          await google.colab.output.renderOutput(dataTable, element);\n",
              "          const docLink = document.createElement('div');\n",
              "          docLink.innerHTML = docLinkHtml;\n",
              "          element.appendChild(docLink);\n",
              "        }\n",
              "      </script>\n",
              "    </div>\n",
              "  </div>\n",
              "  "
            ]
          },
          "metadata": {},
          "execution_count": 39
        }
      ]
    },
    {
      "cell_type": "markdown",
      "source": [
        "### Устанавливаем библиотеку"
      ],
      "metadata": {
        "id": "SykLxSmxUoYl"
      }
    },
    {
      "cell_type": "code",
      "source": [
        "pip install hungarian-algorithm"
      ],
      "metadata": {
        "colab": {
          "base_uri": "https://localhost:8080/"
        },
        "id": "Ow80g2FhUVqG",
        "outputId": "713afa38-2c89-4fa7-eada-d43381f5b061"
      },
      "execution_count": 40,
      "outputs": [
        {
          "output_type": "stream",
          "name": "stdout",
          "text": [
            "Looking in indexes: https://pypi.org/simple, https://us-python.pkg.dev/colab-wheels/public/simple/\n",
            "Requirement already satisfied: hungarian-algorithm in /usr/local/lib/python3.9/dist-packages (0.1.11)\n"
          ]
        }
      ]
    },
    {
      "cell_type": "code",
      "source": [
        "import numpy as np\n",
        "from hungarian_algorithm import algorithm"
      ],
      "metadata": {
        "id": "NXuWwePdV29y"
      },
      "execution_count": 41,
      "outputs": []
    },
    {
      "cell_type": "markdown",
      "source": [
        "### Добавляем 3 фиктивные должности "
      ],
      "metadata": {
        "id": "HYaT8Porm627"
      }
    },
    {
      "cell_type": "code",
      "source": [
        "import random\n",
        "numbers = [20, 30, 40, 50, 60, 70, 80, 90]\n",
        "\n",
        "line = ''\n",
        "\n",
        "for i in range(9):\n",
        "     line = line + str(random.choice(numbers)) + ', '\n",
        "line"
      ],
      "metadata": {
        "colab": {
          "base_uri": "https://localhost:8080/",
          "height": 35
        },
        "id": "TqHP96J9uZ5U",
        "outputId": "17afb59d-dcc8-4761-bcfc-90f99663826b"
      },
      "execution_count": 42,
      "outputs": [
        {
          "output_type": "execute_result",
          "data": {
            "text/plain": [
              "'40, 20, 60, 20, 40, 50, 30, 20, 70, '"
            ],
            "application/vnd.google.colaboratory.intrinsic+json": {
              "type": "string"
            }
          },
          "metadata": {},
          "execution_count": 42
        }
      ]
    },
    {
      "cell_type": "code",
      "source": [
        "df_salary_org[\"Fake1\"] = [20, 50, 70, 80, 40, 60, 50, 30, 40]\n",
        "df_salary_org[\"Fake2\"] = [90, 30, 60, 40, 50, 90, 20, 90, 40]\n",
        "df_salary_org[\"Fake3\"] = [70, 30, 80, 40, 30, 80, 40, 50, 50]\n",
        "df_motivation_org[\"Fake1\"] = [40, 40, 20, 50, 30, 90, 80, 20, 60]\n",
        "df_motivation_org[\"Fake2\"] = [60, 40, 60, 50, 50, 90, 50, 60, 30]\n",
        "df_motivation_org[\"Fake3\"] = [70, 20, 40, 80, 20, 90, 20, 60, 80]"
      ],
      "metadata": {
        "id": "9PS13jd4nV6n"
      },
      "execution_count": 43,
      "outputs": []
    },
    {
      "cell_type": "code",
      "source": [
        "df_salary_org"
      ],
      "metadata": {
        "colab": {
          "base_uri": "https://localhost:8080/",
          "height": 332
        },
        "id": "5aqhLKeQy7uh",
        "outputId": "286c8ffe-7d7b-48a3-f9a5-212283e919e7"
      },
      "execution_count": 44,
      "outputs": [
        {
          "output_type": "execute_result",
          "data": {
            "text/plain": [
              "    Исполнители  Художник  Тестировщик  Сценарист  Композитор  Геймдизайнер  \\\n",
              "0  Исполнитель1        50           80         90          70            40   \n",
              "1  Исполнитель2        90           60         30          50            80   \n",
              "2  Исполнитель3        20           50         70          80            40   \n",
              "3  Исполнитель4        70           80         60          40            30   \n",
              "4  Исполнитель5       100           30         50          90            50   \n",
              "5  Исполнитель6        30           60         40          60            20   \n",
              "6  Исполнитель7        60           40         20          30            60   \n",
              "7  Исполнитель8        40           30         80          50            70   \n",
              "8  Исполнитель9        80           70         50          70            80   \n",
              "\n",
              "   Маркетолог  Fake1  Fake2  Fake3  \n",
              "0          90     20     90     70  \n",
              "1          60     50     30     30  \n",
              "2          30     70     60     80  \n",
              "3          50     80     40     40  \n",
              "4          80     40     50     30  \n",
              "5          70     60     90     80  \n",
              "6          50     50     20     40  \n",
              "7          40     30     90     50  \n",
              "8          20     40     40     50  "
            ],
            "text/html": [
              "\n",
              "  <div id=\"df-b1020afa-375b-447a-a463-ef083f7a7b61\">\n",
              "    <div class=\"colab-df-container\">\n",
              "      <div>\n",
              "<style scoped>\n",
              "    .dataframe tbody tr th:only-of-type {\n",
              "        vertical-align: middle;\n",
              "    }\n",
              "\n",
              "    .dataframe tbody tr th {\n",
              "        vertical-align: top;\n",
              "    }\n",
              "\n",
              "    .dataframe thead th {\n",
              "        text-align: right;\n",
              "    }\n",
              "</style>\n",
              "<table border=\"1\" class=\"dataframe\">\n",
              "  <thead>\n",
              "    <tr style=\"text-align: right;\">\n",
              "      <th></th>\n",
              "      <th>Исполнители</th>\n",
              "      <th>Художник</th>\n",
              "      <th>Тестировщик</th>\n",
              "      <th>Сценарист</th>\n",
              "      <th>Композитор</th>\n",
              "      <th>Геймдизайнер</th>\n",
              "      <th>Маркетолог</th>\n",
              "      <th>Fake1</th>\n",
              "      <th>Fake2</th>\n",
              "      <th>Fake3</th>\n",
              "    </tr>\n",
              "  </thead>\n",
              "  <tbody>\n",
              "    <tr>\n",
              "      <th>0</th>\n",
              "      <td>Исполнитель1</td>\n",
              "      <td>50</td>\n",
              "      <td>80</td>\n",
              "      <td>90</td>\n",
              "      <td>70</td>\n",
              "      <td>40</td>\n",
              "      <td>90</td>\n",
              "      <td>20</td>\n",
              "      <td>90</td>\n",
              "      <td>70</td>\n",
              "    </tr>\n",
              "    <tr>\n",
              "      <th>1</th>\n",
              "      <td>Исполнитель2</td>\n",
              "      <td>90</td>\n",
              "      <td>60</td>\n",
              "      <td>30</td>\n",
              "      <td>50</td>\n",
              "      <td>80</td>\n",
              "      <td>60</td>\n",
              "      <td>50</td>\n",
              "      <td>30</td>\n",
              "      <td>30</td>\n",
              "    </tr>\n",
              "    <tr>\n",
              "      <th>2</th>\n",
              "      <td>Исполнитель3</td>\n",
              "      <td>20</td>\n",
              "      <td>50</td>\n",
              "      <td>70</td>\n",
              "      <td>80</td>\n",
              "      <td>40</td>\n",
              "      <td>30</td>\n",
              "      <td>70</td>\n",
              "      <td>60</td>\n",
              "      <td>80</td>\n",
              "    </tr>\n",
              "    <tr>\n",
              "      <th>3</th>\n",
              "      <td>Исполнитель4</td>\n",
              "      <td>70</td>\n",
              "      <td>80</td>\n",
              "      <td>60</td>\n",
              "      <td>40</td>\n",
              "      <td>30</td>\n",
              "      <td>50</td>\n",
              "      <td>80</td>\n",
              "      <td>40</td>\n",
              "      <td>40</td>\n",
              "    </tr>\n",
              "    <tr>\n",
              "      <th>4</th>\n",
              "      <td>Исполнитель5</td>\n",
              "      <td>100</td>\n",
              "      <td>30</td>\n",
              "      <td>50</td>\n",
              "      <td>90</td>\n",
              "      <td>50</td>\n",
              "      <td>80</td>\n",
              "      <td>40</td>\n",
              "      <td>50</td>\n",
              "      <td>30</td>\n",
              "    </tr>\n",
              "    <tr>\n",
              "      <th>5</th>\n",
              "      <td>Исполнитель6</td>\n",
              "      <td>30</td>\n",
              "      <td>60</td>\n",
              "      <td>40</td>\n",
              "      <td>60</td>\n",
              "      <td>20</td>\n",
              "      <td>70</td>\n",
              "      <td>60</td>\n",
              "      <td>90</td>\n",
              "      <td>80</td>\n",
              "    </tr>\n",
              "    <tr>\n",
              "      <th>6</th>\n",
              "      <td>Исполнитель7</td>\n",
              "      <td>60</td>\n",
              "      <td>40</td>\n",
              "      <td>20</td>\n",
              "      <td>30</td>\n",
              "      <td>60</td>\n",
              "      <td>50</td>\n",
              "      <td>50</td>\n",
              "      <td>20</td>\n",
              "      <td>40</td>\n",
              "    </tr>\n",
              "    <tr>\n",
              "      <th>7</th>\n",
              "      <td>Исполнитель8</td>\n",
              "      <td>40</td>\n",
              "      <td>30</td>\n",
              "      <td>80</td>\n",
              "      <td>50</td>\n",
              "      <td>70</td>\n",
              "      <td>40</td>\n",
              "      <td>30</td>\n",
              "      <td>90</td>\n",
              "      <td>50</td>\n",
              "    </tr>\n",
              "    <tr>\n",
              "      <th>8</th>\n",
              "      <td>Исполнитель9</td>\n",
              "      <td>80</td>\n",
              "      <td>70</td>\n",
              "      <td>50</td>\n",
              "      <td>70</td>\n",
              "      <td>80</td>\n",
              "      <td>20</td>\n",
              "      <td>40</td>\n",
              "      <td>40</td>\n",
              "      <td>50</td>\n",
              "    </tr>\n",
              "  </tbody>\n",
              "</table>\n",
              "</div>\n",
              "      <button class=\"colab-df-convert\" onclick=\"convertToInteractive('df-b1020afa-375b-447a-a463-ef083f7a7b61')\"\n",
              "              title=\"Convert this dataframe to an interactive table.\"\n",
              "              style=\"display:none;\">\n",
              "        \n",
              "  <svg xmlns=\"http://www.w3.org/2000/svg\" height=\"24px\"viewBox=\"0 0 24 24\"\n",
              "       width=\"24px\">\n",
              "    <path d=\"M0 0h24v24H0V0z\" fill=\"none\"/>\n",
              "    <path d=\"M18.56 5.44l.94 2.06.94-2.06 2.06-.94-2.06-.94-.94-2.06-.94 2.06-2.06.94zm-11 1L8.5 8.5l.94-2.06 2.06-.94-2.06-.94L8.5 2.5l-.94 2.06-2.06.94zm10 10l.94 2.06.94-2.06 2.06-.94-2.06-.94-.94-2.06-.94 2.06-2.06.94z\"/><path d=\"M17.41 7.96l-1.37-1.37c-.4-.4-.92-.59-1.43-.59-.52 0-1.04.2-1.43.59L10.3 9.45l-7.72 7.72c-.78.78-.78 2.05 0 2.83L4 21.41c.39.39.9.59 1.41.59.51 0 1.02-.2 1.41-.59l7.78-7.78 2.81-2.81c.8-.78.8-2.07 0-2.86zM5.41 20L4 18.59l7.72-7.72 1.47 1.35L5.41 20z\"/>\n",
              "  </svg>\n",
              "      </button>\n",
              "      \n",
              "  <style>\n",
              "    .colab-df-container {\n",
              "      display:flex;\n",
              "      flex-wrap:wrap;\n",
              "      gap: 12px;\n",
              "    }\n",
              "\n",
              "    .colab-df-convert {\n",
              "      background-color: #E8F0FE;\n",
              "      border: none;\n",
              "      border-radius: 50%;\n",
              "      cursor: pointer;\n",
              "      display: none;\n",
              "      fill: #1967D2;\n",
              "      height: 32px;\n",
              "      padding: 0 0 0 0;\n",
              "      width: 32px;\n",
              "    }\n",
              "\n",
              "    .colab-df-convert:hover {\n",
              "      background-color: #E2EBFA;\n",
              "      box-shadow: 0px 1px 2px rgba(60, 64, 67, 0.3), 0px 1px 3px 1px rgba(60, 64, 67, 0.15);\n",
              "      fill: #174EA6;\n",
              "    }\n",
              "\n",
              "    [theme=dark] .colab-df-convert {\n",
              "      background-color: #3B4455;\n",
              "      fill: #D2E3FC;\n",
              "    }\n",
              "\n",
              "    [theme=dark] .colab-df-convert:hover {\n",
              "      background-color: #434B5C;\n",
              "      box-shadow: 0px 1px 3px 1px rgba(0, 0, 0, 0.15);\n",
              "      filter: drop-shadow(0px 1px 2px rgba(0, 0, 0, 0.3));\n",
              "      fill: #FFFFFF;\n",
              "    }\n",
              "  </style>\n",
              "\n",
              "      <script>\n",
              "        const buttonEl =\n",
              "          document.querySelector('#df-b1020afa-375b-447a-a463-ef083f7a7b61 button.colab-df-convert');\n",
              "        buttonEl.style.display =\n",
              "          google.colab.kernel.accessAllowed ? 'block' : 'none';\n",
              "\n",
              "        async function convertToInteractive(key) {\n",
              "          const element = document.querySelector('#df-b1020afa-375b-447a-a463-ef083f7a7b61');\n",
              "          const dataTable =\n",
              "            await google.colab.kernel.invokeFunction('convertToInteractive',\n",
              "                                                     [key], {});\n",
              "          if (!dataTable) return;\n",
              "\n",
              "          const docLinkHtml = 'Like what you see? Visit the ' +\n",
              "            '<a target=\"_blank\" href=https://colab.research.google.com/notebooks/data_table.ipynb>data table notebook</a>'\n",
              "            + ' to learn more about interactive tables.';\n",
              "          element.innerHTML = '';\n",
              "          dataTable['output_type'] = 'display_data';\n",
              "          await google.colab.output.renderOutput(dataTable, element);\n",
              "          const docLink = document.createElement('div');\n",
              "          docLink.innerHTML = docLinkHtml;\n",
              "          element.appendChild(docLink);\n",
              "        }\n",
              "      </script>\n",
              "    </div>\n",
              "  </div>\n",
              "  "
            ]
          },
          "metadata": {},
          "execution_count": 44
        }
      ]
    },
    {
      "cell_type": "code",
      "source": [
        "df_motivation_org"
      ],
      "metadata": {
        "colab": {
          "base_uri": "https://localhost:8080/",
          "height": 332
        },
        "id": "XZz1e_hazCii",
        "outputId": "a90c21ac-16db-45ea-e3fc-79679170802c"
      },
      "execution_count": 45,
      "outputs": [
        {
          "output_type": "execute_result",
          "data": {
            "text/plain": [
              "    Исполнители  Художник  Тестировщик  Сценарист  Композитор  Геймдизайнер  \\\n",
              "0  Исполнитель1        90           60         50          30            50   \n",
              "1  Исполнитель2        50           90         30          60            80   \n",
              "2  Исполнитель3        70           80         50          70            40   \n",
              "3  Исполнитель4        40           70         60          80            30   \n",
              "4  Исполнитель5        70           50         90          80            40   \n",
              "5  Исполнитель6        50           40         80          30            70   \n",
              "6  Исполнитель7        30           50         20          40            60   \n",
              "7  Исполнитель8        60           30         40          20            20   \n",
              "8  Исполнитель9        90           20         70          50            40   \n",
              "\n",
              "   Маркетолог  Fake1  Fake2  Fake3  \n",
              "0          80     40     60     70  \n",
              "1          20     40     40     20  \n",
              "2          40     20     60     40  \n",
              "3          90     50     50     80  \n",
              "4          50     30     50     20  \n",
              "5          50     90     90     90  \n",
              "6          70     80     50     20  \n",
              "7          60     20     60     60  \n",
              "8          80     60     30     80  "
            ],
            "text/html": [
              "\n",
              "  <div id=\"df-9b802465-9f5c-40ea-91c1-c3a7f63bf108\">\n",
              "    <div class=\"colab-df-container\">\n",
              "      <div>\n",
              "<style scoped>\n",
              "    .dataframe tbody tr th:only-of-type {\n",
              "        vertical-align: middle;\n",
              "    }\n",
              "\n",
              "    .dataframe tbody tr th {\n",
              "        vertical-align: top;\n",
              "    }\n",
              "\n",
              "    .dataframe thead th {\n",
              "        text-align: right;\n",
              "    }\n",
              "</style>\n",
              "<table border=\"1\" class=\"dataframe\">\n",
              "  <thead>\n",
              "    <tr style=\"text-align: right;\">\n",
              "      <th></th>\n",
              "      <th>Исполнители</th>\n",
              "      <th>Художник</th>\n",
              "      <th>Тестировщик</th>\n",
              "      <th>Сценарист</th>\n",
              "      <th>Композитор</th>\n",
              "      <th>Геймдизайнер</th>\n",
              "      <th>Маркетолог</th>\n",
              "      <th>Fake1</th>\n",
              "      <th>Fake2</th>\n",
              "      <th>Fake3</th>\n",
              "    </tr>\n",
              "  </thead>\n",
              "  <tbody>\n",
              "    <tr>\n",
              "      <th>0</th>\n",
              "      <td>Исполнитель1</td>\n",
              "      <td>90</td>\n",
              "      <td>60</td>\n",
              "      <td>50</td>\n",
              "      <td>30</td>\n",
              "      <td>50</td>\n",
              "      <td>80</td>\n",
              "      <td>40</td>\n",
              "      <td>60</td>\n",
              "      <td>70</td>\n",
              "    </tr>\n",
              "    <tr>\n",
              "      <th>1</th>\n",
              "      <td>Исполнитель2</td>\n",
              "      <td>50</td>\n",
              "      <td>90</td>\n",
              "      <td>30</td>\n",
              "      <td>60</td>\n",
              "      <td>80</td>\n",
              "      <td>20</td>\n",
              "      <td>40</td>\n",
              "      <td>40</td>\n",
              "      <td>20</td>\n",
              "    </tr>\n",
              "    <tr>\n",
              "      <th>2</th>\n",
              "      <td>Исполнитель3</td>\n",
              "      <td>70</td>\n",
              "      <td>80</td>\n",
              "      <td>50</td>\n",
              "      <td>70</td>\n",
              "      <td>40</td>\n",
              "      <td>40</td>\n",
              "      <td>20</td>\n",
              "      <td>60</td>\n",
              "      <td>40</td>\n",
              "    </tr>\n",
              "    <tr>\n",
              "      <th>3</th>\n",
              "      <td>Исполнитель4</td>\n",
              "      <td>40</td>\n",
              "      <td>70</td>\n",
              "      <td>60</td>\n",
              "      <td>80</td>\n",
              "      <td>30</td>\n",
              "      <td>90</td>\n",
              "      <td>50</td>\n",
              "      <td>50</td>\n",
              "      <td>80</td>\n",
              "    </tr>\n",
              "    <tr>\n",
              "      <th>4</th>\n",
              "      <td>Исполнитель5</td>\n",
              "      <td>70</td>\n",
              "      <td>50</td>\n",
              "      <td>90</td>\n",
              "      <td>80</td>\n",
              "      <td>40</td>\n",
              "      <td>50</td>\n",
              "      <td>30</td>\n",
              "      <td>50</td>\n",
              "      <td>20</td>\n",
              "    </tr>\n",
              "    <tr>\n",
              "      <th>5</th>\n",
              "      <td>Исполнитель6</td>\n",
              "      <td>50</td>\n",
              "      <td>40</td>\n",
              "      <td>80</td>\n",
              "      <td>30</td>\n",
              "      <td>70</td>\n",
              "      <td>50</td>\n",
              "      <td>90</td>\n",
              "      <td>90</td>\n",
              "      <td>90</td>\n",
              "    </tr>\n",
              "    <tr>\n",
              "      <th>6</th>\n",
              "      <td>Исполнитель7</td>\n",
              "      <td>30</td>\n",
              "      <td>50</td>\n",
              "      <td>20</td>\n",
              "      <td>40</td>\n",
              "      <td>60</td>\n",
              "      <td>70</td>\n",
              "      <td>80</td>\n",
              "      <td>50</td>\n",
              "      <td>20</td>\n",
              "    </tr>\n",
              "    <tr>\n",
              "      <th>7</th>\n",
              "      <td>Исполнитель8</td>\n",
              "      <td>60</td>\n",
              "      <td>30</td>\n",
              "      <td>40</td>\n",
              "      <td>20</td>\n",
              "      <td>20</td>\n",
              "      <td>60</td>\n",
              "      <td>20</td>\n",
              "      <td>60</td>\n",
              "      <td>60</td>\n",
              "    </tr>\n",
              "    <tr>\n",
              "      <th>8</th>\n",
              "      <td>Исполнитель9</td>\n",
              "      <td>90</td>\n",
              "      <td>20</td>\n",
              "      <td>70</td>\n",
              "      <td>50</td>\n",
              "      <td>40</td>\n",
              "      <td>80</td>\n",
              "      <td>60</td>\n",
              "      <td>30</td>\n",
              "      <td>80</td>\n",
              "    </tr>\n",
              "  </tbody>\n",
              "</table>\n",
              "</div>\n",
              "      <button class=\"colab-df-convert\" onclick=\"convertToInteractive('df-9b802465-9f5c-40ea-91c1-c3a7f63bf108')\"\n",
              "              title=\"Convert this dataframe to an interactive table.\"\n",
              "              style=\"display:none;\">\n",
              "        \n",
              "  <svg xmlns=\"http://www.w3.org/2000/svg\" height=\"24px\"viewBox=\"0 0 24 24\"\n",
              "       width=\"24px\">\n",
              "    <path d=\"M0 0h24v24H0V0z\" fill=\"none\"/>\n",
              "    <path d=\"M18.56 5.44l.94 2.06.94-2.06 2.06-.94-2.06-.94-.94-2.06-.94 2.06-2.06.94zm-11 1L8.5 8.5l.94-2.06 2.06-.94-2.06-.94L8.5 2.5l-.94 2.06-2.06.94zm10 10l.94 2.06.94-2.06 2.06-.94-2.06-.94-.94-2.06-.94 2.06-2.06.94z\"/><path d=\"M17.41 7.96l-1.37-1.37c-.4-.4-.92-.59-1.43-.59-.52 0-1.04.2-1.43.59L10.3 9.45l-7.72 7.72c-.78.78-.78 2.05 0 2.83L4 21.41c.39.39.9.59 1.41.59.51 0 1.02-.2 1.41-.59l7.78-7.78 2.81-2.81c.8-.78.8-2.07 0-2.86zM5.41 20L4 18.59l7.72-7.72 1.47 1.35L5.41 20z\"/>\n",
              "  </svg>\n",
              "      </button>\n",
              "      \n",
              "  <style>\n",
              "    .colab-df-container {\n",
              "      display:flex;\n",
              "      flex-wrap:wrap;\n",
              "      gap: 12px;\n",
              "    }\n",
              "\n",
              "    .colab-df-convert {\n",
              "      background-color: #E8F0FE;\n",
              "      border: none;\n",
              "      border-radius: 50%;\n",
              "      cursor: pointer;\n",
              "      display: none;\n",
              "      fill: #1967D2;\n",
              "      height: 32px;\n",
              "      padding: 0 0 0 0;\n",
              "      width: 32px;\n",
              "    }\n",
              "\n",
              "    .colab-df-convert:hover {\n",
              "      background-color: #E2EBFA;\n",
              "      box-shadow: 0px 1px 2px rgba(60, 64, 67, 0.3), 0px 1px 3px 1px rgba(60, 64, 67, 0.15);\n",
              "      fill: #174EA6;\n",
              "    }\n",
              "\n",
              "    [theme=dark] .colab-df-convert {\n",
              "      background-color: #3B4455;\n",
              "      fill: #D2E3FC;\n",
              "    }\n",
              "\n",
              "    [theme=dark] .colab-df-convert:hover {\n",
              "      background-color: #434B5C;\n",
              "      box-shadow: 0px 1px 3px 1px rgba(0, 0, 0, 0.15);\n",
              "      filter: drop-shadow(0px 1px 2px rgba(0, 0, 0, 0.3));\n",
              "      fill: #FFFFFF;\n",
              "    }\n",
              "  </style>\n",
              "\n",
              "      <script>\n",
              "        const buttonEl =\n",
              "          document.querySelector('#df-9b802465-9f5c-40ea-91c1-c3a7f63bf108 button.colab-df-convert');\n",
              "        buttonEl.style.display =\n",
              "          google.colab.kernel.accessAllowed ? 'block' : 'none';\n",
              "\n",
              "        async function convertToInteractive(key) {\n",
              "          const element = document.querySelector('#df-9b802465-9f5c-40ea-91c1-c3a7f63bf108');\n",
              "          const dataTable =\n",
              "            await google.colab.kernel.invokeFunction('convertToInteractive',\n",
              "                                                     [key], {});\n",
              "          if (!dataTable) return;\n",
              "\n",
              "          const docLinkHtml = 'Like what you see? Visit the ' +\n",
              "            '<a target=\"_blank\" href=https://colab.research.google.com/notebooks/data_table.ipynb>data table notebook</a>'\n",
              "            + ' to learn more about interactive tables.';\n",
              "          element.innerHTML = '';\n",
              "          dataTable['output_type'] = 'display_data';\n",
              "          await google.colab.output.renderOutput(dataTable, element);\n",
              "          const docLink = document.createElement('div');\n",
              "          docLink.innerHTML = docLinkHtml;\n",
              "          element.appendChild(docLink);\n",
              "        }\n",
              "      </script>\n",
              "    </div>\n",
              "  </div>\n",
              "  "
            ]
          },
          "metadata": {},
          "execution_count": 45
        }
      ]
    },
    {
      "cell_type": "markdown",
      "source": [
        "### Преобразуем таблицы в массивы"
      ],
      "metadata": {
        "id": "FtbjKjH2eBOf"
      }
    },
    {
      "cell_type": "code",
      "source": [
        "df_salary = df_salary_org.drop('Исполнители', axis=1)\n",
        "df_salary"
      ],
      "metadata": {
        "colab": {
          "base_uri": "https://localhost:8080/",
          "height": 332
        },
        "id": "MiUaCG0Ha54S",
        "outputId": "f45315d4-f06a-485a-8674-8f8311001fd2"
      },
      "execution_count": 46,
      "outputs": [
        {
          "output_type": "execute_result",
          "data": {
            "text/plain": [
              "   Художник  Тестировщик  Сценарист  Композитор  Геймдизайнер  Маркетолог  \\\n",
              "0        50           80         90          70            40          90   \n",
              "1        90           60         30          50            80          60   \n",
              "2        20           50         70          80            40          30   \n",
              "3        70           80         60          40            30          50   \n",
              "4       100           30         50          90            50          80   \n",
              "5        30           60         40          60            20          70   \n",
              "6        60           40         20          30            60          50   \n",
              "7        40           30         80          50            70          40   \n",
              "8        80           70         50          70            80          20   \n",
              "\n",
              "   Fake1  Fake2  Fake3  \n",
              "0     20     90     70  \n",
              "1     50     30     30  \n",
              "2     70     60     80  \n",
              "3     80     40     40  \n",
              "4     40     50     30  \n",
              "5     60     90     80  \n",
              "6     50     20     40  \n",
              "7     30     90     50  \n",
              "8     40     40     50  "
            ],
            "text/html": [
              "\n",
              "  <div id=\"df-a7872cc4-144a-4dfa-ab64-3d18207ea7e1\">\n",
              "    <div class=\"colab-df-container\">\n",
              "      <div>\n",
              "<style scoped>\n",
              "    .dataframe tbody tr th:only-of-type {\n",
              "        vertical-align: middle;\n",
              "    }\n",
              "\n",
              "    .dataframe tbody tr th {\n",
              "        vertical-align: top;\n",
              "    }\n",
              "\n",
              "    .dataframe thead th {\n",
              "        text-align: right;\n",
              "    }\n",
              "</style>\n",
              "<table border=\"1\" class=\"dataframe\">\n",
              "  <thead>\n",
              "    <tr style=\"text-align: right;\">\n",
              "      <th></th>\n",
              "      <th>Художник</th>\n",
              "      <th>Тестировщик</th>\n",
              "      <th>Сценарист</th>\n",
              "      <th>Композитор</th>\n",
              "      <th>Геймдизайнер</th>\n",
              "      <th>Маркетолог</th>\n",
              "      <th>Fake1</th>\n",
              "      <th>Fake2</th>\n",
              "      <th>Fake3</th>\n",
              "    </tr>\n",
              "  </thead>\n",
              "  <tbody>\n",
              "    <tr>\n",
              "      <th>0</th>\n",
              "      <td>50</td>\n",
              "      <td>80</td>\n",
              "      <td>90</td>\n",
              "      <td>70</td>\n",
              "      <td>40</td>\n",
              "      <td>90</td>\n",
              "      <td>20</td>\n",
              "      <td>90</td>\n",
              "      <td>70</td>\n",
              "    </tr>\n",
              "    <tr>\n",
              "      <th>1</th>\n",
              "      <td>90</td>\n",
              "      <td>60</td>\n",
              "      <td>30</td>\n",
              "      <td>50</td>\n",
              "      <td>80</td>\n",
              "      <td>60</td>\n",
              "      <td>50</td>\n",
              "      <td>30</td>\n",
              "      <td>30</td>\n",
              "    </tr>\n",
              "    <tr>\n",
              "      <th>2</th>\n",
              "      <td>20</td>\n",
              "      <td>50</td>\n",
              "      <td>70</td>\n",
              "      <td>80</td>\n",
              "      <td>40</td>\n",
              "      <td>30</td>\n",
              "      <td>70</td>\n",
              "      <td>60</td>\n",
              "      <td>80</td>\n",
              "    </tr>\n",
              "    <tr>\n",
              "      <th>3</th>\n",
              "      <td>70</td>\n",
              "      <td>80</td>\n",
              "      <td>60</td>\n",
              "      <td>40</td>\n",
              "      <td>30</td>\n",
              "      <td>50</td>\n",
              "      <td>80</td>\n",
              "      <td>40</td>\n",
              "      <td>40</td>\n",
              "    </tr>\n",
              "    <tr>\n",
              "      <th>4</th>\n",
              "      <td>100</td>\n",
              "      <td>30</td>\n",
              "      <td>50</td>\n",
              "      <td>90</td>\n",
              "      <td>50</td>\n",
              "      <td>80</td>\n",
              "      <td>40</td>\n",
              "      <td>50</td>\n",
              "      <td>30</td>\n",
              "    </tr>\n",
              "    <tr>\n",
              "      <th>5</th>\n",
              "      <td>30</td>\n",
              "      <td>60</td>\n",
              "      <td>40</td>\n",
              "      <td>60</td>\n",
              "      <td>20</td>\n",
              "      <td>70</td>\n",
              "      <td>60</td>\n",
              "      <td>90</td>\n",
              "      <td>80</td>\n",
              "    </tr>\n",
              "    <tr>\n",
              "      <th>6</th>\n",
              "      <td>60</td>\n",
              "      <td>40</td>\n",
              "      <td>20</td>\n",
              "      <td>30</td>\n",
              "      <td>60</td>\n",
              "      <td>50</td>\n",
              "      <td>50</td>\n",
              "      <td>20</td>\n",
              "      <td>40</td>\n",
              "    </tr>\n",
              "    <tr>\n",
              "      <th>7</th>\n",
              "      <td>40</td>\n",
              "      <td>30</td>\n",
              "      <td>80</td>\n",
              "      <td>50</td>\n",
              "      <td>70</td>\n",
              "      <td>40</td>\n",
              "      <td>30</td>\n",
              "      <td>90</td>\n",
              "      <td>50</td>\n",
              "    </tr>\n",
              "    <tr>\n",
              "      <th>8</th>\n",
              "      <td>80</td>\n",
              "      <td>70</td>\n",
              "      <td>50</td>\n",
              "      <td>70</td>\n",
              "      <td>80</td>\n",
              "      <td>20</td>\n",
              "      <td>40</td>\n",
              "      <td>40</td>\n",
              "      <td>50</td>\n",
              "    </tr>\n",
              "  </tbody>\n",
              "</table>\n",
              "</div>\n",
              "      <button class=\"colab-df-convert\" onclick=\"convertToInteractive('df-a7872cc4-144a-4dfa-ab64-3d18207ea7e1')\"\n",
              "              title=\"Convert this dataframe to an interactive table.\"\n",
              "              style=\"display:none;\">\n",
              "        \n",
              "  <svg xmlns=\"http://www.w3.org/2000/svg\" height=\"24px\"viewBox=\"0 0 24 24\"\n",
              "       width=\"24px\">\n",
              "    <path d=\"M0 0h24v24H0V0z\" fill=\"none\"/>\n",
              "    <path d=\"M18.56 5.44l.94 2.06.94-2.06 2.06-.94-2.06-.94-.94-2.06-.94 2.06-2.06.94zm-11 1L8.5 8.5l.94-2.06 2.06-.94-2.06-.94L8.5 2.5l-.94 2.06-2.06.94zm10 10l.94 2.06.94-2.06 2.06-.94-2.06-.94-.94-2.06-.94 2.06-2.06.94z\"/><path d=\"M17.41 7.96l-1.37-1.37c-.4-.4-.92-.59-1.43-.59-.52 0-1.04.2-1.43.59L10.3 9.45l-7.72 7.72c-.78.78-.78 2.05 0 2.83L4 21.41c.39.39.9.59 1.41.59.51 0 1.02-.2 1.41-.59l7.78-7.78 2.81-2.81c.8-.78.8-2.07 0-2.86zM5.41 20L4 18.59l7.72-7.72 1.47 1.35L5.41 20z\"/>\n",
              "  </svg>\n",
              "      </button>\n",
              "      \n",
              "  <style>\n",
              "    .colab-df-container {\n",
              "      display:flex;\n",
              "      flex-wrap:wrap;\n",
              "      gap: 12px;\n",
              "    }\n",
              "\n",
              "    .colab-df-convert {\n",
              "      background-color: #E8F0FE;\n",
              "      border: none;\n",
              "      border-radius: 50%;\n",
              "      cursor: pointer;\n",
              "      display: none;\n",
              "      fill: #1967D2;\n",
              "      height: 32px;\n",
              "      padding: 0 0 0 0;\n",
              "      width: 32px;\n",
              "    }\n",
              "\n",
              "    .colab-df-convert:hover {\n",
              "      background-color: #E2EBFA;\n",
              "      box-shadow: 0px 1px 2px rgba(60, 64, 67, 0.3), 0px 1px 3px 1px rgba(60, 64, 67, 0.15);\n",
              "      fill: #174EA6;\n",
              "    }\n",
              "\n",
              "    [theme=dark] .colab-df-convert {\n",
              "      background-color: #3B4455;\n",
              "      fill: #D2E3FC;\n",
              "    }\n",
              "\n",
              "    [theme=dark] .colab-df-convert:hover {\n",
              "      background-color: #434B5C;\n",
              "      box-shadow: 0px 1px 3px 1px rgba(0, 0, 0, 0.15);\n",
              "      filter: drop-shadow(0px 1px 2px rgba(0, 0, 0, 0.3));\n",
              "      fill: #FFFFFF;\n",
              "    }\n",
              "  </style>\n",
              "\n",
              "      <script>\n",
              "        const buttonEl =\n",
              "          document.querySelector('#df-a7872cc4-144a-4dfa-ab64-3d18207ea7e1 button.colab-df-convert');\n",
              "        buttonEl.style.display =\n",
              "          google.colab.kernel.accessAllowed ? 'block' : 'none';\n",
              "\n",
              "        async function convertToInteractive(key) {\n",
              "          const element = document.querySelector('#df-a7872cc4-144a-4dfa-ab64-3d18207ea7e1');\n",
              "          const dataTable =\n",
              "            await google.colab.kernel.invokeFunction('convertToInteractive',\n",
              "                                                     [key], {});\n",
              "          if (!dataTable) return;\n",
              "\n",
              "          const docLinkHtml = 'Like what you see? Visit the ' +\n",
              "            '<a target=\"_blank\" href=https://colab.research.google.com/notebooks/data_table.ipynb>data table notebook</a>'\n",
              "            + ' to learn more about interactive tables.';\n",
              "          element.innerHTML = '';\n",
              "          dataTable['output_type'] = 'display_data';\n",
              "          await google.colab.output.renderOutput(dataTable, element);\n",
              "          const docLink = document.createElement('div');\n",
              "          docLink.innerHTML = docLinkHtml;\n",
              "          element.appendChild(docLink);\n",
              "        }\n",
              "      </script>\n",
              "    </div>\n",
              "  </div>\n",
              "  "
            ]
          },
          "metadata": {},
          "execution_count": 46
        }
      ]
    },
    {
      "cell_type": "code",
      "source": [
        "tab_salary = np.array(df_salary)\n",
        "tab_salary"
      ],
      "metadata": {
        "colab": {
          "base_uri": "https://localhost:8080/"
        },
        "id": "EXXuHicFWjA_",
        "outputId": "a4855cac-14b5-4f62-a854-70ca2ca5a7ec"
      },
      "execution_count": 47,
      "outputs": [
        {
          "output_type": "execute_result",
          "data": {
            "text/plain": [
              "array([[ 50,  80,  90,  70,  40,  90,  20,  90,  70],\n",
              "       [ 90,  60,  30,  50,  80,  60,  50,  30,  30],\n",
              "       [ 20,  50,  70,  80,  40,  30,  70,  60,  80],\n",
              "       [ 70,  80,  60,  40,  30,  50,  80,  40,  40],\n",
              "       [100,  30,  50,  90,  50,  80,  40,  50,  30],\n",
              "       [ 30,  60,  40,  60,  20,  70,  60,  90,  80],\n",
              "       [ 60,  40,  20,  30,  60,  50,  50,  20,  40],\n",
              "       [ 40,  30,  80,  50,  70,  40,  30,  90,  50],\n",
              "       [ 80,  70,  50,  70,  80,  20,  40,  40,  50]])"
            ]
          },
          "metadata": {},
          "execution_count": 47
        }
      ]
    },
    {
      "cell_type": "code",
      "source": [
        "df_motivation = df_motivation_org.drop('Исполнители', axis=1)\n",
        "tab_motivation = np.array(df_motivation)\n",
        "tab_motivation"
      ],
      "metadata": {
        "colab": {
          "base_uri": "https://localhost:8080/"
        },
        "id": "IOWJ31aMbiQW",
        "outputId": "ac3bea68-6923-40a2-8fa0-5e8fed712d71"
      },
      "execution_count": 48,
      "outputs": [
        {
          "output_type": "execute_result",
          "data": {
            "text/plain": [
              "array([[90, 60, 50, 30, 50, 80, 40, 60, 70],\n",
              "       [50, 90, 30, 60, 80, 20, 40, 40, 20],\n",
              "       [70, 80, 50, 70, 40, 40, 20, 60, 40],\n",
              "       [40, 70, 60, 80, 30, 90, 50, 50, 80],\n",
              "       [70, 50, 90, 80, 40, 50, 30, 50, 20],\n",
              "       [50, 40, 80, 30, 70, 50, 90, 90, 90],\n",
              "       [30, 50, 20, 40, 60, 70, 80, 50, 20],\n",
              "       [60, 30, 40, 20, 20, 60, 20, 60, 60],\n",
              "       [90, 20, 70, 50, 40, 80, 60, 30, 80]])"
            ]
          },
          "metadata": {},
          "execution_count": 48
        }
      ]
    },
    {
      "cell_type": "markdown",
      "source": [
        "### Находим суммы значений для каждого столбца"
      ],
      "metadata": {
        "id": "-4SxHz_YeGjl"
      }
    },
    {
      "cell_type": "code",
      "source": [
        "sum_motivation = list(map(sum,zip(*tab_motivation)))\n",
        "sum_motivation"
      ],
      "metadata": {
        "colab": {
          "base_uri": "https://localhost:8080/"
        },
        "id": "IGTygAOvjOzT",
        "outputId": "a39370a1-9119-46a9-84e6-b10578b65875"
      },
      "execution_count": 49,
      "outputs": [
        {
          "output_type": "execute_result",
          "data": {
            "text/plain": [
              "[550, 490, 490, 460, 430, 540, 430, 490, 480]"
            ]
          },
          "metadata": {},
          "execution_count": 49
        }
      ]
    },
    {
      "cell_type": "code",
      "source": [
        "list_motivation = np.array(tab_motivation).tolist()\n",
        "list_salary = np.array(tab_salary).tolist()"
      ],
      "metadata": {
        "id": "91FHgP-Q4H3d"
      },
      "execution_count": 51,
      "outputs": []
    },
    {
      "cell_type": "code",
      "source": [
        "for i in range(len(list_salary)):\n",
        "  for j in range(len(list_salary)):\n",
        "    list_salary[j][i]=int(100-list_salary[j][i])\n",
        "print(np.copy(list_salary))"
      ],
      "metadata": {
        "colab": {
          "base_uri": "https://localhost:8080/"
        },
        "id": "TZviljpO1ouC",
        "outputId": "1627c536-742c-478e-ca70-94728dbd8442"
      },
      "execution_count": 52,
      "outputs": [
        {
          "output_type": "stream",
          "name": "stdout",
          "text": [
            "[[50 20 10 30 60 10 80 10 30]\n",
            " [10 40 70 50 20 40 50 70 70]\n",
            " [80 50 30 20 60 70 30 40 20]\n",
            " [30 20 40 60 70 50 20 60 60]\n",
            " [ 0 70 50 10 50 20 60 50 70]\n",
            " [70 40 60 40 80 30 40 10 20]\n",
            " [40 60 80 70 40 50 50 80 60]\n",
            " [60 70 20 50 30 60 70 10 50]\n",
            " [20 30 50 30 20 80 60 60 50]]\n"
          ]
        }
      ]
    },
    {
      "cell_type": "markdown",
      "source": [
        "### Производим нормализацию таблиц"
      ],
      "metadata": {
        "id": "8m1z_ou8juLt"
      }
    },
    {
      "cell_type": "code",
      "source": [
        "sum_salary = list(map(sum,zip(*list_salary)))\n",
        "sum_salary"
      ],
      "metadata": {
        "colab": {
          "base_uri": "https://localhost:8080/"
        },
        "id": "7rGav0mu2cli",
        "outputId": "d2d9f7d4-0d32-4fa7-f284-397d0610f321"
      },
      "execution_count": 16,
      "outputs": [
        {
          "output_type": "execute_result",
          "data": {
            "text/plain": [
              "[360, 400, 410, 360, 430, 410, 460, 390, 430]"
            ]
          },
          "metadata": {},
          "execution_count": 16
        }
      ]
    },
    {
      "cell_type": "code",
      "source": [
        "for i in range(len(list_salary)):\n",
        "  for j in range(len(list_salary)):\n",
        "    list_salary_temp[j][i]=float(list_salary[j][i])/float(sum_salary[i])\n",
        "print(np.copy(list_salary_temp))"
      ],
      "metadata": {
        "colab": {
          "base_uri": "https://localhost:8080/"
        },
        "id": "ratxIH7hjzIO",
        "outputId": "8ca86a4c-d15e-4eef-d646-f13bcb28aae2"
      },
      "execution_count": 17,
      "outputs": [
        {
          "output_type": "stream",
          "name": "stdout",
          "text": [
            "[[0.13888889 0.05       0.02439024 0.08333333 0.13953488 0.02439024\n",
            "  0.17391304 0.02564103 0.06976744]\n",
            " [0.02777778 0.1        0.17073171 0.13888889 0.04651163 0.09756098\n",
            "  0.10869565 0.17948718 0.1627907 ]\n",
            " [0.22222222 0.125      0.07317073 0.05555556 0.13953488 0.17073171\n",
            "  0.06521739 0.1025641  0.04651163]\n",
            " [0.08333333 0.05       0.09756098 0.16666667 0.1627907  0.12195122\n",
            "  0.04347826 0.15384615 0.13953488]\n",
            " [0.         0.175      0.12195122 0.02777778 0.11627907 0.04878049\n",
            "  0.13043478 0.12820513 0.1627907 ]\n",
            " [0.19444444 0.1        0.14634146 0.11111111 0.18604651 0.07317073\n",
            "  0.08695652 0.02564103 0.04651163]\n",
            " [0.11111111 0.15       0.19512195 0.19444444 0.09302326 0.12195122\n",
            "  0.10869565 0.20512821 0.13953488]\n",
            " [0.16666667 0.175      0.04878049 0.13888889 0.06976744 0.14634146\n",
            "  0.15217391 0.02564103 0.11627907]\n",
            " [0.05555556 0.075      0.12195122 0.08333333 0.04651163 0.19512195\n",
            "  0.13043478 0.15384615 0.11627907]]\n"
          ]
        }
      ]
    },
    {
      "cell_type": "code",
      "source": [
        "for i in range(len(list_salary)):\n",
        "  for j in range(len(list_salary)):\n",
        "    list_motivation[j][i]=float(list_motivation[j][i])/float(sum_motivation[i])\n",
        "print(np.copy(list_motivation))"
      ],
      "metadata": {
        "colab": {
          "base_uri": "https://localhost:8080/"
        },
        "id": "dRIG-4Xz0pb8",
        "outputId": "3359552a-af3e-4d57-c25a-de703323666c"
      },
      "execution_count": 18,
      "outputs": [
        {
          "output_type": "stream",
          "name": "stdout",
          "text": [
            "[[0.16363636 0.12244898 0.10204082 0.06521739 0.11627907 0.14814815\n",
            "  0.09302326 0.12244898 0.14583333]\n",
            " [0.09090909 0.18367347 0.06122449 0.13043478 0.18604651 0.03703704\n",
            "  0.09302326 0.08163265 0.04166667]\n",
            " [0.12727273 0.16326531 0.10204082 0.15217391 0.09302326 0.07407407\n",
            "  0.04651163 0.12244898 0.08333333]\n",
            " [0.07272727 0.14285714 0.12244898 0.17391304 0.06976744 0.16666667\n",
            "  0.11627907 0.10204082 0.16666667]\n",
            " [0.12727273 0.10204082 0.18367347 0.17391304 0.09302326 0.09259259\n",
            "  0.06976744 0.10204082 0.04166667]\n",
            " [0.09090909 0.08163265 0.16326531 0.06521739 0.1627907  0.09259259\n",
            "  0.20930233 0.18367347 0.1875    ]\n",
            " [0.05454545 0.10204082 0.04081633 0.08695652 0.13953488 0.12962963\n",
            "  0.18604651 0.10204082 0.04166667]\n",
            " [0.10909091 0.06122449 0.08163265 0.04347826 0.04651163 0.11111111\n",
            "  0.04651163 0.12244898 0.125     ]\n",
            " [0.16363636 0.04081633 0.14285714 0.10869565 0.09302326 0.14814815\n",
            "  0.13953488 0.06122449 0.16666667]]\n"
          ]
        }
      ]
    },
    {
      "cell_type": "markdown",
      "source": [
        "### Создаем таблицу для общих критериев"
      ],
      "metadata": {
        "id": "gScJaGHM5aYw"
      }
    },
    {
      "cell_type": "code",
      "source": [
        "list_comb = list_salary_temp\n",
        "for i in range(len(list_salary_temp)):\n",
        "  for j in range(len(list_salary_temp)):\n",
        "    list_comb[i][j]=(list_motivation[i][j]+list_salary_temp[i][j])/2\n",
        "\n",
        "print(np.copy(list_comb))"
      ],
      "metadata": {
        "colab": {
          "base_uri": "https://localhost:8080/"
        },
        "id": "cPIia8v95syc",
        "outputId": "1206afb8-ea3b-4e1a-998f-ca46a41cf37a"
      },
      "execution_count": 19,
      "outputs": [
        {
          "output_type": "stream",
          "name": "stdout",
          "text": [
            "[[0.15126263 0.08622449 0.06321553 0.07427536 0.12790698 0.0862692\n",
            "  0.13346815 0.074045   0.10780039]\n",
            " [0.05934343 0.14183673 0.1159781  0.13466184 0.11627907 0.06729901\n",
            "  0.10085945 0.13055992 0.10222868]\n",
            " [0.17474747 0.14413265 0.08760577 0.10386473 0.11627907 0.12240289\n",
            "  0.05586451 0.11250654 0.06492248]\n",
            " [0.0780303  0.09642857 0.11000498 0.17028986 0.11627907 0.14430894\n",
            "  0.07987867 0.12794349 0.15310078]\n",
            " [0.06363636 0.13852041 0.15281234 0.10084541 0.10465116 0.07068654\n",
            "  0.10010111 0.11512297 0.10222868]\n",
            " [0.14267677 0.09081633 0.15480338 0.08816425 0.1744186  0.08288166\n",
            "  0.14812942 0.10465725 0.11700581]\n",
            " [0.08282828 0.12602041 0.11796914 0.14070048 0.11627907 0.12579042\n",
            "  0.14737108 0.15358451 0.09060078]\n",
            " [0.13787879 0.11811224 0.06520657 0.09118357 0.05813953 0.12872629\n",
            "  0.09934277 0.074045   0.12063953]\n",
            " [0.10959596 0.05790816 0.13240418 0.09601449 0.06976744 0.17163505\n",
            "  0.13498483 0.10753532 0.14147287]]\n"
          ]
        }
      ]
    },
    {
      "cell_type": "markdown",
      "source": [
        "### Конвертируем все данные в словари, с которыми работает библиотека"
      ],
      "metadata": {
        "id": "39ChxIIAfG1_"
      }
    },
    {
      "cell_type": "code",
      "source": [
        "#https://stackoverflow.com/questions/26716616/convert-a-pandas-dataframe-to-a-dictionary\n",
        "\n",
        "isp1 = list_comb[0]\n",
        "isp2 = list_comb[1]\n",
        "isp3 = list_comb[2]\n",
        "isp4 = list_comb[3]\n",
        "isp5 = list_comb[4]\n",
        "isp6 = list_comb[5]\n",
        "isp7 = list_comb[6]\n",
        "isp8 = list_comb[7]\n",
        "isp9 = list_comb[8]\n",
        "\n",
        "\n",
        "res = pd.DataFrame([isp1, isp2, isp3, isp4, isp5, isp6, isp7, isp8, isp9], \n",
        "             columns=['Художник', 'Тестировщик', 'Сценарист', 'Композитор', 'Геймдизайнер', 'Маркетолог', 'Fake1', 'Fake2', 'Fake3'])"
      ],
      "metadata": {
        "id": "wopudmOGcByv"
      },
      "execution_count": 57,
      "outputs": []
    },
    {
      "cell_type": "code",
      "source": [
        "res"
      ],
      "metadata": {
        "colab": {
          "base_uri": "https://localhost:8080/",
          "height": 332
        },
        "id": "wxv3ChR2gCg1",
        "outputId": "27dc38d5-d9d3-4eae-a5c3-edb2247d5929"
      },
      "execution_count": 58,
      "outputs": [
        {
          "output_type": "execute_result",
          "data": {
            "text/plain": [
              "   Художник  Тестировщик  Сценарист  Композитор  Геймдизайнер  Маркетолог  \\\n",
              "0  0.151263     0.086224   0.063216    0.074275      0.127907    0.086269   \n",
              "1  0.059343     0.141837   0.115978    0.134662      0.116279    0.067299   \n",
              "2  0.174747     0.144133   0.087606    0.103865      0.116279    0.122403   \n",
              "3  0.078030     0.096429   0.110005    0.170290      0.116279    0.144309   \n",
              "4  0.063636     0.138520   0.152812    0.100845      0.104651    0.070687   \n",
              "5  0.142677     0.090816   0.154803    0.088164      0.174419    0.082882   \n",
              "6  0.082828     0.126020   0.117969    0.140700      0.116279    0.125790   \n",
              "7  0.137879     0.118112   0.065207    0.091184      0.058140    0.128726   \n",
              "8  0.109596     0.057908   0.132404    0.096014      0.069767    0.171635   \n",
              "\n",
              "      Fake1     Fake2     Fake3  \n",
              "0  0.133468  0.074045  0.107800  \n",
              "1  0.100859  0.130560  0.102229  \n",
              "2  0.055865  0.112507  0.064922  \n",
              "3  0.079879  0.127943  0.153101  \n",
              "4  0.100101  0.115123  0.102229  \n",
              "5  0.148129  0.104657  0.117006  \n",
              "6  0.147371  0.153585  0.090601  \n",
              "7  0.099343  0.074045  0.120640  \n",
              "8  0.134985  0.107535  0.141473  "
            ],
            "text/html": [
              "\n",
              "  <div id=\"df-d325131b-87e6-4b3e-9b77-fac01eb089f2\">\n",
              "    <div class=\"colab-df-container\">\n",
              "      <div>\n",
              "<style scoped>\n",
              "    .dataframe tbody tr th:only-of-type {\n",
              "        vertical-align: middle;\n",
              "    }\n",
              "\n",
              "    .dataframe tbody tr th {\n",
              "        vertical-align: top;\n",
              "    }\n",
              "\n",
              "    .dataframe thead th {\n",
              "        text-align: right;\n",
              "    }\n",
              "</style>\n",
              "<table border=\"1\" class=\"dataframe\">\n",
              "  <thead>\n",
              "    <tr style=\"text-align: right;\">\n",
              "      <th></th>\n",
              "      <th>Художник</th>\n",
              "      <th>Тестировщик</th>\n",
              "      <th>Сценарист</th>\n",
              "      <th>Композитор</th>\n",
              "      <th>Геймдизайнер</th>\n",
              "      <th>Маркетолог</th>\n",
              "      <th>Fake1</th>\n",
              "      <th>Fake2</th>\n",
              "      <th>Fake3</th>\n",
              "    </tr>\n",
              "  </thead>\n",
              "  <tbody>\n",
              "    <tr>\n",
              "      <th>0</th>\n",
              "      <td>0.151263</td>\n",
              "      <td>0.086224</td>\n",
              "      <td>0.063216</td>\n",
              "      <td>0.074275</td>\n",
              "      <td>0.127907</td>\n",
              "      <td>0.086269</td>\n",
              "      <td>0.133468</td>\n",
              "      <td>0.074045</td>\n",
              "      <td>0.107800</td>\n",
              "    </tr>\n",
              "    <tr>\n",
              "      <th>1</th>\n",
              "      <td>0.059343</td>\n",
              "      <td>0.141837</td>\n",
              "      <td>0.115978</td>\n",
              "      <td>0.134662</td>\n",
              "      <td>0.116279</td>\n",
              "      <td>0.067299</td>\n",
              "      <td>0.100859</td>\n",
              "      <td>0.130560</td>\n",
              "      <td>0.102229</td>\n",
              "    </tr>\n",
              "    <tr>\n",
              "      <th>2</th>\n",
              "      <td>0.174747</td>\n",
              "      <td>0.144133</td>\n",
              "      <td>0.087606</td>\n",
              "      <td>0.103865</td>\n",
              "      <td>0.116279</td>\n",
              "      <td>0.122403</td>\n",
              "      <td>0.055865</td>\n",
              "      <td>0.112507</td>\n",
              "      <td>0.064922</td>\n",
              "    </tr>\n",
              "    <tr>\n",
              "      <th>3</th>\n",
              "      <td>0.078030</td>\n",
              "      <td>0.096429</td>\n",
              "      <td>0.110005</td>\n",
              "      <td>0.170290</td>\n",
              "      <td>0.116279</td>\n",
              "      <td>0.144309</td>\n",
              "      <td>0.079879</td>\n",
              "      <td>0.127943</td>\n",
              "      <td>0.153101</td>\n",
              "    </tr>\n",
              "    <tr>\n",
              "      <th>4</th>\n",
              "      <td>0.063636</td>\n",
              "      <td>0.138520</td>\n",
              "      <td>0.152812</td>\n",
              "      <td>0.100845</td>\n",
              "      <td>0.104651</td>\n",
              "      <td>0.070687</td>\n",
              "      <td>0.100101</td>\n",
              "      <td>0.115123</td>\n",
              "      <td>0.102229</td>\n",
              "    </tr>\n",
              "    <tr>\n",
              "      <th>5</th>\n",
              "      <td>0.142677</td>\n",
              "      <td>0.090816</td>\n",
              "      <td>0.154803</td>\n",
              "      <td>0.088164</td>\n",
              "      <td>0.174419</td>\n",
              "      <td>0.082882</td>\n",
              "      <td>0.148129</td>\n",
              "      <td>0.104657</td>\n",
              "      <td>0.117006</td>\n",
              "    </tr>\n",
              "    <tr>\n",
              "      <th>6</th>\n",
              "      <td>0.082828</td>\n",
              "      <td>0.126020</td>\n",
              "      <td>0.117969</td>\n",
              "      <td>0.140700</td>\n",
              "      <td>0.116279</td>\n",
              "      <td>0.125790</td>\n",
              "      <td>0.147371</td>\n",
              "      <td>0.153585</td>\n",
              "      <td>0.090601</td>\n",
              "    </tr>\n",
              "    <tr>\n",
              "      <th>7</th>\n",
              "      <td>0.137879</td>\n",
              "      <td>0.118112</td>\n",
              "      <td>0.065207</td>\n",
              "      <td>0.091184</td>\n",
              "      <td>0.058140</td>\n",
              "      <td>0.128726</td>\n",
              "      <td>0.099343</td>\n",
              "      <td>0.074045</td>\n",
              "      <td>0.120640</td>\n",
              "    </tr>\n",
              "    <tr>\n",
              "      <th>8</th>\n",
              "      <td>0.109596</td>\n",
              "      <td>0.057908</td>\n",
              "      <td>0.132404</td>\n",
              "      <td>0.096014</td>\n",
              "      <td>0.069767</td>\n",
              "      <td>0.171635</td>\n",
              "      <td>0.134985</td>\n",
              "      <td>0.107535</td>\n",
              "      <td>0.141473</td>\n",
              "    </tr>\n",
              "  </tbody>\n",
              "</table>\n",
              "</div>\n",
              "      <button class=\"colab-df-convert\" onclick=\"convertToInteractive('df-d325131b-87e6-4b3e-9b77-fac01eb089f2')\"\n",
              "              title=\"Convert this dataframe to an interactive table.\"\n",
              "              style=\"display:none;\">\n",
              "        \n",
              "  <svg xmlns=\"http://www.w3.org/2000/svg\" height=\"24px\"viewBox=\"0 0 24 24\"\n",
              "       width=\"24px\">\n",
              "    <path d=\"M0 0h24v24H0V0z\" fill=\"none\"/>\n",
              "    <path d=\"M18.56 5.44l.94 2.06.94-2.06 2.06-.94-2.06-.94-.94-2.06-.94 2.06-2.06.94zm-11 1L8.5 8.5l.94-2.06 2.06-.94-2.06-.94L8.5 2.5l-.94 2.06-2.06.94zm10 10l.94 2.06.94-2.06 2.06-.94-2.06-.94-.94-2.06-.94 2.06-2.06.94z\"/><path d=\"M17.41 7.96l-1.37-1.37c-.4-.4-.92-.59-1.43-.59-.52 0-1.04.2-1.43.59L10.3 9.45l-7.72 7.72c-.78.78-.78 2.05 0 2.83L4 21.41c.39.39.9.59 1.41.59.51 0 1.02-.2 1.41-.59l7.78-7.78 2.81-2.81c.8-.78.8-2.07 0-2.86zM5.41 20L4 18.59l7.72-7.72 1.47 1.35L5.41 20z\"/>\n",
              "  </svg>\n",
              "      </button>\n",
              "      \n",
              "  <style>\n",
              "    .colab-df-container {\n",
              "      display:flex;\n",
              "      flex-wrap:wrap;\n",
              "      gap: 12px;\n",
              "    }\n",
              "\n",
              "    .colab-df-convert {\n",
              "      background-color: #E8F0FE;\n",
              "      border: none;\n",
              "      border-radius: 50%;\n",
              "      cursor: pointer;\n",
              "      display: none;\n",
              "      fill: #1967D2;\n",
              "      height: 32px;\n",
              "      padding: 0 0 0 0;\n",
              "      width: 32px;\n",
              "    }\n",
              "\n",
              "    .colab-df-convert:hover {\n",
              "      background-color: #E2EBFA;\n",
              "      box-shadow: 0px 1px 2px rgba(60, 64, 67, 0.3), 0px 1px 3px 1px rgba(60, 64, 67, 0.15);\n",
              "      fill: #174EA6;\n",
              "    }\n",
              "\n",
              "    [theme=dark] .colab-df-convert {\n",
              "      background-color: #3B4455;\n",
              "      fill: #D2E3FC;\n",
              "    }\n",
              "\n",
              "    [theme=dark] .colab-df-convert:hover {\n",
              "      background-color: #434B5C;\n",
              "      box-shadow: 0px 1px 3px 1px rgba(0, 0, 0, 0.15);\n",
              "      filter: drop-shadow(0px 1px 2px rgba(0, 0, 0, 0.3));\n",
              "      fill: #FFFFFF;\n",
              "    }\n",
              "  </style>\n",
              "\n",
              "      <script>\n",
              "        const buttonEl =\n",
              "          document.querySelector('#df-d325131b-87e6-4b3e-9b77-fac01eb089f2 button.colab-df-convert');\n",
              "        buttonEl.style.display =\n",
              "          google.colab.kernel.accessAllowed ? 'block' : 'none';\n",
              "\n",
              "        async function convertToInteractive(key) {\n",
              "          const element = document.querySelector('#df-d325131b-87e6-4b3e-9b77-fac01eb089f2');\n",
              "          const dataTable =\n",
              "            await google.colab.kernel.invokeFunction('convertToInteractive',\n",
              "                                                     [key], {});\n",
              "          if (!dataTable) return;\n",
              "\n",
              "          const docLinkHtml = 'Like what you see? Visit the ' +\n",
              "            '<a target=\"_blank\" href=https://colab.research.google.com/notebooks/data_table.ipynb>data table notebook</a>'\n",
              "            + ' to learn more about interactive tables.';\n",
              "          element.innerHTML = '';\n",
              "          dataTable['output_type'] = 'display_data';\n",
              "          await google.colab.output.renderOutput(dataTable, element);\n",
              "          const docLink = document.createElement('div');\n",
              "          docLink.innerHTML = docLinkHtml;\n",
              "          element.appendChild(docLink);\n",
              "        }\n",
              "      </script>\n",
              "    </div>\n",
              "  </div>\n",
              "  "
            ]
          },
          "metadata": {},
          "execution_count": 58
        }
      ]
    },
    {
      "cell_type": "code",
      "source": [
        "# New column to be added\n",
        "new_col = ['Исполнитель1', 'Исполнитель2', 'Исполнитель3', 'Исполнитель4', 'Исполнитель5', 'Исполнитель6', 'Исполнитель7', 'Исполнитель8', 'Исполнитель9']\n",
        " \n",
        "# Inserting the column at the\n",
        "# beginning in the DataFrame\n",
        "res.insert(loc = 0,\n",
        "           column = 'Исполнители',\n",
        "          value = new_col)\n",
        "# show the dataframe\n",
        "res"
      ],
      "metadata": {
        "colab": {
          "base_uri": "https://localhost:8080/",
          "height": 332
        },
        "id": "1t-8o-xXkY0F",
        "outputId": "a0d60515-8f63-4156-81b6-d73d6d506cfd"
      },
      "execution_count": 59,
      "outputs": [
        {
          "output_type": "execute_result",
          "data": {
            "text/plain": [
              "    Исполнители  Художник  Тестировщик  Сценарист  Композитор  Геймдизайнер  \\\n",
              "0  Исполнитель1  0.151263     0.086224   0.063216    0.074275      0.127907   \n",
              "1  Исполнитель2  0.059343     0.141837   0.115978    0.134662      0.116279   \n",
              "2  Исполнитель3  0.174747     0.144133   0.087606    0.103865      0.116279   \n",
              "3  Исполнитель4  0.078030     0.096429   0.110005    0.170290      0.116279   \n",
              "4  Исполнитель5  0.063636     0.138520   0.152812    0.100845      0.104651   \n",
              "5  Исполнитель6  0.142677     0.090816   0.154803    0.088164      0.174419   \n",
              "6  Исполнитель7  0.082828     0.126020   0.117969    0.140700      0.116279   \n",
              "7  Исполнитель8  0.137879     0.118112   0.065207    0.091184      0.058140   \n",
              "8  Исполнитель9  0.109596     0.057908   0.132404    0.096014      0.069767   \n",
              "\n",
              "   Маркетолог     Fake1     Fake2     Fake3  \n",
              "0    0.086269  0.133468  0.074045  0.107800  \n",
              "1    0.067299  0.100859  0.130560  0.102229  \n",
              "2    0.122403  0.055865  0.112507  0.064922  \n",
              "3    0.144309  0.079879  0.127943  0.153101  \n",
              "4    0.070687  0.100101  0.115123  0.102229  \n",
              "5    0.082882  0.148129  0.104657  0.117006  \n",
              "6    0.125790  0.147371  0.153585  0.090601  \n",
              "7    0.128726  0.099343  0.074045  0.120640  \n",
              "8    0.171635  0.134985  0.107535  0.141473  "
            ],
            "text/html": [
              "\n",
              "  <div id=\"df-c5ab8d11-596a-45ac-b37b-0c4bc36a5248\">\n",
              "    <div class=\"colab-df-container\">\n",
              "      <div>\n",
              "<style scoped>\n",
              "    .dataframe tbody tr th:only-of-type {\n",
              "        vertical-align: middle;\n",
              "    }\n",
              "\n",
              "    .dataframe tbody tr th {\n",
              "        vertical-align: top;\n",
              "    }\n",
              "\n",
              "    .dataframe thead th {\n",
              "        text-align: right;\n",
              "    }\n",
              "</style>\n",
              "<table border=\"1\" class=\"dataframe\">\n",
              "  <thead>\n",
              "    <tr style=\"text-align: right;\">\n",
              "      <th></th>\n",
              "      <th>Исполнители</th>\n",
              "      <th>Художник</th>\n",
              "      <th>Тестировщик</th>\n",
              "      <th>Сценарист</th>\n",
              "      <th>Композитор</th>\n",
              "      <th>Геймдизайнер</th>\n",
              "      <th>Маркетолог</th>\n",
              "      <th>Fake1</th>\n",
              "      <th>Fake2</th>\n",
              "      <th>Fake3</th>\n",
              "    </tr>\n",
              "  </thead>\n",
              "  <tbody>\n",
              "    <tr>\n",
              "      <th>0</th>\n",
              "      <td>Исполнитель1</td>\n",
              "      <td>0.151263</td>\n",
              "      <td>0.086224</td>\n",
              "      <td>0.063216</td>\n",
              "      <td>0.074275</td>\n",
              "      <td>0.127907</td>\n",
              "      <td>0.086269</td>\n",
              "      <td>0.133468</td>\n",
              "      <td>0.074045</td>\n",
              "      <td>0.107800</td>\n",
              "    </tr>\n",
              "    <tr>\n",
              "      <th>1</th>\n",
              "      <td>Исполнитель2</td>\n",
              "      <td>0.059343</td>\n",
              "      <td>0.141837</td>\n",
              "      <td>0.115978</td>\n",
              "      <td>0.134662</td>\n",
              "      <td>0.116279</td>\n",
              "      <td>0.067299</td>\n",
              "      <td>0.100859</td>\n",
              "      <td>0.130560</td>\n",
              "      <td>0.102229</td>\n",
              "    </tr>\n",
              "    <tr>\n",
              "      <th>2</th>\n",
              "      <td>Исполнитель3</td>\n",
              "      <td>0.174747</td>\n",
              "      <td>0.144133</td>\n",
              "      <td>0.087606</td>\n",
              "      <td>0.103865</td>\n",
              "      <td>0.116279</td>\n",
              "      <td>0.122403</td>\n",
              "      <td>0.055865</td>\n",
              "      <td>0.112507</td>\n",
              "      <td>0.064922</td>\n",
              "    </tr>\n",
              "    <tr>\n",
              "      <th>3</th>\n",
              "      <td>Исполнитель4</td>\n",
              "      <td>0.078030</td>\n",
              "      <td>0.096429</td>\n",
              "      <td>0.110005</td>\n",
              "      <td>0.170290</td>\n",
              "      <td>0.116279</td>\n",
              "      <td>0.144309</td>\n",
              "      <td>0.079879</td>\n",
              "      <td>0.127943</td>\n",
              "      <td>0.153101</td>\n",
              "    </tr>\n",
              "    <tr>\n",
              "      <th>4</th>\n",
              "      <td>Исполнитель5</td>\n",
              "      <td>0.063636</td>\n",
              "      <td>0.138520</td>\n",
              "      <td>0.152812</td>\n",
              "      <td>0.100845</td>\n",
              "      <td>0.104651</td>\n",
              "      <td>0.070687</td>\n",
              "      <td>0.100101</td>\n",
              "      <td>0.115123</td>\n",
              "      <td>0.102229</td>\n",
              "    </tr>\n",
              "    <tr>\n",
              "      <th>5</th>\n",
              "      <td>Исполнитель6</td>\n",
              "      <td>0.142677</td>\n",
              "      <td>0.090816</td>\n",
              "      <td>0.154803</td>\n",
              "      <td>0.088164</td>\n",
              "      <td>0.174419</td>\n",
              "      <td>0.082882</td>\n",
              "      <td>0.148129</td>\n",
              "      <td>0.104657</td>\n",
              "      <td>0.117006</td>\n",
              "    </tr>\n",
              "    <tr>\n",
              "      <th>6</th>\n",
              "      <td>Исполнитель7</td>\n",
              "      <td>0.082828</td>\n",
              "      <td>0.126020</td>\n",
              "      <td>0.117969</td>\n",
              "      <td>0.140700</td>\n",
              "      <td>0.116279</td>\n",
              "      <td>0.125790</td>\n",
              "      <td>0.147371</td>\n",
              "      <td>0.153585</td>\n",
              "      <td>0.090601</td>\n",
              "    </tr>\n",
              "    <tr>\n",
              "      <th>7</th>\n",
              "      <td>Исполнитель8</td>\n",
              "      <td>0.137879</td>\n",
              "      <td>0.118112</td>\n",
              "      <td>0.065207</td>\n",
              "      <td>0.091184</td>\n",
              "      <td>0.058140</td>\n",
              "      <td>0.128726</td>\n",
              "      <td>0.099343</td>\n",
              "      <td>0.074045</td>\n",
              "      <td>0.120640</td>\n",
              "    </tr>\n",
              "    <tr>\n",
              "      <th>8</th>\n",
              "      <td>Исполнитель9</td>\n",
              "      <td>0.109596</td>\n",
              "      <td>0.057908</td>\n",
              "      <td>0.132404</td>\n",
              "      <td>0.096014</td>\n",
              "      <td>0.069767</td>\n",
              "      <td>0.171635</td>\n",
              "      <td>0.134985</td>\n",
              "      <td>0.107535</td>\n",
              "      <td>0.141473</td>\n",
              "    </tr>\n",
              "  </tbody>\n",
              "</table>\n",
              "</div>\n",
              "      <button class=\"colab-df-convert\" onclick=\"convertToInteractive('df-c5ab8d11-596a-45ac-b37b-0c4bc36a5248')\"\n",
              "              title=\"Convert this dataframe to an interactive table.\"\n",
              "              style=\"display:none;\">\n",
              "        \n",
              "  <svg xmlns=\"http://www.w3.org/2000/svg\" height=\"24px\"viewBox=\"0 0 24 24\"\n",
              "       width=\"24px\">\n",
              "    <path d=\"M0 0h24v24H0V0z\" fill=\"none\"/>\n",
              "    <path d=\"M18.56 5.44l.94 2.06.94-2.06 2.06-.94-2.06-.94-.94-2.06-.94 2.06-2.06.94zm-11 1L8.5 8.5l.94-2.06 2.06-.94-2.06-.94L8.5 2.5l-.94 2.06-2.06.94zm10 10l.94 2.06.94-2.06 2.06-.94-2.06-.94-.94-2.06-.94 2.06-2.06.94z\"/><path d=\"M17.41 7.96l-1.37-1.37c-.4-.4-.92-.59-1.43-.59-.52 0-1.04.2-1.43.59L10.3 9.45l-7.72 7.72c-.78.78-.78 2.05 0 2.83L4 21.41c.39.39.9.59 1.41.59.51 0 1.02-.2 1.41-.59l7.78-7.78 2.81-2.81c.8-.78.8-2.07 0-2.86zM5.41 20L4 18.59l7.72-7.72 1.47 1.35L5.41 20z\"/>\n",
              "  </svg>\n",
              "      </button>\n",
              "      \n",
              "  <style>\n",
              "    .colab-df-container {\n",
              "      display:flex;\n",
              "      flex-wrap:wrap;\n",
              "      gap: 12px;\n",
              "    }\n",
              "\n",
              "    .colab-df-convert {\n",
              "      background-color: #E8F0FE;\n",
              "      border: none;\n",
              "      border-radius: 50%;\n",
              "      cursor: pointer;\n",
              "      display: none;\n",
              "      fill: #1967D2;\n",
              "      height: 32px;\n",
              "      padding: 0 0 0 0;\n",
              "      width: 32px;\n",
              "    }\n",
              "\n",
              "    .colab-df-convert:hover {\n",
              "      background-color: #E2EBFA;\n",
              "      box-shadow: 0px 1px 2px rgba(60, 64, 67, 0.3), 0px 1px 3px 1px rgba(60, 64, 67, 0.15);\n",
              "      fill: #174EA6;\n",
              "    }\n",
              "\n",
              "    [theme=dark] .colab-df-convert {\n",
              "      background-color: #3B4455;\n",
              "      fill: #D2E3FC;\n",
              "    }\n",
              "\n",
              "    [theme=dark] .colab-df-convert:hover {\n",
              "      background-color: #434B5C;\n",
              "      box-shadow: 0px 1px 3px 1px rgba(0, 0, 0, 0.15);\n",
              "      filter: drop-shadow(0px 1px 2px rgba(0, 0, 0, 0.3));\n",
              "      fill: #FFFFFF;\n",
              "    }\n",
              "  </style>\n",
              "\n",
              "      <script>\n",
              "        const buttonEl =\n",
              "          document.querySelector('#df-c5ab8d11-596a-45ac-b37b-0c4bc36a5248 button.colab-df-convert');\n",
              "        buttonEl.style.display =\n",
              "          google.colab.kernel.accessAllowed ? 'block' : 'none';\n",
              "\n",
              "        async function convertToInteractive(key) {\n",
              "          const element = document.querySelector('#df-c5ab8d11-596a-45ac-b37b-0c4bc36a5248');\n",
              "          const dataTable =\n",
              "            await google.colab.kernel.invokeFunction('convertToInteractive',\n",
              "                                                     [key], {});\n",
              "          if (!dataTable) return;\n",
              "\n",
              "          const docLinkHtml = 'Like what you see? Visit the ' +\n",
              "            '<a target=\"_blank\" href=https://colab.research.google.com/notebooks/data_table.ipynb>data table notebook</a>'\n",
              "            + ' to learn more about interactive tables.';\n",
              "          element.innerHTML = '';\n",
              "          dataTable['output_type'] = 'display_data';\n",
              "          await google.colab.output.renderOutput(dataTable, element);\n",
              "          const docLink = document.createElement('div');\n",
              "          docLink.innerHTML = docLinkHtml;\n",
              "          element.appendChild(docLink);\n",
              "        }\n",
              "      </script>\n",
              "    </div>\n",
              "  </div>\n",
              "  "
            ]
          },
          "metadata": {},
          "execution_count": 59
        }
      ]
    },
    {
      "cell_type": "code",
      "source": [
        "res = res.set_index('Исполнители')\n",
        "res.index.names = [None]\n",
        "dict_comb = res.to_dict('index')\n",
        "dict_comb"
      ],
      "metadata": {
        "colab": {
          "base_uri": "https://localhost:8080/"
        },
        "id": "1FXi60RClZ6b",
        "outputId": "ce6bb0a9-9732-4e6e-99bb-f313de9f5a83"
      },
      "execution_count": 60,
      "outputs": [
        {
          "output_type": "execute_result",
          "data": {
            "text/plain": [
              "{'Исполнитель1': {'Художник': 0.15126262626262627,\n",
              "  'Тестировщик': 0.08622448979591837,\n",
              "  'Сценарист': 0.06321553011448482,\n",
              "  'Композитор': 0.07427536231884058,\n",
              "  'Геймдизайнер': 0.12790697674418605,\n",
              "  'Маркетолог': 0.08626919602529358,\n",
              "  'Fake1': 0.13346814964610718,\n",
              "  'Fake2': 0.07404500261643118,\n",
              "  'Fake3': 0.10780038759689922},\n",
              " 'Исполнитель2': {'Художник': 0.059343434343434344,\n",
              "  'Тестировщик': 0.14183673469387756,\n",
              "  'Сценарист': 0.11597809855649577,\n",
              "  'Композитор': 0.13466183574879226,\n",
              "  'Геймдизайнер': 0.11627906976744186,\n",
              "  'Маркетолог': 0.06729900632339657,\n",
              "  'Fake1': 0.10085945399393326,\n",
              "  'Fake2': 0.130559916274202,\n",
              "  'Fake3': 0.10222868217054264},\n",
              " 'Исполнитель3': {'Художник': 0.17474747474747473,\n",
              "  'Тестировщик': 0.14413265306122447,\n",
              "  'Сценарист': 0.08760577401692385,\n",
              "  'Композитор': 0.10386473429951691,\n",
              "  'Геймдизайнер': 0.11627906976744186,\n",
              "  'Маркетолог': 0.12240289069557363,\n",
              "  'Fake1': 0.055864509605662284,\n",
              "  'Fake2': 0.11250654107796965,\n",
              "  'Fake3': 0.06492248062015504},\n",
              " 'Исполнитель4': {'Художник': 0.07803030303030303,\n",
              "  'Тестировщик': 0.09642857142857142,\n",
              "  'Сценарист': 0.11000497760079642,\n",
              "  'Композитор': 0.17028985507246375,\n",
              "  'Геймдизайнер': 0.11627906976744187,\n",
              "  'Маркетолог': 0.14430894308943087,\n",
              "  'Fake1': 0.07987866531850354,\n",
              "  'Fake2': 0.12794348508634223,\n",
              "  'Fake3': 0.15310077519379844},\n",
              " 'Исполнитель5': {'Художник': 0.06363636363636363,\n",
              "  'Тестировщик': 0.1385204081632653,\n",
              "  'Сценарист': 0.1528123444499751,\n",
              "  'Композитор': 0.10084541062801933,\n",
              "  'Геймдизайнер': 0.10465116279069767,\n",
              "  'Маркетолог': 0.07068654019873533,\n",
              "  'Fake1': 0.10010111223458037,\n",
              "  'Fake2': 0.1151229722658294,\n",
              "  'Fake3': 0.10222868217054264},\n",
              " 'Исполнитель6': {'Художник': 0.14267676767676768,\n",
              "  'Тестировщик': 0.09081632653061225,\n",
              "  'Сценарист': 0.15480338476854155,\n",
              "  'Композитор': 0.08816425120772947,\n",
              "  'Геймдизайнер': 0.1744186046511628,\n",
              "  'Маркетолог': 0.08288166214995482,\n",
              "  'Fake1': 0.14812942366026288,\n",
              "  'Fake2': 0.10465724751439037,\n",
              "  'Fake3': 0.11700581395348837},\n",
              " 'Исполнитель7': {'Художник': 0.08282828282828282,\n",
              "  'Тестировщик': 0.12602040816326532,\n",
              "  'Сценарист': 0.11796913887506222,\n",
              "  'Композитор': 0.14070048309178745,\n",
              "  'Геймдизайнер': 0.11627906976744186,\n",
              "  'Маркетолог': 0.12579042457091238,\n",
              "  'Fake1': 0.14737108190091,\n",
              "  'Fake2': 0.15358451072736787,\n",
              "  'Fake3': 0.09060077519379844},\n",
              " 'Исполнитель8': {'Художник': 0.13787878787878788,\n",
              "  'Тестировщик': 0.11811224489795918,\n",
              "  'Сценарист': 0.06520657043305127,\n",
              "  'Композитор': 0.09118357487922706,\n",
              "  'Геймдизайнер': 0.05813953488372093,\n",
              "  'Маркетолог': 0.1287262872628726,\n",
              "  'Fake1': 0.09934277047522751,\n",
              "  'Fake2': 0.07404500261643118,\n",
              "  'Fake3': 0.12063953488372092},\n",
              " 'Исполнитель9': {'Художник': 0.1095959595959596,\n",
              "  'Тестировщик': 0.05790816326530612,\n",
              "  'Сценарист': 0.13240418118466898,\n",
              "  'Композитор': 0.09601449275362318,\n",
              "  'Геймдизайнер': 0.06976744186046512,\n",
              "  'Маркетолог': 0.17163504968383017,\n",
              "  'Fake1': 0.13498483316481294,\n",
              "  'Fake2': 0.10753532182103612,\n",
              "  'Fake3': 0.14147286821705427}}"
            ]
          },
          "metadata": {},
          "execution_count": 60
        }
      ]
    },
    {
      "cell_type": "code",
      "source": [
        "isp1 = list_salary[0]\n",
        "isp2 = list_salary[1]\n",
        "isp3 = list_salary[2]\n",
        "isp4 = list_salary[3]\n",
        "isp5 = list_salary[4]\n",
        "isp6 = list_salary[5]\n",
        "isp7 = list_salary[6]\n",
        "isp8 = list_salary[7]\n",
        "isp9 = list_salary[8]\n",
        "\n",
        "\n",
        "df_salary = pd.DataFrame([isp1, isp2, isp3, isp4, isp5, isp6, isp7, isp8, isp9], \n",
        "             columns=['Художник', 'Тестировщик', 'Сценарист', 'Композитор', 'Геймдизайнер', 'Маркетолог', 'Fake1', 'Fake2', 'Fake3'])\n",
        "new_col = ['Исполнитель1', 'Исполнитель2', 'Исполнитель3', 'Исполнитель4', 'Исполнитель5', 'Исполнитель6', 'Исполнитель7', 'Исполнитель8', 'Исполнитель9']\n",
        " \n",
        "df_salary.insert(loc = 0,\n",
        "           column = 'Исполнители',\n",
        "          value = new_col)\n",
        "\n",
        "df_salary"
      ],
      "metadata": {
        "colab": {
          "base_uri": "https://localhost:8080/",
          "height": 332
        },
        "id": "CqRBsCRco34J",
        "outputId": "8b359185-1d00-49db-d54d-7dae610532b9"
      },
      "execution_count": 53,
      "outputs": [
        {
          "output_type": "execute_result",
          "data": {
            "text/plain": [
              "    Исполнители  Художник  Тестировщик  Сценарист  Композитор  Геймдизайнер  \\\n",
              "0  Исполнитель1        50           20         10          30            60   \n",
              "1  Исполнитель2        10           40         70          50            20   \n",
              "2  Исполнитель3        80           50         30          20            60   \n",
              "3  Исполнитель4        30           20         40          60            70   \n",
              "4  Исполнитель5         0           70         50          10            50   \n",
              "5  Исполнитель6        70           40         60          40            80   \n",
              "6  Исполнитель7        40           60         80          70            40   \n",
              "7  Исполнитель8        60           70         20          50            30   \n",
              "8  Исполнитель9        20           30         50          30            20   \n",
              "\n",
              "   Маркетолог  Fake1  Fake2  Fake3  \n",
              "0          10     80     10     30  \n",
              "1          40     50     70     70  \n",
              "2          70     30     40     20  \n",
              "3          50     20     60     60  \n",
              "4          20     60     50     70  \n",
              "5          30     40     10     20  \n",
              "6          50     50     80     60  \n",
              "7          60     70     10     50  \n",
              "8          80     60     60     50  "
            ],
            "text/html": [
              "\n",
              "  <div id=\"df-0050670c-64e1-4a2c-8f78-82b5b730c3bc\">\n",
              "    <div class=\"colab-df-container\">\n",
              "      <div>\n",
              "<style scoped>\n",
              "    .dataframe tbody tr th:only-of-type {\n",
              "        vertical-align: middle;\n",
              "    }\n",
              "\n",
              "    .dataframe tbody tr th {\n",
              "        vertical-align: top;\n",
              "    }\n",
              "\n",
              "    .dataframe thead th {\n",
              "        text-align: right;\n",
              "    }\n",
              "</style>\n",
              "<table border=\"1\" class=\"dataframe\">\n",
              "  <thead>\n",
              "    <tr style=\"text-align: right;\">\n",
              "      <th></th>\n",
              "      <th>Исполнители</th>\n",
              "      <th>Художник</th>\n",
              "      <th>Тестировщик</th>\n",
              "      <th>Сценарист</th>\n",
              "      <th>Композитор</th>\n",
              "      <th>Геймдизайнер</th>\n",
              "      <th>Маркетолог</th>\n",
              "      <th>Fake1</th>\n",
              "      <th>Fake2</th>\n",
              "      <th>Fake3</th>\n",
              "    </tr>\n",
              "  </thead>\n",
              "  <tbody>\n",
              "    <tr>\n",
              "      <th>0</th>\n",
              "      <td>Исполнитель1</td>\n",
              "      <td>50</td>\n",
              "      <td>20</td>\n",
              "      <td>10</td>\n",
              "      <td>30</td>\n",
              "      <td>60</td>\n",
              "      <td>10</td>\n",
              "      <td>80</td>\n",
              "      <td>10</td>\n",
              "      <td>30</td>\n",
              "    </tr>\n",
              "    <tr>\n",
              "      <th>1</th>\n",
              "      <td>Исполнитель2</td>\n",
              "      <td>10</td>\n",
              "      <td>40</td>\n",
              "      <td>70</td>\n",
              "      <td>50</td>\n",
              "      <td>20</td>\n",
              "      <td>40</td>\n",
              "      <td>50</td>\n",
              "      <td>70</td>\n",
              "      <td>70</td>\n",
              "    </tr>\n",
              "    <tr>\n",
              "      <th>2</th>\n",
              "      <td>Исполнитель3</td>\n",
              "      <td>80</td>\n",
              "      <td>50</td>\n",
              "      <td>30</td>\n",
              "      <td>20</td>\n",
              "      <td>60</td>\n",
              "      <td>70</td>\n",
              "      <td>30</td>\n",
              "      <td>40</td>\n",
              "      <td>20</td>\n",
              "    </tr>\n",
              "    <tr>\n",
              "      <th>3</th>\n",
              "      <td>Исполнитель4</td>\n",
              "      <td>30</td>\n",
              "      <td>20</td>\n",
              "      <td>40</td>\n",
              "      <td>60</td>\n",
              "      <td>70</td>\n",
              "      <td>50</td>\n",
              "      <td>20</td>\n",
              "      <td>60</td>\n",
              "      <td>60</td>\n",
              "    </tr>\n",
              "    <tr>\n",
              "      <th>4</th>\n",
              "      <td>Исполнитель5</td>\n",
              "      <td>0</td>\n",
              "      <td>70</td>\n",
              "      <td>50</td>\n",
              "      <td>10</td>\n",
              "      <td>50</td>\n",
              "      <td>20</td>\n",
              "      <td>60</td>\n",
              "      <td>50</td>\n",
              "      <td>70</td>\n",
              "    </tr>\n",
              "    <tr>\n",
              "      <th>5</th>\n",
              "      <td>Исполнитель6</td>\n",
              "      <td>70</td>\n",
              "      <td>40</td>\n",
              "      <td>60</td>\n",
              "      <td>40</td>\n",
              "      <td>80</td>\n",
              "      <td>30</td>\n",
              "      <td>40</td>\n",
              "      <td>10</td>\n",
              "      <td>20</td>\n",
              "    </tr>\n",
              "    <tr>\n",
              "      <th>6</th>\n",
              "      <td>Исполнитель7</td>\n",
              "      <td>40</td>\n",
              "      <td>60</td>\n",
              "      <td>80</td>\n",
              "      <td>70</td>\n",
              "      <td>40</td>\n",
              "      <td>50</td>\n",
              "      <td>50</td>\n",
              "      <td>80</td>\n",
              "      <td>60</td>\n",
              "    </tr>\n",
              "    <tr>\n",
              "      <th>7</th>\n",
              "      <td>Исполнитель8</td>\n",
              "      <td>60</td>\n",
              "      <td>70</td>\n",
              "      <td>20</td>\n",
              "      <td>50</td>\n",
              "      <td>30</td>\n",
              "      <td>60</td>\n",
              "      <td>70</td>\n",
              "      <td>10</td>\n",
              "      <td>50</td>\n",
              "    </tr>\n",
              "    <tr>\n",
              "      <th>8</th>\n",
              "      <td>Исполнитель9</td>\n",
              "      <td>20</td>\n",
              "      <td>30</td>\n",
              "      <td>50</td>\n",
              "      <td>30</td>\n",
              "      <td>20</td>\n",
              "      <td>80</td>\n",
              "      <td>60</td>\n",
              "      <td>60</td>\n",
              "      <td>50</td>\n",
              "    </tr>\n",
              "  </tbody>\n",
              "</table>\n",
              "</div>\n",
              "      <button class=\"colab-df-convert\" onclick=\"convertToInteractive('df-0050670c-64e1-4a2c-8f78-82b5b730c3bc')\"\n",
              "              title=\"Convert this dataframe to an interactive table.\"\n",
              "              style=\"display:none;\">\n",
              "        \n",
              "  <svg xmlns=\"http://www.w3.org/2000/svg\" height=\"24px\"viewBox=\"0 0 24 24\"\n",
              "       width=\"24px\">\n",
              "    <path d=\"M0 0h24v24H0V0z\" fill=\"none\"/>\n",
              "    <path d=\"M18.56 5.44l.94 2.06.94-2.06 2.06-.94-2.06-.94-.94-2.06-.94 2.06-2.06.94zm-11 1L8.5 8.5l.94-2.06 2.06-.94-2.06-.94L8.5 2.5l-.94 2.06-2.06.94zm10 10l.94 2.06.94-2.06 2.06-.94-2.06-.94-.94-2.06-.94 2.06-2.06.94z\"/><path d=\"M17.41 7.96l-1.37-1.37c-.4-.4-.92-.59-1.43-.59-.52 0-1.04.2-1.43.59L10.3 9.45l-7.72 7.72c-.78.78-.78 2.05 0 2.83L4 21.41c.39.39.9.59 1.41.59.51 0 1.02-.2 1.41-.59l7.78-7.78 2.81-2.81c.8-.78.8-2.07 0-2.86zM5.41 20L4 18.59l7.72-7.72 1.47 1.35L5.41 20z\"/>\n",
              "  </svg>\n",
              "      </button>\n",
              "      \n",
              "  <style>\n",
              "    .colab-df-container {\n",
              "      display:flex;\n",
              "      flex-wrap:wrap;\n",
              "      gap: 12px;\n",
              "    }\n",
              "\n",
              "    .colab-df-convert {\n",
              "      background-color: #E8F0FE;\n",
              "      border: none;\n",
              "      border-radius: 50%;\n",
              "      cursor: pointer;\n",
              "      display: none;\n",
              "      fill: #1967D2;\n",
              "      height: 32px;\n",
              "      padding: 0 0 0 0;\n",
              "      width: 32px;\n",
              "    }\n",
              "\n",
              "    .colab-df-convert:hover {\n",
              "      background-color: #E2EBFA;\n",
              "      box-shadow: 0px 1px 2px rgba(60, 64, 67, 0.3), 0px 1px 3px 1px rgba(60, 64, 67, 0.15);\n",
              "      fill: #174EA6;\n",
              "    }\n",
              "\n",
              "    [theme=dark] .colab-df-convert {\n",
              "      background-color: #3B4455;\n",
              "      fill: #D2E3FC;\n",
              "    }\n",
              "\n",
              "    [theme=dark] .colab-df-convert:hover {\n",
              "      background-color: #434B5C;\n",
              "      box-shadow: 0px 1px 3px 1px rgba(0, 0, 0, 0.15);\n",
              "      filter: drop-shadow(0px 1px 2px rgba(0, 0, 0, 0.3));\n",
              "      fill: #FFFFFF;\n",
              "    }\n",
              "  </style>\n",
              "\n",
              "      <script>\n",
              "        const buttonEl =\n",
              "          document.querySelector('#df-0050670c-64e1-4a2c-8f78-82b5b730c3bc button.colab-df-convert');\n",
              "        buttonEl.style.display =\n",
              "          google.colab.kernel.accessAllowed ? 'block' : 'none';\n",
              "\n",
              "        async function convertToInteractive(key) {\n",
              "          const element = document.querySelector('#df-0050670c-64e1-4a2c-8f78-82b5b730c3bc');\n",
              "          const dataTable =\n",
              "            await google.colab.kernel.invokeFunction('convertToInteractive',\n",
              "                                                     [key], {});\n",
              "          if (!dataTable) return;\n",
              "\n",
              "          const docLinkHtml = 'Like what you see? Visit the ' +\n",
              "            '<a target=\"_blank\" href=https://colab.research.google.com/notebooks/data_table.ipynb>data table notebook</a>'\n",
              "            + ' to learn more about interactive tables.';\n",
              "          element.innerHTML = '';\n",
              "          dataTable['output_type'] = 'display_data';\n",
              "          await google.colab.output.renderOutput(dataTable, element);\n",
              "          const docLink = document.createElement('div');\n",
              "          docLink.innerHTML = docLinkHtml;\n",
              "          element.appendChild(docLink);\n",
              "        }\n",
              "      </script>\n",
              "    </div>\n",
              "  </div>\n",
              "  "
            ]
          },
          "metadata": {},
          "execution_count": 53
        }
      ]
    },
    {
      "cell_type": "code",
      "source": [
        "df_salary = df_salary.set_index('Исполнители')\n",
        "df_salary.index.names = [None]\n",
        "dict_salary = df_salary.to_dict('index')\n",
        "dict_salary"
      ],
      "metadata": {
        "colab": {
          "base_uri": "https://localhost:8080/"
        },
        "id": "jXugk5mop7ix",
        "outputId": "8c536230-b253-4683-971d-799e805cd673"
      },
      "execution_count": 54,
      "outputs": [
        {
          "output_type": "execute_result",
          "data": {
            "text/plain": [
              "{'Исполнитель1': {'Художник': 50,\n",
              "  'Тестировщик': 20,\n",
              "  'Сценарист': 10,\n",
              "  'Композитор': 30,\n",
              "  'Геймдизайнер': 60,\n",
              "  'Маркетолог': 10,\n",
              "  'Fake1': 80,\n",
              "  'Fake2': 10,\n",
              "  'Fake3': 30},\n",
              " 'Исполнитель2': {'Художник': 10,\n",
              "  'Тестировщик': 40,\n",
              "  'Сценарист': 70,\n",
              "  'Композитор': 50,\n",
              "  'Геймдизайнер': 20,\n",
              "  'Маркетолог': 40,\n",
              "  'Fake1': 50,\n",
              "  'Fake2': 70,\n",
              "  'Fake3': 70},\n",
              " 'Исполнитель3': {'Художник': 80,\n",
              "  'Тестировщик': 50,\n",
              "  'Сценарист': 30,\n",
              "  'Композитор': 20,\n",
              "  'Геймдизайнер': 60,\n",
              "  'Маркетолог': 70,\n",
              "  'Fake1': 30,\n",
              "  'Fake2': 40,\n",
              "  'Fake3': 20},\n",
              " 'Исполнитель4': {'Художник': 30,\n",
              "  'Тестировщик': 20,\n",
              "  'Сценарист': 40,\n",
              "  'Композитор': 60,\n",
              "  'Геймдизайнер': 70,\n",
              "  'Маркетолог': 50,\n",
              "  'Fake1': 20,\n",
              "  'Fake2': 60,\n",
              "  'Fake3': 60},\n",
              " 'Исполнитель5': {'Художник': 0,\n",
              "  'Тестировщик': 70,\n",
              "  'Сценарист': 50,\n",
              "  'Композитор': 10,\n",
              "  'Геймдизайнер': 50,\n",
              "  'Маркетолог': 20,\n",
              "  'Fake1': 60,\n",
              "  'Fake2': 50,\n",
              "  'Fake3': 70},\n",
              " 'Исполнитель6': {'Художник': 70,\n",
              "  'Тестировщик': 40,\n",
              "  'Сценарист': 60,\n",
              "  'Композитор': 40,\n",
              "  'Геймдизайнер': 80,\n",
              "  'Маркетолог': 30,\n",
              "  'Fake1': 40,\n",
              "  'Fake2': 10,\n",
              "  'Fake3': 20},\n",
              " 'Исполнитель7': {'Художник': 40,\n",
              "  'Тестировщик': 60,\n",
              "  'Сценарист': 80,\n",
              "  'Композитор': 70,\n",
              "  'Геймдизайнер': 40,\n",
              "  'Маркетолог': 50,\n",
              "  'Fake1': 50,\n",
              "  'Fake2': 80,\n",
              "  'Fake3': 60},\n",
              " 'Исполнитель8': {'Художник': 60,\n",
              "  'Тестировщик': 70,\n",
              "  'Сценарист': 20,\n",
              "  'Композитор': 50,\n",
              "  'Геймдизайнер': 30,\n",
              "  'Маркетолог': 60,\n",
              "  'Fake1': 70,\n",
              "  'Fake2': 10,\n",
              "  'Fake3': 50},\n",
              " 'Исполнитель9': {'Художник': 20,\n",
              "  'Тестировщик': 30,\n",
              "  'Сценарист': 50,\n",
              "  'Композитор': 30,\n",
              "  'Геймдизайнер': 20,\n",
              "  'Маркетолог': 80,\n",
              "  'Fake1': 60,\n",
              "  'Fake2': 60,\n",
              "  'Fake3': 50}}"
            ]
          },
          "metadata": {},
          "execution_count": 54
        }
      ]
    },
    {
      "cell_type": "code",
      "source": [
        "df_motivation  = df_motivation_org.set_index('Исполнители')\n",
        "df_motivation.index.names = [None]\n",
        "dict_motivation  = df_motivation.to_dict('index')\n",
        "dict_motivation "
      ],
      "metadata": {
        "colab": {
          "base_uri": "https://localhost:8080/"
        },
        "id": "ISeoe2RtrpAq",
        "outputId": "9508b26a-4ce4-4862-9d1d-a46d29f47568"
      },
      "execution_count": 55,
      "outputs": [
        {
          "output_type": "execute_result",
          "data": {
            "text/plain": [
              "{'Исполнитель1': {'Художник': 90,\n",
              "  'Тестировщик': 60,\n",
              "  'Сценарист': 50,\n",
              "  'Композитор': 30,\n",
              "  'Геймдизайнер': 50,\n",
              "  'Маркетолог': 80,\n",
              "  'Fake1': 40,\n",
              "  'Fake2': 60,\n",
              "  'Fake3': 70},\n",
              " 'Исполнитель2': {'Художник': 50,\n",
              "  'Тестировщик': 90,\n",
              "  'Сценарист': 30,\n",
              "  'Композитор': 60,\n",
              "  'Геймдизайнер': 80,\n",
              "  'Маркетолог': 20,\n",
              "  'Fake1': 40,\n",
              "  'Fake2': 40,\n",
              "  'Fake3': 20},\n",
              " 'Исполнитель3': {'Художник': 70,\n",
              "  'Тестировщик': 80,\n",
              "  'Сценарист': 50,\n",
              "  'Композитор': 70,\n",
              "  'Геймдизайнер': 40,\n",
              "  'Маркетолог': 40,\n",
              "  'Fake1': 20,\n",
              "  'Fake2': 60,\n",
              "  'Fake3': 40},\n",
              " 'Исполнитель4': {'Художник': 40,\n",
              "  'Тестировщик': 70,\n",
              "  'Сценарист': 60,\n",
              "  'Композитор': 80,\n",
              "  'Геймдизайнер': 30,\n",
              "  'Маркетолог': 90,\n",
              "  'Fake1': 50,\n",
              "  'Fake2': 50,\n",
              "  'Fake3': 80},\n",
              " 'Исполнитель5': {'Художник': 70,\n",
              "  'Тестировщик': 50,\n",
              "  'Сценарист': 90,\n",
              "  'Композитор': 80,\n",
              "  'Геймдизайнер': 40,\n",
              "  'Маркетолог': 50,\n",
              "  'Fake1': 30,\n",
              "  'Fake2': 50,\n",
              "  'Fake3': 20},\n",
              " 'Исполнитель6': {'Художник': 50,\n",
              "  'Тестировщик': 40,\n",
              "  'Сценарист': 80,\n",
              "  'Композитор': 30,\n",
              "  'Геймдизайнер': 70,\n",
              "  'Маркетолог': 50,\n",
              "  'Fake1': 90,\n",
              "  'Fake2': 90,\n",
              "  'Fake3': 90},\n",
              " 'Исполнитель7': {'Художник': 30,\n",
              "  'Тестировщик': 50,\n",
              "  'Сценарист': 20,\n",
              "  'Композитор': 40,\n",
              "  'Геймдизайнер': 60,\n",
              "  'Маркетолог': 70,\n",
              "  'Fake1': 80,\n",
              "  'Fake2': 50,\n",
              "  'Fake3': 20},\n",
              " 'Исполнитель8': {'Художник': 60,\n",
              "  'Тестировщик': 30,\n",
              "  'Сценарист': 40,\n",
              "  'Композитор': 20,\n",
              "  'Геймдизайнер': 20,\n",
              "  'Маркетолог': 60,\n",
              "  'Fake1': 20,\n",
              "  'Fake2': 60,\n",
              "  'Fake3': 60},\n",
              " 'Исполнитель9': {'Художник': 90,\n",
              "  'Тестировщик': 20,\n",
              "  'Сценарист': 70,\n",
              "  'Композитор': 50,\n",
              "  'Геймдизайнер': 40,\n",
              "  'Маркетолог': 80,\n",
              "  'Fake1': 60,\n",
              "  'Fake2': 30,\n",
              "  'Fake3': 80}}"
            ]
          },
          "metadata": {},
          "execution_count": 55
        }
      ]
    },
    {
      "cell_type": "markdown",
      "source": [
        "### Преобразуем данные в словари с которыми работает библиотека "
      ],
      "metadata": {
        "id": "lhQaDYab9bp6"
      }
    },
    {
      "cell_type": "code",
      "source": [
        "dict_comb = {  \n",
        "    'Исполнитель1':{'Художник':0.12811448, 'Тестировщик':0.14122449, 'Сценарист':0.14285714, 'Композитор':0.09742351,\t'Геймдизайнер':0.10069273, 'Маркетолог':0.18367347, 'Fake1':0.12076649, 'Fake2':0.13993711, 'Fake3':0.10102041},\n",
        "    'Исполнитель2':{'Художник':0.12878788, 'Тестировщик':0.15183673, 'Сценарист':0.06122449, 'Композитор':0.11151369,\t'Геймдизайнер':0.17812964, 'Маркетолог':0.12244898, 'Fake1':0.08622995, 'Fake2':0.14240791, 'Fake3':0.12081633},\n",
        "    'Исполнитель3':{'Художник':0.08215488, 'Тестировщик':0.13163265, 'Сценарист':0.12244898, 'Композитор':0.15016103,\t'Геймдизайнер':0.08906482, 'Маркетолог':0.06122449, 'Fake1':0.14817291, 'Fake2':0.10916442, 'Fake3':0.08040816},\n",
        "    'Исполнитель4':{'Художник':0.10117845, 'Тестировщик':0.15142857, 'Сценарист':0.12244898, 'Композитор':0.12399356,\t'Геймдизайнер':0.06679861, 'Маркетолог':0.10204082, 'Fake1':0.17914439, 'Fake2':0.0853549, 'Fake3': 0.12102041},\n",
        "    'Исполнитель5':{'Художник':0.15622896, 'Тестировщик':0.08102041, 'Сценарист':0.14285714, 'Композитор':0.17028986,\t'Геймдизайнер':0.09970312, 'Маркетолог':0.16326531, 'Fake1':0.09447415, 'Fake2':0.10175202, 'Fake3':0.09122449},\n",
        "    'Исполнитель6':{'Художник':0.07323232, 'Тестировщик':0.10081633, 'Сценарист':0.12244898, 'Композитор':0.08816425,\t'Геймдизайнер':0.10267194, 'Маркетолог':0.14285714, 'Fake1':0.08778966, 'Fake2':0.12309075, 'Fake3':0.11142857},\n",
        "    'Исполнитель7':{'Художник':0.08282828, 'Тестировщик':0.09102041, 'Сценарист':0.04081633, 'Композитор':0.07125604,\t'Геймдизайнер':0.13359723, 'Маркетолог':0.10204082, 'Fake1':0.11564171, 'Fake2':0.14442947, 'Fake3':0.11163265},\n",
        "    'Исполнитель8':{'Художник':0.09158249, 'Тестировщик':0.06061224, 'Сценарист':0.12244898, 'Композитор':0.06803543,\t'Геймдизайнер':0.0977239, 'Маркетолог':0.08163265, 'Fake1':0.0733066, 'Fake2':0.05211141, 'Fake3':0.12061224},\n",
        "    'Исполнитель9':{'Художник':0.15589226, 'Тестировщик':0.09040816, 'Сценарист':0.12244898, 'Композитор':0.11916264,\t'Геймдизайнер':0.13161801, 'Маркетолог':0.04081633, 'Fake1':0.09447415, 'Fake2':0.10175202, 'Fake3':0.14183673},\n",
        "}\n"
      ],
      "metadata": {
        "id": "BUJ-7pVE-8Lg"
      },
      "execution_count": 33,
      "outputs": []
    },
    {
      "cell_type": "code",
      "source": [
        "dict_salary = {\n",
        "    'Исполнитель1':{'Художник':50, 'Тестировщик':80, 'Сценарист':90, 'Композитор':70, 'Геймдизайнер':40, 'Маркетолог':90, 'Fake1':20, 'Fake2':70, 'Fake3':50},\n",
        "    'Исполнитель2':{'Художник':90, 'Тестировщик':60, 'Сценарист':30, 'Композитор':50, 'Геймдизайнер':80, 'Маркетолог':60, 'Fake1':50, 'Fake2':80, 'Fake3':40},\n",
        "    'Исполнитель3':{'Художник':20, 'Тестировщик':50, 'Сценарист':70, 'Композитор':80, 'Геймдизайнер':40, 'Маркетолог':30, 'Fake1':70, 'Fake2':60, 'Fake3':20},\n",
        "    'Исполнитель4':{'Художник':70, 'Тестировщик':80, 'Сценарист':60, 'Композитор':40, 'Геймдизайнер':30, 'Маркетолог':50, 'Fake1':80, 'Fake2':40, 'Fake3':50},\n",
        "    'Исполнитель5':{'Художник':100, 'Тестировщик':30, 'Сценарист':50, 'Композитор':90, 'Геймдизайнер':50, 'Маркетолог':80, 'Fake1':40, 'Fake2':30, 'Fake3':60},\n",
        "    'Исполнитель6':{'Художник':30, 'Тестировщик':60, 'Сценарист':40, 'Композитор':60, 'Геймдизайнер':20, 'Маркетолог':70, 'Fake1':60, 'Fake2':40, 'Fake3':70},\n",
        "    'Исполнитель7':{'Художник':60, 'Тестировщик':40, 'Сценарист':20, 'Композитор':30, 'Геймдизайнер':60, 'Маркетолог':50, 'Fake1':50, 'Fake2':50, 'Fake3':80},\n",
        "    'Исполнитель8':{'Художник':40, 'Тестировщик':30, 'Сценарист':80, 'Композитор':50, 'Геймдизайнер':70, 'Маркетолог':40, 'Fake1':30, 'Fake2':20, 'Fake3':30},\n",
        "    'Исполнитель9':{'Художник':80, 'Тестировщик':70, 'Сценарист':50, 'Композитор':70, 'Геймдизайнер':80, 'Маркетолог':20, 'Fake1':40, 'Fake2':30, 'Fake3':90},\n",
        "}\n"
      ],
      "metadata": {
        "id": "_v-qTb7lDbO4"
      },
      "execution_count": 34,
      "outputs": []
    },
    {
      "cell_type": "code",
      "source": [
        "dict_motivation = {\n",
        "    'Исполнитель1':{'Художник':90,  'Тестировщик':60,  'Сценарист':50,  'Композитор':30,  'Геймдизайнер':50,  'Маркетолог':90, 'Fake1':100,  'Fake2':60,  'Fake3':50},\n",
        "    'Исполнитель2':{'Художник':50,  'Тестировщик':90,  'Сценарист':30,  'Композитор':60,  'Геймдизайнер':80,  'Маркетолог':60,  'Fake1':30,  'Fake2':50,  'Fake3':80},\n",
        "    'Исполнитель3':{'Художник':70,  'Тестировщик':80,  'Сценарист':50,  'Композитор':70,  'Геймдизайнер':40,  'Маркетолог':30,  'Fake1':70,  'Fake2':40,  'Fake3':60},\n",
        "    'Исполнитель4':{'Художник':40,  'Тестировщик':70,  'Сценарист':60,  'Композитор':80,  'Геймдизайнер':30,  'Маркетолог':50,  'Fake1':90,  'Fake2':40,  'Fake3':70},\n",
        "    'Исполнитель5':{'Художник':70,  'Тестировщик':50,  'Сценарист':90,  'Композитор':80,  'Геймдизайнер':40,  'Маркетолог':80,  'Fake1':50,  'Fake2':70, 'Fake3':30},\n",
        "    'Исполнитель6':{'Художник':50,  'Тестировщик':40,  'Сценарист':80,  'Композитор':30,  'Геймдизайнер':70,  'Маркетолог':70,  'Fake1':20,  'Fake2':80,  'Fake3':40},\n",
        "    'Исполнитель7':{'Художник':30,  'Тестировщик':50,  'Сценарист':20,  'Композитор':40,  'Геймдизайнер':60,  'Маркетолог':50,  'Fake1':60,  'Fake2':90,  'Fake3':30},\n",
        "    'Исполнитель8':{'Художник':60,  'Тестировщик':30,  'Сценарист':40,  'Композитор':20,  'Геймдизайнер':20,  'Маркетолог':40,  'Fake1':40,  'Fake2':30,  'Fake3':90},\n",
        "    'Исполнитель9':{'Художник':90,  'Тестировщик':20,  'Сценарист':70,  'Композитор':50,  'Геймдизайнер':40,  'Маркетолог':20,  'Fake1':50,  'Fake2':70,  'Fake3':50},\n",
        "}"
      ],
      "metadata": {
        "id": "vbgqEZVmExP1"
      },
      "execution_count": 35,
      "outputs": []
    },
    {
      "cell_type": "markdown",
      "source": [
        "### Поиск по первому критерию"
      ],
      "metadata": {
        "id": "Qh0rjFcnHVos"
      }
    },
    {
      "cell_type": "code",
      "source": [
        "algorithm.find_matching(dict_salary, matching_type = 'max', return_type = 'list' )"
      ],
      "metadata": {
        "colab": {
          "base_uri": "https://localhost:8080/"
        },
        "id": "-86v8dA9FpJ5",
        "outputId": "9f4ddb2a-d731-4b05-8428-70cfccba16df"
      },
      "execution_count": 64,
      "outputs": [
        {
          "output_type": "execute_result",
          "data": {
            "text/plain": [
              "[(('Исполнитель4', 'Композитор'), 60),\n",
              " (('Исполнитель5', 'Fake3'), 70),\n",
              " (('Исполнитель1', 'Fake1'), 80),\n",
              " (('Исполнитель9', 'Маркетолог'), 80),\n",
              " (('Исполнитель6', 'Геймдизайнер'), 80),\n",
              " (('Исполнитель3', 'Художник'), 80),\n",
              " (('Исполнитель7', 'Fake2'), 80),\n",
              " (('Исполнитель2', 'Сценарист'), 70),\n",
              " (('Исполнитель8', 'Тестировщик'), 70)]"
            ]
          },
          "metadata": {},
          "execution_count": 64
        }
      ]
    },
    {
      "cell_type": "markdown",
      "source": [
        "### Поиск по второму критерию"
      ],
      "metadata": {
        "id": "-PYFYyZZJg7E"
      }
    },
    {
      "cell_type": "code",
      "source": [
        "algorithm.find_matching(dict_motivation, matching_type = 'max', return_type = 'list' )"
      ],
      "metadata": {
        "colab": {
          "base_uri": "https://localhost:8080/"
        },
        "id": "eSqG-CowJjNp",
        "outputId": "70dc5cb8-9be1-4232-d0b3-b826afa93502"
      },
      "execution_count": 62,
      "outputs": [
        {
          "output_type": "execute_result",
          "data": {
            "text/plain": [
              "[(('Исполнитель5', 'Сценарист'), 90),\n",
              " (('Исполнитель6', 'Fake2'), 90),\n",
              " (('Исполнитель4', 'Композитор'), 80),\n",
              " (('Исполнитель8', 'Fake3'), 60),\n",
              " (('Исполнитель7', 'Fake1'), 80),\n",
              " (('Исполнитель1', 'Маркетолог'), 80),\n",
              " (('Исполнитель9', 'Художник'), 90),\n",
              " (('Исполнитель2', 'Геймдизайнер'), 80),\n",
              " (('Исполнитель3', 'Тестировщик'), 80)]"
            ]
          },
          "metadata": {},
          "execution_count": 62
        }
      ]
    },
    {
      "cell_type": "markdown",
      "source": [
        "### Поиск по двум критериям"
      ],
      "metadata": {
        "id": "YedTLKeUTncD"
      }
    },
    {
      "cell_type": "code",
      "source": [
        "algorithm.find_matching(dict_comb, matching_type = 'max', return_type = 'list' )"
      ],
      "metadata": {
        "colab": {
          "base_uri": "https://localhost:8080/"
        },
        "id": "kmG7cs9oKDrM",
        "outputId": "d169c42b-db92-44aa-8f6f-472011182c88"
      },
      "execution_count": 66,
      "outputs": [
        {
          "output_type": "execute_result",
          "data": {
            "text/plain": [
              "[(('Исполнитель9', 'Маркетолог'), 0.17163504968383017),\n",
              " (('Исполнитель1', 'Fake1'), 0.13346814964610718),\n",
              " (('Исполнитель3', 'Художник'), 0.17474747474747473),\n",
              " (('Исполнитель8', 'Fake3'), 0.12063953488372092),\n",
              " (('Исполнитель7', 'Fake2'), 0.15358451072736787),\n",
              " (('Исполнитель5', 'Сценарист'), 0.1528123444499751),\n",
              " (('Исполнитель4', 'Композитор'), 0.17028985507246375),\n",
              " (('Исполнитель2', 'Тестировщик'), 0.14183673469387756),\n",
              " (('Исполнитель6', 'Геймдизайнер'), 0.1744186046511628)]"
            ]
          },
          "metadata": {},
          "execution_count": 66
        }
      ]
    },
    {
      "cell_type": "code",
      "source": [
        "2 - Тестировщик\n",
        "3 - Художник\n",
        "4 - Композитор\n",
        "5 - Сценарист\n",
        "6 - Геймдизайнер\n",
        "9 - Маркетолог"
      ],
      "metadata": {
        "id": "_fMSpbfIyj4g"
      },
      "execution_count": null,
      "outputs": []
    },
    {
      "cell_type": "code",
      "source": [
        "Result = [[60,90],   \n",
        "        [20,70],\n",
        "        [40,80],\n",
        "        [50,90],\n",
        "        [20,70],\n",
        "        [20,80]]\n",
        "\n",
        "Summ=0\n",
        "Motivation=0\n",
        "for i in range(len(Result)):\n",
        "  Summ+=Result[i][0]\n",
        "  Motivation+=Result[i][1]\n",
        "\n",
        "print(\"Зарплата:\",Summ,\" \",\"Мотивация:\", Motivation)"
      ],
      "metadata": {
        "colab": {
          "base_uri": "https://localhost:8080/"
        },
        "id": "a9eWlWeSzGm5",
        "outputId": "0de9326c-7bbf-4148-bef5-6ae7b2e64b80"
      },
      "execution_count": 67,
      "outputs": [
        {
          "output_type": "stream",
          "name": "stdout",
          "text": [
            "Зарплата: 210   Мотивация: 480\n"
          ]
        }
      ]
    },
    {
      "cell_type": "markdown",
      "source": [
        "* Исполнитель 2 будет работать тестировщиком\n",
        "* Исполнитель 3 будет работать художником\n",
        "* Исполнитель 4 будет работать композитором\n",
        "* Исполнитель 5 будет работать cценаристом\n",
        "* Исполнитель 6 будет работать геймдизайнером\n",
        "* Исполнитель 9 будет работать маркетологом\n",
        "* Исполнители 1, 7 и 8 работают на фейковых работах\n"
      ],
      "metadata": {
        "id": "kd0tNHIOVRXf"
      }
    },
    {
      "cell_type": "code",
      "source": [
        "Result_min = [[20,70],\n",
        "        [40,80],\n",
        "        [20,70],\n",
        "        [20,20],\n",
        "        [30,30],\n",
        "        [20,80]]"
      ],
      "metadata": {
        "id": "_c1Efsn0Iuus"
      },
      "execution_count": 68,
      "outputs": []
    },
    {
      "cell_type": "code",
      "source": [
        "Result_max = [[90,80],\n",
        "        [80,80],\n",
        "        [50,80],\n",
        "        [40,80],\n",
        "        [50,90],\n",
        "        [80,90]]"
      ],
      "metadata": {
        "id": "I_vSN-MOKnMW"
      },
      "execution_count": 69,
      "outputs": []
    },
    {
      "cell_type": "code",
      "source": [
        "Summ=0\n",
        "Motivation=0\n",
        "for i in range(len(Result_min)):\n",
        "  Summ+=Result_min[i][0]\n",
        "  Motivation+=Result_min[i][1]\n",
        "\n",
        "print(\"Зарплата:\",Summ,\" \",\"Мотивация:\", Motivation)"
      ],
      "metadata": {
        "id": "WIpIudLaLdas",
        "colab": {
          "base_uri": "https://localhost:8080/"
        },
        "outputId": "71c5b123-576a-459e-c70e-4c4703ad4cd9"
      },
      "execution_count": 70,
      "outputs": [
        {
          "output_type": "stream",
          "name": "stdout",
          "text": [
            "Зарплата: 150   Мотивация: 350\n"
          ]
        }
      ]
    },
    {
      "cell_type": "code",
      "source": [
        "Summ=0\n",
        "Motivation=0\n",
        "for i in range(len(Result_max)):\n",
        "  Summ+=Result_max[i][0]\n",
        "  Motivation+=Result_max[i][1]\n",
        "\n",
        "print(\"Зарплата:\",Summ,\" \",\"Мотивация:\", Motivation)"
      ],
      "metadata": {
        "id": "j9OvDzMOLi4t",
        "colab": {
          "base_uri": "https://localhost:8080/"
        },
        "outputId": "88f2bfca-62f9-487a-e89d-d50c6c10ff16"
      },
      "execution_count": 71,
      "outputs": [
        {
          "output_type": "stream",
          "name": "stdout",
          "text": [
            "Зарплата: 390   Мотивация: 500\n"
          ]
        }
      ]
    },
    {
      "cell_type": "code",
      "source": [
        "import matplotlib.pyplot as plt\n",
        "\n",
        "x = np.arange(3)\n",
        "plt.figure(figsize=(10, 7), dpi=100)\n",
        "plt.bar(x, height=[350, 480, 500])\n",
        "plt.xticks(x, ['1-й критерий','Два критерия','2-й критерий'])\n",
        "plt.title(\"Мотивация\")"
      ],
      "metadata": {
        "id": "v1cfWuTxG0bZ",
        "colab": {
          "base_uri": "https://localhost:8080/",
          "height": 629
        },
        "outputId": "9d0faa07-50e8-47e8-ecac-20f1710e47e7"
      },
      "execution_count": 73,
      "outputs": [
        {
          "output_type": "execute_result",
          "data": {
            "text/plain": [
              "Text(0.5, 1.0, 'Мотивация')"
            ]
          },
          "metadata": {},
          "execution_count": 73
        },
        {
          "output_type": "display_data",
          "data": {
            "text/plain": [
              "<Figure size 1000x700 with 1 Axes>"
            ],
            "image/png": "[encoded data removed]"
          },
          "metadata": {
            "needs_background": "light"
          }
        }
      ]
    },
    {
      "cell_type": "code",
      "source": [
        "x = np.arange(3)\n",
        "plt.figure(figsize=(10, 7), dpi=100)\n",
        "plt.bar(x, height=[150,210,390])\n",
        "plt.xticks(x, ['1-й критерий','Два критерия','2-й критерий']);\n",
        "plt.title(\"Зарплата\")"
      ],
      "metadata": {
        "id": "auvgXa_UL8O0",
        "colab": {
          "base_uri": "https://localhost:8080/",
          "height": 629
        },
        "outputId": "87da11f2-e4e3-4498-9540-a5e7360f5bc4"
      },
      "execution_count": 74,
      "outputs": [
        {
          "output_type": "execute_result",
          "data": {
            "text/plain": [
              "Text(0.5, 1.0, 'Зарплата')"
            ]
          },
          "metadata": {},
          "execution_count": 74
        },
        {
          "output_type": "display_data",
          "data": {
            "text/plain": [
              "<Figure size 1000x700 with 1 Axes>"
            ],
            "image/png": "[encoded data removed]"
          },
          "metadata": {
            "needs_background": "light"
          }
        }
      ]
    },
    {
      "cell_type": "markdown",
      "source": [
        "* Распределим незадействованных исполнителей на работы"
      ],
      "metadata": {
        "id": "ZKKKzg8jVZSa"
      }
    },
    {
      "cell_type": "markdown",
      "source": [
        "### По первому критерию"
      ],
      "metadata": {
        "id": "FLB2eZXxsqTu"
      }
    },
    {
      "cell_type": "code",
      "source": [
        "list_salary_fake = [[ 50,  20,  10,  30,  60,  10], \n",
        "                    [ 40,  60,  80,  70,  40,  50], \n",
        "                    [ 60,  70,  20,  50,  30,  60]] \n",
        "list_salary_fake"
      ],
      "metadata": {
        "id": "BC4DpkKfs2I1",
        "colab": {
          "base_uri": "https://localhost:8080/"
        },
        "outputId": "f59f2567-755e-440d-cdb7-37773456bf05"
      },
      "execution_count": 77,
      "outputs": [
        {
          "output_type": "execute_result",
          "data": {
            "text/plain": [
              "[[50, 20, 10, 30, 60, 10], [40, 60, 80, 70, 40, 50], [60, 70, 20, 50, 30, 60]]"
            ]
          },
          "metadata": {},
          "execution_count": 77
        }
      ]
    },
    {
      "cell_type": "markdown",
      "source": [
        "### По второму критерию"
      ],
      "metadata": {
        "id": "TDHOUqVOvtav"
      }
    },
    {
      "cell_type": "code",
      "source": [
        "list_motivation_fake = [[90, 60, 50, 30, 50, 80], \n",
        "                        [30, 50, 20, 40, 60, 70],  \n",
        "                        [60, 30, 40, 20, 20, 60]] \n",
        "list_motivation_fake"
      ],
      "metadata": {
        "id": "DxYSaI0IvtDu",
        "colab": {
          "base_uri": "https://localhost:8080/"
        },
        "outputId": "ec14da1c-ff45-4a5b-a5bb-d51f5490451d"
      },
      "execution_count": 78,
      "outputs": [
        {
          "output_type": "execute_result",
          "data": {
            "text/plain": [
              "[[90, 60, 50, 30, 50, 80], [30, 50, 20, 40, 60, 70], [60, 30, 40, 20, 20, 60]]"
            ]
          },
          "metadata": {},
          "execution_count": 78
        }
      ]
    },
    {
      "cell_type": "markdown",
      "source": [
        "### Ищем суммы для каждого столбца"
      ],
      "metadata": {
        "id": "zOaZgxHExPsM"
      }
    },
    {
      "cell_type": "code",
      "source": [
        "sum_salary_fake = list(map(sum,zip(*list_salary_fake)))\n",
        "sum_salary_fake"
      ],
      "metadata": {
        "id": "x0A3vgFtxWBO",
        "colab": {
          "base_uri": "https://localhost:8080/"
        },
        "outputId": "b2f6ca2b-9593-47b8-933a-de06065b841c"
      },
      "execution_count": 79,
      "outputs": [
        {
          "output_type": "execute_result",
          "data": {
            "text/plain": [
              "[150, 150, 110, 150, 130, 120]"
            ]
          },
          "metadata": {},
          "execution_count": 79
        }
      ]
    },
    {
      "cell_type": "code",
      "source": [
        "sum_motivation_fake = list(map(sum,zip(*list_motivation_fake)))\n",
        "sum_motivation_fake"
      ],
      "metadata": {
        "id": "354tH8xByZ7c",
        "colab": {
          "base_uri": "https://localhost:8080/"
        },
        "outputId": "194ca837-7398-4947-b180-370442ab5941"
      },
      "execution_count": 80,
      "outputs": [
        {
          "output_type": "execute_result",
          "data": {
            "text/plain": [
              "[180, 140, 110, 90, 130, 210]"
            ]
          },
          "metadata": {},
          "execution_count": 80
        }
      ]
    },
    {
      "cell_type": "markdown",
      "source": [
        "### Нормализуем таблицы"
      ],
      "metadata": {
        "id": "2Zm36YodypHV"
      }
    },
    {
      "cell_type": "code",
      "source": [
        "for i in range(6):\n",
        "  for j in range(3):\n",
        "    list_salary_fake[j][i]=float(list_salary_fake[j][i])/float(sum_salary_fake[i])\n",
        "print(np.copy(list_salary_fake))"
      ],
      "metadata": {
        "id": "xJ_1ByqOysLC",
        "colab": {
          "base_uri": "https://localhost:8080/"
        },
        "outputId": "c947c014-cd11-44b3-8f51-4be9588b81d7"
      },
      "execution_count": 81,
      "outputs": [
        {
          "output_type": "stream",
          "name": "stdout",
          "text": [
            "[[0.33333333 0.13333333 0.09090909 0.2        0.46153846 0.08333333]\n",
            " [0.26666667 0.4        0.72727273 0.46666667 0.30769231 0.41666667]\n",
            " [0.4        0.46666667 0.18181818 0.33333333 0.23076923 0.5       ]]\n"
          ]
        }
      ]
    },
    {
      "cell_type": "code",
      "source": [
        "for i in range(6):\n",
        "  for j in range(3):\n",
        "    list_motivation_fake[j][i]=float(list_motivation_fake[j][i])/float(sum_motivation_fake[i])\n",
        "print(np.copy(list_motivation_fake))"
      ],
      "metadata": {
        "id": "aokxL2g70BZ8",
        "colab": {
          "base_uri": "https://localhost:8080/"
        },
        "outputId": "dca16b56-a1e6-4cf1-d818-3bed07abcba9"
      },
      "execution_count": 82,
      "outputs": [
        {
          "output_type": "stream",
          "name": "stdout",
          "text": [
            "[[0.5        0.42857143 0.45454545 0.33333333 0.38461538 0.38095238]\n",
            " [0.16666667 0.35714286 0.18181818 0.44444444 0.46153846 0.33333333]\n",
            " [0.33333333 0.21428571 0.36363636 0.22222222 0.15384615 0.28571429]]\n"
          ]
        }
      ]
    },
    {
      "cell_type": "markdown",
      "source": [
        "### Таблица с общими критериями"
      ],
      "metadata": {
        "id": "gVX4xBgT1DvX"
      }
    },
    {
      "cell_type": "code",
      "source": [
        "list_comb_fake = list_salary_fake \n",
        "for i in range(3):\n",
        "  for j in range(6):\n",
        "    list_comb_fake[i][j]=(list_salary_fake[i][j]+list_motivation_fake[i][j])/2\n",
        "\n",
        "print(np.copy(list_comb_fake))"
      ],
      "metadata": {
        "id": "djQPjqZk1CDs",
        "colab": {
          "base_uri": "https://localhost:8080/"
        },
        "outputId": "b00d4b0e-22b0-4f64-cf43-d1e55a680e29"
      },
      "execution_count": 83,
      "outputs": [
        {
          "output_type": "stream",
          "name": "stdout",
          "text": [
            "[[0.41666667 0.28095238 0.27272727 0.26666667 0.42307692 0.23214286]\n",
            " [0.21666667 0.37857143 0.45454545 0.45555556 0.38461538 0.375     ]\n",
            " [0.36666667 0.34047619 0.27272727 0.27777778 0.19230769 0.39285714]]\n"
          ]
        }
      ]
    },
    {
      "cell_type": "markdown",
      "source": [
        "### Конвертируем данные в словари"
      ],
      "metadata": {
        "id": "UHLyPu2DCeq0"
      }
    },
    {
      "cell_type": "code",
      "source": [
        "dict_salary_fake = {'Исполнитель1': {'Художник': 50, 'Тестировщик': 20, 'Сценарист': 10, 'Композитор': 30, 'Геймдизайнер': 60, 'Маркетолог': 10},  \n",
        "                    'Исполнитель7': {'Художник': 40, 'Тестировщик': 60, 'Сценарист': 80, 'Композитор': 70, 'Геймдизайнер': 40, 'Маркетолог': 50},\n",
        "                    'Исполнитель8': {'Художник': 60, 'Тестировщик': 70, 'Сценарист': 20, 'Композитор': 50, 'Геймдизайнер': 30, 'Маркетолог': 60},\n",
        "                    'Fake1': {'Художник': 1, 'Тестировщик': 2, 'Сценарист': 3, 'Композитор': 4, 'Геймдизайнер': 7, 'Маркетолог': 5},\n",
        "                    'Fake2': {'Художник': 2, 'Тестировщик': 1, 'Сценарист': 4, 'Композитор': 3, 'Геймдизайнер': 6, 'Маркетолог': 8},\n",
        "                    'Fake3': {'Художник': 3, 'Тестировщик': 4, 'Сценарист': 1, 'Композитор': 2, 'Геймдизайнер': 5, 'Маркетолог': 6},\n",
        "}      \n",
        "\n",
        "dict_motivation_fake = {'Исполнитель1': {'Художник': 90, 'Тестировщик': 60, 'Сценарист': 50, 'Композитор': 30, 'Геймдизайнер': 50, 'Маркетолог': 80},\n",
        "                        'Исполнитель7': {'Художник': 30, 'Тестировщик': 50, 'Сценарист': 20, 'Композитор': 40, 'Геймдизайнер': 60, 'Маркетолог': 70},\n",
        "                        'Исполнитель8': {'Художник': 60, 'Тестировщик': 30, 'Сценарист': 40, 'Композитор': 20, 'Геймдизайнер': 20, 'Маркетолог': 60},\n",
        "                        'Fake1': {'Художник': 1, 'Тестировщик': 2, 'Сценарист': 3, 'Композитор': 4, 'Геймдизайнер': 5, 'Маркетолог': 6},\n",
        "                        'Fake2': {'Художник': 7, 'Тестировщик': 8, 'Сценарист': 9, 'Композитор': 1, 'Геймдизайнер': 2, 'Маркетолог': 3},\n",
        "                        'Fake3': {'Художник': 4, 'Тестировщик': 5, 'Сценарист': 6, 'Композитор': 7, 'Геймдизайнер': 8, 'Маркетолог': 9},}\n",
        "\n",
        "dict_comb_fake = {'Исполнитель1': {'Художник': 0.41666667, 'Тестировщик': 0.28095238, 'Сценарист': 0.27272727, 'Композитор': 0.26666667, 'Геймдизайнер': 0.42307692, 'Маркетолог': 0.23214286},\n",
        "                  'Исполнитель7': {'Художник': 0.21666667, 'Тестировщик': 0.37857143, 'Сценарист': 0.45454545, 'Композитор': 0.45555556, 'Геймдизайнер': 0.38461538, 'Маркетолог': 0.375},\n",
        "                  'Исполнитель8': {'Художник': 0.36666667, 'Тестировщик': 0.34047619, 'Сценарист': 0.27272727, 'Композитор': 0.27777778, 'Геймдизайнер': 0.19230769, 'Маркетолог': 0.39285714},\n",
        "                  'Fake1': {'Художник': 0.172, 'Тестировщик': 0.1825, 'Сценарист': 0.1855, 'Композитор': 0.1885, 'Геймдизайнер': 0.1814, 'Маркетолог': 0.1811},\n",
        "                  'Fake2': {'Художник': 0.171, 'Тестировщик': 0.1835, 'Сценарист': 0.1865, 'Композитор': 0.1895, 'Геймдизайнер': 0.1813, 'Маркетолог': 0.1810},\n",
        "                  'Fake3': {'Художник': 0.1815, 'Тестировщик': 0.1845, 'Сценарист': 0.1875, 'Композитор': 0.1905, 'Геймдизайнер': 0.1812, 'Маркетолог': 0.1824},}"
      ],
      "metadata": {
        "id": "jUq-JnyMX2Le"
      },
      "execution_count": 95,
      "outputs": []
    },
    {
      "cell_type": "markdown",
      "source": [
        "### Поиск по первому критерию"
      ],
      "metadata": {
        "id": "3_9U438mFT91"
      }
    },
    {
      "cell_type": "code",
      "source": [
        "algorithm.find_matching(dict_salary_fake, matching_type = 'max', return_type = 'list' )"
      ],
      "metadata": {
        "id": "ZSbKSMicFW_C",
        "colab": {
          "base_uri": "https://localhost:8080/"
        },
        "outputId": "373e6be5-b447-41e4-fb61-54904b60653a"
      },
      "execution_count": 91,
      "outputs": [
        {
          "output_type": "execute_result",
          "data": {
            "text/plain": [
              "[(('Исполнитель9', 'Тестировщик'), 70),\n",
              " (('Исполнитель1', 'Геймдизайнер'), 60),\n",
              " (('Fake2', 'Маркетолог'), 8),\n",
              " (('Fake3', 'Художник'), 3),\n",
              " (('Исполнитель2', 'Сценарист'), 80),\n",
              " (('Fake1', 'Композитор'), 4)]"
            ]
          },
          "metadata": {},
          "execution_count": 91
        }
      ]
    },
    {
      "cell_type": "markdown",
      "source": [
        "### Поиск по второму критерию"
      ],
      "metadata": {
        "id": "BacrB8JBFXYv"
      }
    },
    {
      "cell_type": "code",
      "source": [
        "algorithm.find_matching(dict_motivation_fake, matching_type = 'max', return_type = 'list' )"
      ],
      "metadata": {
        "id": "gdxpKL0VFatH",
        "colab": {
          "base_uri": "https://localhost:8080/"
        },
        "outputId": "e2171cbd-d641-4ad9-eea1-68f2617bf650"
      },
      "execution_count": 90,
      "outputs": [
        {
          "output_type": "execute_result",
          "data": {
            "text/plain": [
              "[(('Fake3', 'Композитор'), 7),\n",
              " (('Fake2', 'Сценарист'), 9),\n",
              " (('Исполнитель2', 'Геймдизайнер'), 60),\n",
              " (('Исполнитель1', 'Художник'), 90),\n",
              " (('Исполнитель9', 'Маркетолог'), 60),\n",
              " (('Fake1', 'Тестировщик'), 2)]"
            ]
          },
          "metadata": {},
          "execution_count": 90
        }
      ]
    },
    {
      "cell_type": "markdown",
      "source": [
        "### Поиск по двум критериям"
      ],
      "metadata": {
        "id": "TYgQbYbhFiJc"
      }
    },
    {
      "cell_type": "code",
      "source": [
        "algorithm.find_matching(dict_comb_fake, matching_type = 'max', return_type = 'list' )"
      ],
      "metadata": {
        "id": "Z5dR9x5cGWas",
        "colab": {
          "base_uri": "https://localhost:8080/"
        },
        "outputId": "7afd4869-f3a0-43a0-e39c-0b036142e30b"
      },
      "execution_count": 96,
      "outputs": [
        {
          "output_type": "execute_result",
          "data": {
            "text/plain": [
              "[(('Исполнитель7', 'Сценарист'), 0.45454545),\n",
              " (('Исполнитель1', 'Геймдизайнер'), 0.42307692),\n",
              " (('Fake3', 'Художник'), 0.1815),\n",
              " (('Fake2', 'Композитор'), 0.1895),\n",
              " (('Fake1', 'Тестировщик'), 0.1825),\n",
              " (('Исполнитель8', 'Маркетолог'), 0.39285714)]"
            ]
          },
          "metadata": {},
          "execution_count": 96
        }
      ]
    },
    {
      "cell_type": "markdown",
      "source": [
        "В результате работы венгерского алгоритма \"Исполнитель 1\" был назначен геймдизайнером, \"Исполнитель 7\" сценаристом, а \"Исполнитель 8\" маректологом."
      ],
      "metadata": {
        "id": "TcuTC_ZOsFiG"
      }
    },
    {
      "cell_type": "code",
      "source": [
        "Salary = [[40,50],\n",
        "        [60,90],   \n",
        "        [20,70],\n",
        "        [40,80],\n",
        "        [50,90],\n",
        "        [20,70],\n",
        "        [20,80],\n",
        "        [40,60],\n",
        "        [20,80]]\n",
        "Summ=0\n",
        "Motivation=0\n",
        "for i in range(len(Salary)):\n",
        "  Summ+=Salary[i][0]\n",
        "  Motivation+=Salary[i][1]\n",
        "\n",
        "print(\"Зарплата:\",Summ,\" \",\"Мотивация:\", Motivation)"
      ],
      "metadata": {
        "id": "BHSRMPRyuZkT",
        "colab": {
          "base_uri": "https://localhost:8080/"
        },
        "outputId": "0aaee239-b267-43c8-ffec-4055b8116393"
      },
      "execution_count": 97,
      "outputs": [
        {
          "output_type": "stream",
          "name": "stdout",
          "text": [
            "Зарплата: 310   Мотивация: 670\n"
          ]
        }
      ]
    },
    {
      "cell_type": "code",
      "source": [
        "import matplotlib.pyplot as plt\n",
        "\n",
        "x = np.arange(2)\n",
        "plt.figure(figsize=(10, 7), dpi=100)\n",
        "plt.bar(x, height=[480, 670])\n",
        "plt.xticks(x, ['Два критерия', 'Итоговый результат'])\n",
        "plt.title(\"Мотивация\")"
      ],
      "metadata": {
        "colab": {
          "base_uri": "https://localhost:8080/",
          "height": 629
        },
        "id": "1rlKAZuQVuOE",
        "outputId": "399fcf80-6fdf-4216-d16b-d892811c7fc9"
      },
      "execution_count": 102,
      "outputs": [
        {
          "output_type": "execute_result",
          "data": {
            "text/plain": [
              "Text(0.5, 1.0, 'Мотивация')"
            ]
          },
          "metadata": {},
          "execution_count": 102
        },
        {
          "output_type": "display_data",
          "data": {
            "text/plain": [
              "<Figure size 1000x700 with 1 Axes>"
            ],
            "image/png": "[encoded data removed]"
          },
          "metadata": {
            "needs_background": "light"
          }
        }
      ]
    },
    {
      "cell_type": "code",
      "source": [
        "x = np.arange(2)\n",
        "plt.figure(figsize=(10, 7), dpi=100)\n",
        "plt.bar(x, height=[210, 310])\n",
        "plt.xticks(x, ['Два критерия','Итоговый результат']);\n",
        "plt.title(\"Зарплата\")"
      ],
      "metadata": {
        "colab": {
          "base_uri": "https://localhost:8080/",
          "height": 629
        },
        "id": "Sp0cU25FVwdp",
        "outputId": "4288ebd2-74c7-4798-da0c-5cacce57c027"
      },
      "execution_count": 106,
      "outputs": [
        {
          "output_type": "execute_result",
          "data": {
            "text/plain": [
              "Text(0.5, 1.0, 'Зарплата')"
            ]
          },
          "metadata": {},
          "execution_count": 106
        },
        {
          "output_type": "display_data",
          "data": {
            "text/plain": [
              "<Figure size 1000x700 with 1 Axes>"
            ],
            "image/png": "[encoded data removed]"
          },
          "metadata": {
            "needs_background": "light"
          }
        }
      ]
    }
  ]
}