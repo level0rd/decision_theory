{
  "nbformat": 4,
  "nbformat_minor": 0,
  "metadata": {
    "colab": {
      "provenance": []
    },
    "kernelspec": {
      "name": "python3",
      "display_name": "Python 3"
    },
    "language_info": {
      "name": "python"
    }
  },
  "cells": [
    {
      "cell_type": "markdown",
      "source": [
        "## Задача о назначениях\n",
        "Необходимо собрать команду разработчиков для создания компьтерной игры. Необходимо выбрать: художника, тестировщика, сценариста, композитора, геймдизайнера и программиста. На выбор даны девять кандидатов. Известны заработная плата, которую они хотят, а также степень их заинтересованности. Необходимо назначить кандидатов так, чтобы на каждую должность должен быть назначен сотрудник.Заинтересованность кандидатов должна быть максимальной, а зарплата как можно более низкой."
      ],
      "metadata": {
        "id": "oQAJQDwsEvqG"
      }
    },
    {
      "cell_type": "markdown",
      "source": [
        "### Загружаем исходные данные"
      ],
      "metadata": {
        "id": "5h4JYHAuUcV_"
      }
    },
    {
      "cell_type": "code",
      "execution_count": 63,
      "metadata": {
        "colab": {
          "base_uri": "https://localhost:8080/"
        },
        "id": "aIqE-4xsEDWn",
        "outputId": "d52893c8-e57a-451b-9264-30f7f242e17a"
      },
      "outputs": [
        {
          "output_type": "stream",
          "name": "stdout",
          "text": [
            "Drive already mounted at /content/gdrive; to attempt to forcibly remount, call drive.mount(\"/content/gdrive\", force_remount=True).\n"
          ]
        }
      ],
      "source": [
        "from google.colab import drive\n",
        "drive.mount('/content/gdrive')"
      ]
    },
    {
      "cell_type": "code",
      "source": [
        "import pandas as pd\n",
        "import numpy as np\n",
        "\n",
        "df_salary_org = pd.read_csv('/content/gdrive/MyDrive/TPR/Z1/Data_salary.csv', encoding=\"cp1251\", sep=';')\n",
        "df_salary_org"
      ],
      "metadata": {
        "colab": {
          "base_uri": "https://localhost:8080/",
          "height": 332
        },
        "id": "7Qpl9k58OI9S",
        "outputId": "c9171c9f-a5d4-434a-b8b5-ac48c72ddffa"
      },
      "execution_count": 64,
      "outputs": [
        {
          "output_type": "execute_result",
          "data": {
            "text/plain": [
              "    Исполнители  Художник  Тестировщик  Сценарист  Композитор  Геймдизайнер  \\\n",
              "0  Исполнитель1        50           80         90          70            40   \n",
              "1  Исполнитель2        90           60         30          50            80   \n",
              "2  Исполнитель3        20           50         70          80            40   \n",
              "3  Исполнитель4        70           80         60          40            30   \n",
              "4  Исполнитель5       100           30         50          90            50   \n",
              "5  Исполнитель6        30           60         40          60            20   \n",
              "6  Исполнитель7        60           40         20          30            60   \n",
              "7  Исполнитель8        40           30         80          50            70   \n",
              "8  Исполнитель9        80           70         50          70            80   \n",
              "\n",
              "   Маркетолог  \n",
              "0          90  \n",
              "1          60  \n",
              "2          30  \n",
              "3          50  \n",
              "4          80  \n",
              "5          70  \n",
              "6          50  \n",
              "7          40  \n",
              "8          20  "
            ],
            "text/html": [
              "\n",
              "  <div id=\"df-0b696305-2797-4aa2-8550-bec1a6bd5f57\">\n",
              "    <div class=\"colab-df-container\">\n",
              "      <div>\n",
              "<style scoped>\n",
              "    .dataframe tbody tr th:only-of-type {\n",
              "        vertical-align: middle;\n",
              "    }\n",
              "\n",
              "    .dataframe tbody tr th {\n",
              "        vertical-align: top;\n",
              "    }\n",
              "\n",
              "    .dataframe thead th {\n",
              "        text-align: right;\n",
              "    }\n",
              "</style>\n",
              "<table border=\"1\" class=\"dataframe\">\n",
              "  <thead>\n",
              "    <tr style=\"text-align: right;\">\n",
              "      <th></th>\n",
              "      <th>Исполнители</th>\n",
              "      <th>Художник</th>\n",
              "      <th>Тестировщик</th>\n",
              "      <th>Сценарист</th>\n",
              "      <th>Композитор</th>\n",
              "      <th>Геймдизайнер</th>\n",
              "      <th>Маркетолог</th>\n",
              "    </tr>\n",
              "  </thead>\n",
              "  <tbody>\n",
              "    <tr>\n",
              "      <th>0</th>\n",
              "      <td>Исполнитель1</td>\n",
              "      <td>50</td>\n",
              "      <td>80</td>\n",
              "      <td>90</td>\n",
              "      <td>70</td>\n",
              "      <td>40</td>\n",
              "      <td>90</td>\n",
              "    </tr>\n",
              "    <tr>\n",
              "      <th>1</th>\n",
              "      <td>Исполнитель2</td>\n",
              "      <td>90</td>\n",
              "      <td>60</td>\n",
              "      <td>30</td>\n",
              "      <td>50</td>\n",
              "      <td>80</td>\n",
              "      <td>60</td>\n",
              "    </tr>\n",
              "    <tr>\n",
              "      <th>2</th>\n",
              "      <td>Исполнитель3</td>\n",
              "      <td>20</td>\n",
              "      <td>50</td>\n",
              "      <td>70</td>\n",
              "      <td>80</td>\n",
              "      <td>40</td>\n",
              "      <td>30</td>\n",
              "    </tr>\n",
              "    <tr>\n",
              "      <th>3</th>\n",
              "      <td>Исполнитель4</td>\n",
              "      <td>70</td>\n",
              "      <td>80</td>\n",
              "      <td>60</td>\n",
              "      <td>40</td>\n",
              "      <td>30</td>\n",
              "      <td>50</td>\n",
              "    </tr>\n",
              "    <tr>\n",
              "      <th>4</th>\n",
              "      <td>Исполнитель5</td>\n",
              "      <td>100</td>\n",
              "      <td>30</td>\n",
              "      <td>50</td>\n",
              "      <td>90</td>\n",
              "      <td>50</td>\n",
              "      <td>80</td>\n",
              "    </tr>\n",
              "    <tr>\n",
              "      <th>5</th>\n",
              "      <td>Исполнитель6</td>\n",
              "      <td>30</td>\n",
              "      <td>60</td>\n",
              "      <td>40</td>\n",
              "      <td>60</td>\n",
              "      <td>20</td>\n",
              "      <td>70</td>\n",
              "    </tr>\n",
              "    <tr>\n",
              "      <th>6</th>\n",
              "      <td>Исполнитель7</td>\n",
              "      <td>60</td>\n",
              "      <td>40</td>\n",
              "      <td>20</td>\n",
              "      <td>30</td>\n",
              "      <td>60</td>\n",
              "      <td>50</td>\n",
              "    </tr>\n",
              "    <tr>\n",
              "      <th>7</th>\n",
              "      <td>Исполнитель8</td>\n",
              "      <td>40</td>\n",
              "      <td>30</td>\n",
              "      <td>80</td>\n",
              "      <td>50</td>\n",
              "      <td>70</td>\n",
              "      <td>40</td>\n",
              "    </tr>\n",
              "    <tr>\n",
              "      <th>8</th>\n",
              "      <td>Исполнитель9</td>\n",
              "      <td>80</td>\n",
              "      <td>70</td>\n",
              "      <td>50</td>\n",
              "      <td>70</td>\n",
              "      <td>80</td>\n",
              "      <td>20</td>\n",
              "    </tr>\n",
              "  </tbody>\n",
              "</table>\n",
              "</div>\n",
              "      <button class=\"colab-df-convert\" onclick=\"convertToInteractive('df-0b696305-2797-4aa2-8550-bec1a6bd5f57')\"\n",
              "              title=\"Convert this dataframe to an interactive table.\"\n",
              "              style=\"display:none;\">\n",
              "        \n",
              "  <svg xmlns=\"http://www.w3.org/2000/svg\" height=\"24px\"viewBox=\"0 0 24 24\"\n",
              "       width=\"24px\">\n",
              "    <path d=\"M0 0h24v24H0V0z\" fill=\"none\"/>\n",
              "    <path d=\"M18.56 5.44l.94 2.06.94-2.06 2.06-.94-2.06-.94-.94-2.06-.94 2.06-2.06.94zm-11 1L8.5 8.5l.94-2.06 2.06-.94-2.06-.94L8.5 2.5l-.94 2.06-2.06.94zm10 10l.94 2.06.94-2.06 2.06-.94-2.06-.94-.94-2.06-.94 2.06-2.06.94z\"/><path d=\"M17.41 7.96l-1.37-1.37c-.4-.4-.92-.59-1.43-.59-.52 0-1.04.2-1.43.59L10.3 9.45l-7.72 7.72c-.78.78-.78 2.05 0 2.83L4 21.41c.39.39.9.59 1.41.59.51 0 1.02-.2 1.41-.59l7.78-7.78 2.81-2.81c.8-.78.8-2.07 0-2.86zM5.41 20L4 18.59l7.72-7.72 1.47 1.35L5.41 20z\"/>\n",
              "  </svg>\n",
              "      </button>\n",
              "      \n",
              "  <style>\n",
              "    .colab-df-container {\n",
              "      display:flex;\n",
              "      flex-wrap:wrap;\n",
              "      gap: 12px;\n",
              "    }\n",
              "\n",
              "    .colab-df-convert {\n",
              "      background-color: #E8F0FE;\n",
              "      border: none;\n",
              "      border-radius: 50%;\n",
              "      cursor: pointer;\n",
              "      display: none;\n",
              "      fill: #1967D2;\n",
              "      height: 32px;\n",
              "      padding: 0 0 0 0;\n",
              "      width: 32px;\n",
              "    }\n",
              "\n",
              "    .colab-df-convert:hover {\n",
              "      background-color: #E2EBFA;\n",
              "      box-shadow: 0px 1px 2px rgba(60, 64, 67, 0.3), 0px 1px 3px 1px rgba(60, 64, 67, 0.15);\n",
              "      fill: #174EA6;\n",
              "    }\n",
              "\n",
              "    [theme=dark] .colab-df-convert {\n",
              "      background-color: #3B4455;\n",
              "      fill: #D2E3FC;\n",
              "    }\n",
              "\n",
              "    [theme=dark] .colab-df-convert:hover {\n",
              "      background-color: #434B5C;\n",
              "      box-shadow: 0px 1px 3px 1px rgba(0, 0, 0, 0.15);\n",
              "      filter: drop-shadow(0px 1px 2px rgba(0, 0, 0, 0.3));\n",
              "      fill: #FFFFFF;\n",
              "    }\n",
              "  </style>\n",
              "\n",
              "      <script>\n",
              "        const buttonEl =\n",
              "          document.querySelector('#df-0b696305-2797-4aa2-8550-bec1a6bd5f57 button.colab-df-convert');\n",
              "        buttonEl.style.display =\n",
              "          google.colab.kernel.accessAllowed ? 'block' : 'none';\n",
              "\n",
              "        async function convertToInteractive(key) {\n",
              "          const element = document.querySelector('#df-0b696305-2797-4aa2-8550-bec1a6bd5f57');\n",
              "          const dataTable =\n",
              "            await google.colab.kernel.invokeFunction('convertToInteractive',\n",
              "                                                     [key], {});\n",
              "          if (!dataTable) return;\n",
              "\n",
              "          const docLinkHtml = 'Like what you see? Visit the ' +\n",
              "            '<a target=\"_blank\" href=https://colab.research.google.com/notebooks/data_table.ipynb>data table notebook</a>'\n",
              "            + ' to learn more about interactive tables.';\n",
              "          element.innerHTML = '';\n",
              "          dataTable['output_type'] = 'display_data';\n",
              "          await google.colab.output.renderOutput(dataTable, element);\n",
              "          const docLink = document.createElement('div');\n",
              "          docLink.innerHTML = docLinkHtml;\n",
              "          element.appendChild(docLink);\n",
              "        }\n",
              "      </script>\n",
              "    </div>\n",
              "  </div>\n",
              "  "
            ]
          },
          "metadata": {},
          "execution_count": 64
        }
      ]
    },
    {
      "cell_type": "code",
      "source": [
        "df_motivation_org = pd.read_csv('/content/gdrive/MyDrive/TPR/Z1/Data_motivation.csv', encoding=\"cp1251\", sep=';')\n",
        "df_motivation_org"
      ],
      "metadata": {
        "colab": {
          "base_uri": "https://localhost:8080/",
          "height": 332
        },
        "id": "ihLf3bx9THws",
        "outputId": "90e614fb-2e00-4e18-d9d8-b7b10021c20c"
      },
      "execution_count": 65,
      "outputs": [
        {
          "output_type": "execute_result",
          "data": {
            "text/plain": [
              "    Исполнители  Художник  Тестировщик  Сценарист  Композитор  Геймдизайнер  \\\n",
              "0  Исполнитель1        90           60         50          30            50   \n",
              "1  Исполнитель2        50           90         30          60            80   \n",
              "2  Исполнитель3        70           80         50          70            40   \n",
              "3  Исполнитель4        40           70         60          80            30   \n",
              "4  Исполнитель5        70           50         90          80            40   \n",
              "5  Исполнитель6        50           40         80          30            70   \n",
              "6  Исполнитель7        30           50         20          40            60   \n",
              "7  Исполнитель8        60           30         40          20            20   \n",
              "8  Исполнитель9        90           20         70          50            40   \n",
              "\n",
              "   Маркетолог  \n",
              "0          80  \n",
              "1          20  \n",
              "2          40  \n",
              "3          90  \n",
              "4          50  \n",
              "5          50  \n",
              "6          70  \n",
              "7          60  \n",
              "8          80  "
            ],
            "text/html": [
              "\n",
              "  <div id=\"df-fa83f5cf-8481-4a52-bbda-124c96ac1792\">\n",
              "    <div class=\"colab-df-container\">\n",
              "      <div>\n",
              "<style scoped>\n",
              "    .dataframe tbody tr th:only-of-type {\n",
              "        vertical-align: middle;\n",
              "    }\n",
              "\n",
              "    .dataframe tbody tr th {\n",
              "        vertical-align: top;\n",
              "    }\n",
              "\n",
              "    .dataframe thead th {\n",
              "        text-align: right;\n",
              "    }\n",
              "</style>\n",
              "<table border=\"1\" class=\"dataframe\">\n",
              "  <thead>\n",
              "    <tr style=\"text-align: right;\">\n",
              "      <th></th>\n",
              "      <th>Исполнители</th>\n",
              "      <th>Художник</th>\n",
              "      <th>Тестировщик</th>\n",
              "      <th>Сценарист</th>\n",
              "      <th>Композитор</th>\n",
              "      <th>Геймдизайнер</th>\n",
              "      <th>Маркетолог</th>\n",
              "    </tr>\n",
              "  </thead>\n",
              "  <tbody>\n",
              "    <tr>\n",
              "      <th>0</th>\n",
              "      <td>Исполнитель1</td>\n",
              "      <td>90</td>\n",
              "      <td>60</td>\n",
              "      <td>50</td>\n",
              "      <td>30</td>\n",
              "      <td>50</td>\n",
              "      <td>80</td>\n",
              "    </tr>\n",
              "    <tr>\n",
              "      <th>1</th>\n",
              "      <td>Исполнитель2</td>\n",
              "      <td>50</td>\n",
              "      <td>90</td>\n",
              "      <td>30</td>\n",
              "      <td>60</td>\n",
              "      <td>80</td>\n",
              "      <td>20</td>\n",
              "    </tr>\n",
              "    <tr>\n",
              "      <th>2</th>\n",
              "      <td>Исполнитель3</td>\n",
              "      <td>70</td>\n",
              "      <td>80</td>\n",
              "      <td>50</td>\n",
              "      <td>70</td>\n",
              "      <td>40</td>\n",
              "      <td>40</td>\n",
              "    </tr>\n",
              "    <tr>\n",
              "      <th>3</th>\n",
              "      <td>Исполнитель4</td>\n",
              "      <td>40</td>\n",
              "      <td>70</td>\n",
              "      <td>60</td>\n",
              "      <td>80</td>\n",
              "      <td>30</td>\n",
              "      <td>90</td>\n",
              "    </tr>\n",
              "    <tr>\n",
              "      <th>4</th>\n",
              "      <td>Исполнитель5</td>\n",
              "      <td>70</td>\n",
              "      <td>50</td>\n",
              "      <td>90</td>\n",
              "      <td>80</td>\n",
              "      <td>40</td>\n",
              "      <td>50</td>\n",
              "    </tr>\n",
              "    <tr>\n",
              "      <th>5</th>\n",
              "      <td>Исполнитель6</td>\n",
              "      <td>50</td>\n",
              "      <td>40</td>\n",
              "      <td>80</td>\n",
              "      <td>30</td>\n",
              "      <td>70</td>\n",
              "      <td>50</td>\n",
              "    </tr>\n",
              "    <tr>\n",
              "      <th>6</th>\n",
              "      <td>Исполнитель7</td>\n",
              "      <td>30</td>\n",
              "      <td>50</td>\n",
              "      <td>20</td>\n",
              "      <td>40</td>\n",
              "      <td>60</td>\n",
              "      <td>70</td>\n",
              "    </tr>\n",
              "    <tr>\n",
              "      <th>7</th>\n",
              "      <td>Исполнитель8</td>\n",
              "      <td>60</td>\n",
              "      <td>30</td>\n",
              "      <td>40</td>\n",
              "      <td>20</td>\n",
              "      <td>20</td>\n",
              "      <td>60</td>\n",
              "    </tr>\n",
              "    <tr>\n",
              "      <th>8</th>\n",
              "      <td>Исполнитель9</td>\n",
              "      <td>90</td>\n",
              "      <td>20</td>\n",
              "      <td>70</td>\n",
              "      <td>50</td>\n",
              "      <td>40</td>\n",
              "      <td>80</td>\n",
              "    </tr>\n",
              "  </tbody>\n",
              "</table>\n",
              "</div>\n",
              "      <button class=\"colab-df-convert\" onclick=\"convertToInteractive('df-fa83f5cf-8481-4a52-bbda-124c96ac1792')\"\n",
              "              title=\"Convert this dataframe to an interactive table.\"\n",
              "              style=\"display:none;\">\n",
              "        \n",
              "  <svg xmlns=\"http://www.w3.org/2000/svg\" height=\"24px\"viewBox=\"0 0 24 24\"\n",
              "       width=\"24px\">\n",
              "    <path d=\"M0 0h24v24H0V0z\" fill=\"none\"/>\n",
              "    <path d=\"M18.56 5.44l.94 2.06.94-2.06 2.06-.94-2.06-.94-.94-2.06-.94 2.06-2.06.94zm-11 1L8.5 8.5l.94-2.06 2.06-.94-2.06-.94L8.5 2.5l-.94 2.06-2.06.94zm10 10l.94 2.06.94-2.06 2.06-.94-2.06-.94-.94-2.06-.94 2.06-2.06.94z\"/><path d=\"M17.41 7.96l-1.37-1.37c-.4-.4-.92-.59-1.43-.59-.52 0-1.04.2-1.43.59L10.3 9.45l-7.72 7.72c-.78.78-.78 2.05 0 2.83L4 21.41c.39.39.9.59 1.41.59.51 0 1.02-.2 1.41-.59l7.78-7.78 2.81-2.81c.8-.78.8-2.07 0-2.86zM5.41 20L4 18.59l7.72-7.72 1.47 1.35L5.41 20z\"/>\n",
              "  </svg>\n",
              "      </button>\n",
              "      \n",
              "  <style>\n",
              "    .colab-df-container {\n",
              "      display:flex;\n",
              "      flex-wrap:wrap;\n",
              "      gap: 12px;\n",
              "    }\n",
              "\n",
              "    .colab-df-convert {\n",
              "      background-color: #E8F0FE;\n",
              "      border: none;\n",
              "      border-radius: 50%;\n",
              "      cursor: pointer;\n",
              "      display: none;\n",
              "      fill: #1967D2;\n",
              "      height: 32px;\n",
              "      padding: 0 0 0 0;\n",
              "      width: 32px;\n",
              "    }\n",
              "\n",
              "    .colab-df-convert:hover {\n",
              "      background-color: #E2EBFA;\n",
              "      box-shadow: 0px 1px 2px rgba(60, 64, 67, 0.3), 0px 1px 3px 1px rgba(60, 64, 67, 0.15);\n",
              "      fill: #174EA6;\n",
              "    }\n",
              "\n",
              "    [theme=dark] .colab-df-convert {\n",
              "      background-color: #3B4455;\n",
              "      fill: #D2E3FC;\n",
              "    }\n",
              "\n",
              "    [theme=dark] .colab-df-convert:hover {\n",
              "      background-color: #434B5C;\n",
              "      box-shadow: 0px 1px 3px 1px rgba(0, 0, 0, 0.15);\n",
              "      filter: drop-shadow(0px 1px 2px rgba(0, 0, 0, 0.3));\n",
              "      fill: #FFFFFF;\n",
              "    }\n",
              "  </style>\n",
              "\n",
              "      <script>\n",
              "        const buttonEl =\n",
              "          document.querySelector('#df-fa83f5cf-8481-4a52-bbda-124c96ac1792 button.colab-df-convert');\n",
              "        buttonEl.style.display =\n",
              "          google.colab.kernel.accessAllowed ? 'block' : 'none';\n",
              "\n",
              "        async function convertToInteractive(key) {\n",
              "          const element = document.querySelector('#df-fa83f5cf-8481-4a52-bbda-124c96ac1792');\n",
              "          const dataTable =\n",
              "            await google.colab.kernel.invokeFunction('convertToInteractive',\n",
              "                                                     [key], {});\n",
              "          if (!dataTable) return;\n",
              "\n",
              "          const docLinkHtml = 'Like what you see? Visit the ' +\n",
              "            '<a target=\"_blank\" href=https://colab.research.google.com/notebooks/data_table.ipynb>data table notebook</a>'\n",
              "            + ' to learn more about interactive tables.';\n",
              "          element.innerHTML = '';\n",
              "          dataTable['output_type'] = 'display_data';\n",
              "          await google.colab.output.renderOutput(dataTable, element);\n",
              "          const docLink = document.createElement('div');\n",
              "          docLink.innerHTML = docLinkHtml;\n",
              "          element.appendChild(docLink);\n",
              "        }\n",
              "      </script>\n",
              "    </div>\n",
              "  </div>\n",
              "  "
            ]
          },
          "metadata": {},
          "execution_count": 65
        }
      ]
    },
    {
      "cell_type": "markdown",
      "source": [
        "### Устанавливаем библиотеку"
      ],
      "metadata": {
        "id": "SykLxSmxUoYl"
      }
    },
    {
      "cell_type": "code",
      "source": [
        "pip install hungarian-algorithm"
      ],
      "metadata": {
        "colab": {
          "base_uri": "https://localhost:8080/"
        },
        "id": "Ow80g2FhUVqG",
        "outputId": "4cecd642-8365-4da4-eb5f-75e5200853a4"
      },
      "execution_count": 66,
      "outputs": [
        {
          "output_type": "stream",
          "name": "stdout",
          "text": [
            "Looking in indexes: https://pypi.org/simple, https://us-python.pkg.dev/colab-wheels/public/simple/\n",
            "Requirement already satisfied: hungarian-algorithm in /usr/local/lib/python3.9/dist-packages (0.1.11)\n"
          ]
        }
      ]
    },
    {
      "cell_type": "code",
      "source": [
        "import numpy as np\n",
        "from hungarian_algorithm import algorithm"
      ],
      "metadata": {
        "id": "NXuWwePdV29y"
      },
      "execution_count": 67,
      "outputs": []
    },
    {
      "cell_type": "markdown",
      "source": [
        "### Добавляем 3 фиктивные должности "
      ],
      "metadata": {
        "id": "HYaT8Porm627"
      }
    },
    {
      "cell_type": "code",
      "source": [
        "import random\n",
        "numbers = [20, 30, 40, 50, 60, 70, 80, 90]\n",
        "\n",
        "line = ''\n",
        "\n",
        "for i in range(9):\n",
        "     line = line + str(random.choice(numbers)) + ', '\n",
        "line"
      ],
      "metadata": {
        "colab": {
          "base_uri": "https://localhost:8080/",
          "height": 35
        },
        "id": "TqHP96J9uZ5U",
        "outputId": "639f4822-dbc9-4a27-cc85-86a732218b38"
      },
      "execution_count": 68,
      "outputs": [
        {
          "output_type": "execute_result",
          "data": {
            "text/plain": [
              "'60, 50, 70, 50, 90, 70, 90, 90, 50, '"
            ],
            "application/vnd.google.colaboratory.intrinsic+json": {
              "type": "string"
            }
          },
          "metadata": {},
          "execution_count": 68
        }
      ]
    },
    {
      "cell_type": "code",
      "source": [
        "df_salary_org[\"Fake1\"] = [20, 50, 70, 80, 40, 60, 50, 30, 40]\n",
        "df_salary_org[\"Fake2\"] = [90, 30, 60, 40, 50, 90, 20, 90, 40]\n",
        "df_salary_org[\"Fake3\"] = [70, 30, 80, 40, 30, 80, 40, 50, 50]\n",
        "df_motivation_org[\"Fake1\"] = [40, 40, 20, 50, 30, 90, 80, 20, 60]\n",
        "df_motivation_org[\"Fake2\"] = [60, 40, 60, 50, 50, 90, 50, 60, 30]\n",
        "df_motivation_org[\"Fake3\"] = [70, 20, 40, 80, 20, 90, 20, 60, 80]"
      ],
      "metadata": {
        "id": "9PS13jd4nV6n"
      },
      "execution_count": 69,
      "outputs": []
    },
    {
      "cell_type": "code",
      "source": [
        "df_salary_org"
      ],
      "metadata": {
        "colab": {
          "base_uri": "https://localhost:8080/",
          "height": 332
        },
        "id": "5aqhLKeQy7uh",
        "outputId": "afdb3f73-3709-43a1-d67d-4dcdd0bef205"
      },
      "execution_count": 70,
      "outputs": [
        {
          "output_type": "execute_result",
          "data": {
            "text/plain": [
              "    Исполнители  Художник  Тестировщик  Сценарист  Композитор  Геймдизайнер  \\\n",
              "0  Исполнитель1        50           80         90          70            40   \n",
              "1  Исполнитель2        90           60         30          50            80   \n",
              "2  Исполнитель3        20           50         70          80            40   \n",
              "3  Исполнитель4        70           80         60          40            30   \n",
              "4  Исполнитель5       100           30         50          90            50   \n",
              "5  Исполнитель6        30           60         40          60            20   \n",
              "6  Исполнитель7        60           40         20          30            60   \n",
              "7  Исполнитель8        40           30         80          50            70   \n",
              "8  Исполнитель9        80           70         50          70            80   \n",
              "\n",
              "   Маркетолог  Fake1  Fake2  Fake3  \n",
              "0          90     20     90     70  \n",
              "1          60     50     30     30  \n",
              "2          30     70     60     80  \n",
              "3          50     80     40     40  \n",
              "4          80     40     50     30  \n",
              "5          70     60     90     80  \n",
              "6          50     50     20     40  \n",
              "7          40     30     90     50  \n",
              "8          20     40     40     50  "
            ],
            "text/html": [
              "\n",
              "  <div id=\"df-b87fc7b4-5226-44fd-94a3-d3db68e0d641\">\n",
              "    <div class=\"colab-df-container\">\n",
              "      <div>\n",
              "<style scoped>\n",
              "    .dataframe tbody tr th:only-of-type {\n",
              "        vertical-align: middle;\n",
              "    }\n",
              "\n",
              "    .dataframe tbody tr th {\n",
              "        vertical-align: top;\n",
              "    }\n",
              "\n",
              "    .dataframe thead th {\n",
              "        text-align: right;\n",
              "    }\n",
              "</style>\n",
              "<table border=\"1\" class=\"dataframe\">\n",
              "  <thead>\n",
              "    <tr style=\"text-align: right;\">\n",
              "      <th></th>\n",
              "      <th>Исполнители</th>\n",
              "      <th>Художник</th>\n",
              "      <th>Тестировщик</th>\n",
              "      <th>Сценарист</th>\n",
              "      <th>Композитор</th>\n",
              "      <th>Геймдизайнер</th>\n",
              "      <th>Маркетолог</th>\n",
              "      <th>Fake1</th>\n",
              "      <th>Fake2</th>\n",
              "      <th>Fake3</th>\n",
              "    </tr>\n",
              "  </thead>\n",
              "  <tbody>\n",
              "    <tr>\n",
              "      <th>0</th>\n",
              "      <td>Исполнитель1</td>\n",
              "      <td>50</td>\n",
              "      <td>80</td>\n",
              "      <td>90</td>\n",
              "      <td>70</td>\n",
              "      <td>40</td>\n",
              "      <td>90</td>\n",
              "      <td>20</td>\n",
              "      <td>90</td>\n",
              "      <td>70</td>\n",
              "    </tr>\n",
              "    <tr>\n",
              "      <th>1</th>\n",
              "      <td>Исполнитель2</td>\n",
              "      <td>90</td>\n",
              "      <td>60</td>\n",
              "      <td>30</td>\n",
              "      <td>50</td>\n",
              "      <td>80</td>\n",
              "      <td>60</td>\n",
              "      <td>50</td>\n",
              "      <td>30</td>\n",
              "      <td>30</td>\n",
              "    </tr>\n",
              "    <tr>\n",
              "      <th>2</th>\n",
              "      <td>Исполнитель3</td>\n",
              "      <td>20</td>\n",
              "      <td>50</td>\n",
              "      <td>70</td>\n",
              "      <td>80</td>\n",
              "      <td>40</td>\n",
              "      <td>30</td>\n",
              "      <td>70</td>\n",
              "      <td>60</td>\n",
              "      <td>80</td>\n",
              "    </tr>\n",
              "    <tr>\n",
              "      <th>3</th>\n",
              "      <td>Исполнитель4</td>\n",
              "      <td>70</td>\n",
              "      <td>80</td>\n",
              "      <td>60</td>\n",
              "      <td>40</td>\n",
              "      <td>30</td>\n",
              "      <td>50</td>\n",
              "      <td>80</td>\n",
              "      <td>40</td>\n",
              "      <td>40</td>\n",
              "    </tr>\n",
              "    <tr>\n",
              "      <th>4</th>\n",
              "      <td>Исполнитель5</td>\n",
              "      <td>100</td>\n",
              "      <td>30</td>\n",
              "      <td>50</td>\n",
              "      <td>90</td>\n",
              "      <td>50</td>\n",
              "      <td>80</td>\n",
              "      <td>40</td>\n",
              "      <td>50</td>\n",
              "      <td>30</td>\n",
              "    </tr>\n",
              "    <tr>\n",
              "      <th>5</th>\n",
              "      <td>Исполнитель6</td>\n",
              "      <td>30</td>\n",
              "      <td>60</td>\n",
              "      <td>40</td>\n",
              "      <td>60</td>\n",
              "      <td>20</td>\n",
              "      <td>70</td>\n",
              "      <td>60</td>\n",
              "      <td>90</td>\n",
              "      <td>80</td>\n",
              "    </tr>\n",
              "    <tr>\n",
              "      <th>6</th>\n",
              "      <td>Исполнитель7</td>\n",
              "      <td>60</td>\n",
              "      <td>40</td>\n",
              "      <td>20</td>\n",
              "      <td>30</td>\n",
              "      <td>60</td>\n",
              "      <td>50</td>\n",
              "      <td>50</td>\n",
              "      <td>20</td>\n",
              "      <td>40</td>\n",
              "    </tr>\n",
              "    <tr>\n",
              "      <th>7</th>\n",
              "      <td>Исполнитель8</td>\n",
              "      <td>40</td>\n",
              "      <td>30</td>\n",
              "      <td>80</td>\n",
              "      <td>50</td>\n",
              "      <td>70</td>\n",
              "      <td>40</td>\n",
              "      <td>30</td>\n",
              "      <td>90</td>\n",
              "      <td>50</td>\n",
              "    </tr>\n",
              "    <tr>\n",
              "      <th>8</th>\n",
              "      <td>Исполнитель9</td>\n",
              "      <td>80</td>\n",
              "      <td>70</td>\n",
              "      <td>50</td>\n",
              "      <td>70</td>\n",
              "      <td>80</td>\n",
              "      <td>20</td>\n",
              "      <td>40</td>\n",
              "      <td>40</td>\n",
              "      <td>50</td>\n",
              "    </tr>\n",
              "  </tbody>\n",
              "</table>\n",
              "</div>\n",
              "      <button class=\"colab-df-convert\" onclick=\"convertToInteractive('df-b87fc7b4-5226-44fd-94a3-d3db68e0d641')\"\n",
              "              title=\"Convert this dataframe to an interactive table.\"\n",
              "              style=\"display:none;\">\n",
              "        \n",
              "  <svg xmlns=\"http://www.w3.org/2000/svg\" height=\"24px\"viewBox=\"0 0 24 24\"\n",
              "       width=\"24px\">\n",
              "    <path d=\"M0 0h24v24H0V0z\" fill=\"none\"/>\n",
              "    <path d=\"M18.56 5.44l.94 2.06.94-2.06 2.06-.94-2.06-.94-.94-2.06-.94 2.06-2.06.94zm-11 1L8.5 8.5l.94-2.06 2.06-.94-2.06-.94L8.5 2.5l-.94 2.06-2.06.94zm10 10l.94 2.06.94-2.06 2.06-.94-2.06-.94-.94-2.06-.94 2.06-2.06.94z\"/><path d=\"M17.41 7.96l-1.37-1.37c-.4-.4-.92-.59-1.43-.59-.52 0-1.04.2-1.43.59L10.3 9.45l-7.72 7.72c-.78.78-.78 2.05 0 2.83L4 21.41c.39.39.9.59 1.41.59.51 0 1.02-.2 1.41-.59l7.78-7.78 2.81-2.81c.8-.78.8-2.07 0-2.86zM5.41 20L4 18.59l7.72-7.72 1.47 1.35L5.41 20z\"/>\n",
              "  </svg>\n",
              "      </button>\n",
              "      \n",
              "  <style>\n",
              "    .colab-df-container {\n",
              "      display:flex;\n",
              "      flex-wrap:wrap;\n",
              "      gap: 12px;\n",
              "    }\n",
              "\n",
              "    .colab-df-convert {\n",
              "      background-color: #E8F0FE;\n",
              "      border: none;\n",
              "      border-radius: 50%;\n",
              "      cursor: pointer;\n",
              "      display: none;\n",
              "      fill: #1967D2;\n",
              "      height: 32px;\n",
              "      padding: 0 0 0 0;\n",
              "      width: 32px;\n",
              "    }\n",
              "\n",
              "    .colab-df-convert:hover {\n",
              "      background-color: #E2EBFA;\n",
              "      box-shadow: 0px 1px 2px rgba(60, 64, 67, 0.3), 0px 1px 3px 1px rgba(60, 64, 67, 0.15);\n",
              "      fill: #174EA6;\n",
              "    }\n",
              "\n",
              "    [theme=dark] .colab-df-convert {\n",
              "      background-color: #3B4455;\n",
              "      fill: #D2E3FC;\n",
              "    }\n",
              "\n",
              "    [theme=dark] .colab-df-convert:hover {\n",
              "      background-color: #434B5C;\n",
              "      box-shadow: 0px 1px 3px 1px rgba(0, 0, 0, 0.15);\n",
              "      filter: drop-shadow(0px 1px 2px rgba(0, 0, 0, 0.3));\n",
              "      fill: #FFFFFF;\n",
              "    }\n",
              "  </style>\n",
              "\n",
              "      <script>\n",
              "        const buttonEl =\n",
              "          document.querySelector('#df-b87fc7b4-5226-44fd-94a3-d3db68e0d641 button.colab-df-convert');\n",
              "        buttonEl.style.display =\n",
              "          google.colab.kernel.accessAllowed ? 'block' : 'none';\n",
              "\n",
              "        async function convertToInteractive(key) {\n",
              "          const element = document.querySelector('#df-b87fc7b4-5226-44fd-94a3-d3db68e0d641');\n",
              "          const dataTable =\n",
              "            await google.colab.kernel.invokeFunction('convertToInteractive',\n",
              "                                                     [key], {});\n",
              "          if (!dataTable) return;\n",
              "\n",
              "          const docLinkHtml = 'Like what you see? Visit the ' +\n",
              "            '<a target=\"_blank\" href=https://colab.research.google.com/notebooks/data_table.ipynb>data table notebook</a>'\n",
              "            + ' to learn more about interactive tables.';\n",
              "          element.innerHTML = '';\n",
              "          dataTable['output_type'] = 'display_data';\n",
              "          await google.colab.output.renderOutput(dataTable, element);\n",
              "          const docLink = document.createElement('div');\n",
              "          docLink.innerHTML = docLinkHtml;\n",
              "          element.appendChild(docLink);\n",
              "        }\n",
              "      </script>\n",
              "    </div>\n",
              "  </div>\n",
              "  "
            ]
          },
          "metadata": {},
          "execution_count": 70
        }
      ]
    },
    {
      "cell_type": "code",
      "source": [
        "df_motivation_org"
      ],
      "metadata": {
        "colab": {
          "base_uri": "https://localhost:8080/",
          "height": 332
        },
        "id": "XZz1e_hazCii",
        "outputId": "4143dc79-9c15-419d-a0a0-7cad162439f2"
      },
      "execution_count": 71,
      "outputs": [
        {
          "output_type": "execute_result",
          "data": {
            "text/plain": [
              "    Исполнители  Художник  Тестировщик  Сценарист  Композитор  Геймдизайнер  \\\n",
              "0  Исполнитель1        90           60         50          30            50   \n",
              "1  Исполнитель2        50           90         30          60            80   \n",
              "2  Исполнитель3        70           80         50          70            40   \n",
              "3  Исполнитель4        40           70         60          80            30   \n",
              "4  Исполнитель5        70           50         90          80            40   \n",
              "5  Исполнитель6        50           40         80          30            70   \n",
              "6  Исполнитель7        30           50         20          40            60   \n",
              "7  Исполнитель8        60           30         40          20            20   \n",
              "8  Исполнитель9        90           20         70          50            40   \n",
              "\n",
              "   Маркетолог  Fake1  Fake2  Fake3  \n",
              "0          80     40     60     70  \n",
              "1          20     40     40     20  \n",
              "2          40     20     60     40  \n",
              "3          90     50     50     80  \n",
              "4          50     30     50     20  \n",
              "5          50     90     90     90  \n",
              "6          70     80     50     20  \n",
              "7          60     20     60     60  \n",
              "8          80     60     30     80  "
            ],
            "text/html": [
              "\n",
              "  <div id=\"df-f92ae9dd-3cef-4924-aa37-b06ffdc51f24\">\n",
              "    <div class=\"colab-df-container\">\n",
              "      <div>\n",
              "<style scoped>\n",
              "    .dataframe tbody tr th:only-of-type {\n",
              "        vertical-align: middle;\n",
              "    }\n",
              "\n",
              "    .dataframe tbody tr th {\n",
              "        vertical-align: top;\n",
              "    }\n",
              "\n",
              "    .dataframe thead th {\n",
              "        text-align: right;\n",
              "    }\n",
              "</style>\n",
              "<table border=\"1\" class=\"dataframe\">\n",
              "  <thead>\n",
              "    <tr style=\"text-align: right;\">\n",
              "      <th></th>\n",
              "      <th>Исполнители</th>\n",
              "      <th>Художник</th>\n",
              "      <th>Тестировщик</th>\n",
              "      <th>Сценарист</th>\n",
              "      <th>Композитор</th>\n",
              "      <th>Геймдизайнер</th>\n",
              "      <th>Маркетолог</th>\n",
              "      <th>Fake1</th>\n",
              "      <th>Fake2</th>\n",
              "      <th>Fake3</th>\n",
              "    </tr>\n",
              "  </thead>\n",
              "  <tbody>\n",
              "    <tr>\n",
              "      <th>0</th>\n",
              "      <td>Исполнитель1</td>\n",
              "      <td>90</td>\n",
              "      <td>60</td>\n",
              "      <td>50</td>\n",
              "      <td>30</td>\n",
              "      <td>50</td>\n",
              "      <td>80</td>\n",
              "      <td>40</td>\n",
              "      <td>60</td>\n",
              "      <td>70</td>\n",
              "    </tr>\n",
              "    <tr>\n",
              "      <th>1</th>\n",
              "      <td>Исполнитель2</td>\n",
              "      <td>50</td>\n",
              "      <td>90</td>\n",
              "      <td>30</td>\n",
              "      <td>60</td>\n",
              "      <td>80</td>\n",
              "      <td>20</td>\n",
              "      <td>40</td>\n",
              "      <td>40</td>\n",
              "      <td>20</td>\n",
              "    </tr>\n",
              "    <tr>\n",
              "      <th>2</th>\n",
              "      <td>Исполнитель3</td>\n",
              "      <td>70</td>\n",
              "      <td>80</td>\n",
              "      <td>50</td>\n",
              "      <td>70</td>\n",
              "      <td>40</td>\n",
              "      <td>40</td>\n",
              "      <td>20</td>\n",
              "      <td>60</td>\n",
              "      <td>40</td>\n",
              "    </tr>\n",
              "    <tr>\n",
              "      <th>3</th>\n",
              "      <td>Исполнитель4</td>\n",
              "      <td>40</td>\n",
              "      <td>70</td>\n",
              "      <td>60</td>\n",
              "      <td>80</td>\n",
              "      <td>30</td>\n",
              "      <td>90</td>\n",
              "      <td>50</td>\n",
              "      <td>50</td>\n",
              "      <td>80</td>\n",
              "    </tr>\n",
              "    <tr>\n",
              "      <th>4</th>\n",
              "      <td>Исполнитель5</td>\n",
              "      <td>70</td>\n",
              "      <td>50</td>\n",
              "      <td>90</td>\n",
              "      <td>80</td>\n",
              "      <td>40</td>\n",
              "      <td>50</td>\n",
              "      <td>30</td>\n",
              "      <td>50</td>\n",
              "      <td>20</td>\n",
              "    </tr>\n",
              "    <tr>\n",
              "      <th>5</th>\n",
              "      <td>Исполнитель6</td>\n",
              "      <td>50</td>\n",
              "      <td>40</td>\n",
              "      <td>80</td>\n",
              "      <td>30</td>\n",
              "      <td>70</td>\n",
              "      <td>50</td>\n",
              "      <td>90</td>\n",
              "      <td>90</td>\n",
              "      <td>90</td>\n",
              "    </tr>\n",
              "    <tr>\n",
              "      <th>6</th>\n",
              "      <td>Исполнитель7</td>\n",
              "      <td>30</td>\n",
              "      <td>50</td>\n",
              "      <td>20</td>\n",
              "      <td>40</td>\n",
              "      <td>60</td>\n",
              "      <td>70</td>\n",
              "      <td>80</td>\n",
              "      <td>50</td>\n",
              "      <td>20</td>\n",
              "    </tr>\n",
              "    <tr>\n",
              "      <th>7</th>\n",
              "      <td>Исполнитель8</td>\n",
              "      <td>60</td>\n",
              "      <td>30</td>\n",
              "      <td>40</td>\n",
              "      <td>20</td>\n",
              "      <td>20</td>\n",
              "      <td>60</td>\n",
              "      <td>20</td>\n",
              "      <td>60</td>\n",
              "      <td>60</td>\n",
              "    </tr>\n",
              "    <tr>\n",
              "      <th>8</th>\n",
              "      <td>Исполнитель9</td>\n",
              "      <td>90</td>\n",
              "      <td>20</td>\n",
              "      <td>70</td>\n",
              "      <td>50</td>\n",
              "      <td>40</td>\n",
              "      <td>80</td>\n",
              "      <td>60</td>\n",
              "      <td>30</td>\n",
              "      <td>80</td>\n",
              "    </tr>\n",
              "  </tbody>\n",
              "</table>\n",
              "</div>\n",
              "      <button class=\"colab-df-convert\" onclick=\"convertToInteractive('df-f92ae9dd-3cef-4924-aa37-b06ffdc51f24')\"\n",
              "              title=\"Convert this dataframe to an interactive table.\"\n",
              "              style=\"display:none;\">\n",
              "        \n",
              "  <svg xmlns=\"http://www.w3.org/2000/svg\" height=\"24px\"viewBox=\"0 0 24 24\"\n",
              "       width=\"24px\">\n",
              "    <path d=\"M0 0h24v24H0V0z\" fill=\"none\"/>\n",
              "    <path d=\"M18.56 5.44l.94 2.06.94-2.06 2.06-.94-2.06-.94-.94-2.06-.94 2.06-2.06.94zm-11 1L8.5 8.5l.94-2.06 2.06-.94-2.06-.94L8.5 2.5l-.94 2.06-2.06.94zm10 10l.94 2.06.94-2.06 2.06-.94-2.06-.94-.94-2.06-.94 2.06-2.06.94z\"/><path d=\"M17.41 7.96l-1.37-1.37c-.4-.4-.92-.59-1.43-.59-.52 0-1.04.2-1.43.59L10.3 9.45l-7.72 7.72c-.78.78-.78 2.05 0 2.83L4 21.41c.39.39.9.59 1.41.59.51 0 1.02-.2 1.41-.59l7.78-7.78 2.81-2.81c.8-.78.8-2.07 0-2.86zM5.41 20L4 18.59l7.72-7.72 1.47 1.35L5.41 20z\"/>\n",
              "  </svg>\n",
              "      </button>\n",
              "      \n",
              "  <style>\n",
              "    .colab-df-container {\n",
              "      display:flex;\n",
              "      flex-wrap:wrap;\n",
              "      gap: 12px;\n",
              "    }\n",
              "\n",
              "    .colab-df-convert {\n",
              "      background-color: #E8F0FE;\n",
              "      border: none;\n",
              "      border-radius: 50%;\n",
              "      cursor: pointer;\n",
              "      display: none;\n",
              "      fill: #1967D2;\n",
              "      height: 32px;\n",
              "      padding: 0 0 0 0;\n",
              "      width: 32px;\n",
              "    }\n",
              "\n",
              "    .colab-df-convert:hover {\n",
              "      background-color: #E2EBFA;\n",
              "      box-shadow: 0px 1px 2px rgba(60, 64, 67, 0.3), 0px 1px 3px 1px rgba(60, 64, 67, 0.15);\n",
              "      fill: #174EA6;\n",
              "    }\n",
              "\n",
              "    [theme=dark] .colab-df-convert {\n",
              "      background-color: #3B4455;\n",
              "      fill: #D2E3FC;\n",
              "    }\n",
              "\n",
              "    [theme=dark] .colab-df-convert:hover {\n",
              "      background-color: #434B5C;\n",
              "      box-shadow: 0px 1px 3px 1px rgba(0, 0, 0, 0.15);\n",
              "      filter: drop-shadow(0px 1px 2px rgba(0, 0, 0, 0.3));\n",
              "      fill: #FFFFFF;\n",
              "    }\n",
              "  </style>\n",
              "\n",
              "      <script>\n",
              "        const buttonEl =\n",
              "          document.querySelector('#df-f92ae9dd-3cef-4924-aa37-b06ffdc51f24 button.colab-df-convert');\n",
              "        buttonEl.style.display =\n",
              "          google.colab.kernel.accessAllowed ? 'block' : 'none';\n",
              "\n",
              "        async function convertToInteractive(key) {\n",
              "          const element = document.querySelector('#df-f92ae9dd-3cef-4924-aa37-b06ffdc51f24');\n",
              "          const dataTable =\n",
              "            await google.colab.kernel.invokeFunction('convertToInteractive',\n",
              "                                                     [key], {});\n",
              "          if (!dataTable) return;\n",
              "\n",
              "          const docLinkHtml = 'Like what you see? Visit the ' +\n",
              "            '<a target=\"_blank\" href=https://colab.research.google.com/notebooks/data_table.ipynb>data table notebook</a>'\n",
              "            + ' to learn more about interactive tables.';\n",
              "          element.innerHTML = '';\n",
              "          dataTable['output_type'] = 'display_data';\n",
              "          await google.colab.output.renderOutput(dataTable, element);\n",
              "          const docLink = document.createElement('div');\n",
              "          docLink.innerHTML = docLinkHtml;\n",
              "          element.appendChild(docLink);\n",
              "        }\n",
              "      </script>\n",
              "    </div>\n",
              "  </div>\n",
              "  "
            ]
          },
          "metadata": {},
          "execution_count": 71
        }
      ]
    },
    {
      "cell_type": "markdown",
      "source": [
        "### Преобразуем таблицы в массивы"
      ],
      "metadata": {
        "id": "FtbjKjH2eBOf"
      }
    },
    {
      "cell_type": "code",
      "source": [
        "df_salary = df_salary_org.drop('Исполнители', axis=1)\n",
        "df_salary"
      ],
      "metadata": {
        "colab": {
          "base_uri": "https://localhost:8080/",
          "height": 332
        },
        "id": "MiUaCG0Ha54S",
        "outputId": "c09af260-f383-4b2f-f908-ce95a539da14"
      },
      "execution_count": 72,
      "outputs": [
        {
          "output_type": "execute_result",
          "data": {
            "text/plain": [
              "   Художник  Тестировщик  Сценарист  Композитор  Геймдизайнер  Маркетолог  \\\n",
              "0        50           80         90          70            40          90   \n",
              "1        90           60         30          50            80          60   \n",
              "2        20           50         70          80            40          30   \n",
              "3        70           80         60          40            30          50   \n",
              "4       100           30         50          90            50          80   \n",
              "5        30           60         40          60            20          70   \n",
              "6        60           40         20          30            60          50   \n",
              "7        40           30         80          50            70          40   \n",
              "8        80           70         50          70            80          20   \n",
              "\n",
              "   Fake1  Fake2  Fake3  \n",
              "0     20     90     70  \n",
              "1     50     30     30  \n",
              "2     70     60     80  \n",
              "3     80     40     40  \n",
              "4     40     50     30  \n",
              "5     60     90     80  \n",
              "6     50     20     40  \n",
              "7     30     90     50  \n",
              "8     40     40     50  "
            ],
            "text/html": [
              "\n",
              "  <div id=\"df-827837fa-8ebb-49d8-a73f-192895d435e2\">\n",
              "    <div class=\"colab-df-container\">\n",
              "      <div>\n",
              "<style scoped>\n",
              "    .dataframe tbody tr th:only-of-type {\n",
              "        vertical-align: middle;\n",
              "    }\n",
              "\n",
              "    .dataframe tbody tr th {\n",
              "        vertical-align: top;\n",
              "    }\n",
              "\n",
              "    .dataframe thead th {\n",
              "        text-align: right;\n",
              "    }\n",
              "</style>\n",
              "<table border=\"1\" class=\"dataframe\">\n",
              "  <thead>\n",
              "    <tr style=\"text-align: right;\">\n",
              "      <th></th>\n",
              "      <th>Художник</th>\n",
              "      <th>Тестировщик</th>\n",
              "      <th>Сценарист</th>\n",
              "      <th>Композитор</th>\n",
              "      <th>Геймдизайнер</th>\n",
              "      <th>Маркетолог</th>\n",
              "      <th>Fake1</th>\n",
              "      <th>Fake2</th>\n",
              "      <th>Fake3</th>\n",
              "    </tr>\n",
              "  </thead>\n",
              "  <tbody>\n",
              "    <tr>\n",
              "      <th>0</th>\n",
              "      <td>50</td>\n",
              "      <td>80</td>\n",
              "      <td>90</td>\n",
              "      <td>70</td>\n",
              "      <td>40</td>\n",
              "      <td>90</td>\n",
              "      <td>20</td>\n",
              "      <td>90</td>\n",
              "      <td>70</td>\n",
              "    </tr>\n",
              "    <tr>\n",
              "      <th>1</th>\n",
              "      <td>90</td>\n",
              "      <td>60</td>\n",
              "      <td>30</td>\n",
              "      <td>50</td>\n",
              "      <td>80</td>\n",
              "      <td>60</td>\n",
              "      <td>50</td>\n",
              "      <td>30</td>\n",
              "      <td>30</td>\n",
              "    </tr>\n",
              "    <tr>\n",
              "      <th>2</th>\n",
              "      <td>20</td>\n",
              "      <td>50</td>\n",
              "      <td>70</td>\n",
              "      <td>80</td>\n",
              "      <td>40</td>\n",
              "      <td>30</td>\n",
              "      <td>70</td>\n",
              "      <td>60</td>\n",
              "      <td>80</td>\n",
              "    </tr>\n",
              "    <tr>\n",
              "      <th>3</th>\n",
              "      <td>70</td>\n",
              "      <td>80</td>\n",
              "      <td>60</td>\n",
              "      <td>40</td>\n",
              "      <td>30</td>\n",
              "      <td>50</td>\n",
              "      <td>80</td>\n",
              "      <td>40</td>\n",
              "      <td>40</td>\n",
              "    </tr>\n",
              "    <tr>\n",
              "      <th>4</th>\n",
              "      <td>100</td>\n",
              "      <td>30</td>\n",
              "      <td>50</td>\n",
              "      <td>90</td>\n",
              "      <td>50</td>\n",
              "      <td>80</td>\n",
              "      <td>40</td>\n",
              "      <td>50</td>\n",
              "      <td>30</td>\n",
              "    </tr>\n",
              "    <tr>\n",
              "      <th>5</th>\n",
              "      <td>30</td>\n",
              "      <td>60</td>\n",
              "      <td>40</td>\n",
              "      <td>60</td>\n",
              "      <td>20</td>\n",
              "      <td>70</td>\n",
              "      <td>60</td>\n",
              "      <td>90</td>\n",
              "      <td>80</td>\n",
              "    </tr>\n",
              "    <tr>\n",
              "      <th>6</th>\n",
              "      <td>60</td>\n",
              "      <td>40</td>\n",
              "      <td>20</td>\n",
              "      <td>30</td>\n",
              "      <td>60</td>\n",
              "      <td>50</td>\n",
              "      <td>50</td>\n",
              "      <td>20</td>\n",
              "      <td>40</td>\n",
              "    </tr>\n",
              "    <tr>\n",
              "      <th>7</th>\n",
              "      <td>40</td>\n",
              "      <td>30</td>\n",
              "      <td>80</td>\n",
              "      <td>50</td>\n",
              "      <td>70</td>\n",
              "      <td>40</td>\n",
              "      <td>30</td>\n",
              "      <td>90</td>\n",
              "      <td>50</td>\n",
              "    </tr>\n",
              "    <tr>\n",
              "      <th>8</th>\n",
              "      <td>80</td>\n",
              "      <td>70</td>\n",
              "      <td>50</td>\n",
              "      <td>70</td>\n",
              "      <td>80</td>\n",
              "      <td>20</td>\n",
              "      <td>40</td>\n",
              "      <td>40</td>\n",
              "      <td>50</td>\n",
              "    </tr>\n",
              "  </tbody>\n",
              "</table>\n",
              "</div>\n",
              "      <button class=\"colab-df-convert\" onclick=\"convertToInteractive('df-827837fa-8ebb-49d8-a73f-192895d435e2')\"\n",
              "              title=\"Convert this dataframe to an interactive table.\"\n",
              "              style=\"display:none;\">\n",
              "        \n",
              "  <svg xmlns=\"http://www.w3.org/2000/svg\" height=\"24px\"viewBox=\"0 0 24 24\"\n",
              "       width=\"24px\">\n",
              "    <path d=\"M0 0h24v24H0V0z\" fill=\"none\"/>\n",
              "    <path d=\"M18.56 5.44l.94 2.06.94-2.06 2.06-.94-2.06-.94-.94-2.06-.94 2.06-2.06.94zm-11 1L8.5 8.5l.94-2.06 2.06-.94-2.06-.94L8.5 2.5l-.94 2.06-2.06.94zm10 10l.94 2.06.94-2.06 2.06-.94-2.06-.94-.94-2.06-.94 2.06-2.06.94z\"/><path d=\"M17.41 7.96l-1.37-1.37c-.4-.4-.92-.59-1.43-.59-.52 0-1.04.2-1.43.59L10.3 9.45l-7.72 7.72c-.78.78-.78 2.05 0 2.83L4 21.41c.39.39.9.59 1.41.59.51 0 1.02-.2 1.41-.59l7.78-7.78 2.81-2.81c.8-.78.8-2.07 0-2.86zM5.41 20L4 18.59l7.72-7.72 1.47 1.35L5.41 20z\"/>\n",
              "  </svg>\n",
              "      </button>\n",
              "      \n",
              "  <style>\n",
              "    .colab-df-container {\n",
              "      display:flex;\n",
              "      flex-wrap:wrap;\n",
              "      gap: 12px;\n",
              "    }\n",
              "\n",
              "    .colab-df-convert {\n",
              "      background-color: #E8F0FE;\n",
              "      border: none;\n",
              "      border-radius: 50%;\n",
              "      cursor: pointer;\n",
              "      display: none;\n",
              "      fill: #1967D2;\n",
              "      height: 32px;\n",
              "      padding: 0 0 0 0;\n",
              "      width: 32px;\n",
              "    }\n",
              "\n",
              "    .colab-df-convert:hover {\n",
              "      background-color: #E2EBFA;\n",
              "      box-shadow: 0px 1px 2px rgba(60, 64, 67, 0.3), 0px 1px 3px 1px rgba(60, 64, 67, 0.15);\n",
              "      fill: #174EA6;\n",
              "    }\n",
              "\n",
              "    [theme=dark] .colab-df-convert {\n",
              "      background-color: #3B4455;\n",
              "      fill: #D2E3FC;\n",
              "    }\n",
              "\n",
              "    [theme=dark] .colab-df-convert:hover {\n",
              "      background-color: #434B5C;\n",
              "      box-shadow: 0px 1px 3px 1px rgba(0, 0, 0, 0.15);\n",
              "      filter: drop-shadow(0px 1px 2px rgba(0, 0, 0, 0.3));\n",
              "      fill: #FFFFFF;\n",
              "    }\n",
              "  </style>\n",
              "\n",
              "      <script>\n",
              "        const buttonEl =\n",
              "          document.querySelector('#df-827837fa-8ebb-49d8-a73f-192895d435e2 button.colab-df-convert');\n",
              "        buttonEl.style.display =\n",
              "          google.colab.kernel.accessAllowed ? 'block' : 'none';\n",
              "\n",
              "        async function convertToInteractive(key) {\n",
              "          const element = document.querySelector('#df-827837fa-8ebb-49d8-a73f-192895d435e2');\n",
              "          const dataTable =\n",
              "            await google.colab.kernel.invokeFunction('convertToInteractive',\n",
              "                                                     [key], {});\n",
              "          if (!dataTable) return;\n",
              "\n",
              "          const docLinkHtml = 'Like what you see? Visit the ' +\n",
              "            '<a target=\"_blank\" href=https://colab.research.google.com/notebooks/data_table.ipynb>data table notebook</a>'\n",
              "            + ' to learn more about interactive tables.';\n",
              "          element.innerHTML = '';\n",
              "          dataTable['output_type'] = 'display_data';\n",
              "          await google.colab.output.renderOutput(dataTable, element);\n",
              "          const docLink = document.createElement('div');\n",
              "          docLink.innerHTML = docLinkHtml;\n",
              "          element.appendChild(docLink);\n",
              "        }\n",
              "      </script>\n",
              "    </div>\n",
              "  </div>\n",
              "  "
            ]
          },
          "metadata": {},
          "execution_count": 72
        }
      ]
    },
    {
      "cell_type": "code",
      "source": [
        "tab_salary = np.array(df_salary)\n",
        "tab_salary"
      ],
      "metadata": {
        "colab": {
          "base_uri": "https://localhost:8080/"
        },
        "id": "EXXuHicFWjA_",
        "outputId": "a4123363-aa60-4913-ec26-ad50f6121263"
      },
      "execution_count": 73,
      "outputs": [
        {
          "output_type": "execute_result",
          "data": {
            "text/plain": [
              "array([[ 50,  80,  90,  70,  40,  90,  20,  90,  70],\n",
              "       [ 90,  60,  30,  50,  80,  60,  50,  30,  30],\n",
              "       [ 20,  50,  70,  80,  40,  30,  70,  60,  80],\n",
              "       [ 70,  80,  60,  40,  30,  50,  80,  40,  40],\n",
              "       [100,  30,  50,  90,  50,  80,  40,  50,  30],\n",
              "       [ 30,  60,  40,  60,  20,  70,  60,  90,  80],\n",
              "       [ 60,  40,  20,  30,  60,  50,  50,  20,  40],\n",
              "       [ 40,  30,  80,  50,  70,  40,  30,  90,  50],\n",
              "       [ 80,  70,  50,  70,  80,  20,  40,  40,  50]])"
            ]
          },
          "metadata": {},
          "execution_count": 73
        }
      ]
    },
    {
      "cell_type": "code",
      "source": [
        "df_motivation = df_motivation_org.drop('Исполнители', axis=1)\n",
        "tab_motivation = np.array(df_motivation)\n",
        "tab_motivation"
      ],
      "metadata": {
        "colab": {
          "base_uri": "https://localhost:8080/"
        },
        "id": "IOWJ31aMbiQW",
        "outputId": "4c3a22a6-ff7d-4337-b67d-cca77a619796"
      },
      "execution_count": 74,
      "outputs": [
        {
          "output_type": "execute_result",
          "data": {
            "text/plain": [
              "array([[90, 60, 50, 30, 50, 80, 40, 60, 70],\n",
              "       [50, 90, 30, 60, 80, 20, 40, 40, 20],\n",
              "       [70, 80, 50, 70, 40, 40, 20, 60, 40],\n",
              "       [40, 70, 60, 80, 30, 90, 50, 50, 80],\n",
              "       [70, 50, 90, 80, 40, 50, 30, 50, 20],\n",
              "       [50, 40, 80, 30, 70, 50, 90, 90, 90],\n",
              "       [30, 50, 20, 40, 60, 70, 80, 50, 20],\n",
              "       [60, 30, 40, 20, 20, 60, 20, 60, 60],\n",
              "       [90, 20, 70, 50, 40, 80, 60, 30, 80]])"
            ]
          },
          "metadata": {},
          "execution_count": 74
        }
      ]
    },
    {
      "cell_type": "markdown",
      "source": [
        "### Находим суммы значений для каждого столбца"
      ],
      "metadata": {
        "id": "-4SxHz_YeGjl"
      }
    },
    {
      "cell_type": "code",
      "source": [
        "sum_salary = list(map(sum,zip(*tab_salary)))\n",
        "sum_salary"
      ],
      "metadata": {
        "colab": {
          "base_uri": "https://localhost:8080/"
        },
        "id": "OIi2nuUIb_FN",
        "outputId": "cdc385b0-d797-4f76-89b3-73f851c79274"
      },
      "execution_count": 75,
      "outputs": [
        {
          "output_type": "execute_result",
          "data": {
            "text/plain": [
              "[540, 500, 490, 540, 470, 490, 440, 510, 470]"
            ]
          },
          "metadata": {},
          "execution_count": 75
        }
      ]
    },
    {
      "cell_type": "code",
      "source": [
        "sum_motivation = list(map(sum,zip(*tab_motivation)))\n",
        "sum_motivation"
      ],
      "metadata": {
        "colab": {
          "base_uri": "https://localhost:8080/"
        },
        "id": "IGTygAOvjOzT",
        "outputId": "4c3b057b-c039-4f3b-bb68-965af509f6e6"
      },
      "execution_count": 76,
      "outputs": [
        {
          "output_type": "execute_result",
          "data": {
            "text/plain": [
              "[550, 490, 490, 460, 430, 540, 430, 490, 480]"
            ]
          },
          "metadata": {},
          "execution_count": 76
        }
      ]
    },
    {
      "cell_type": "code",
      "source": [
        "list_motivation = np.array(tab_motivation).tolist()\n",
        "list_salary = np.array(tab_salary).tolist()"
      ],
      "metadata": {
        "id": "91FHgP-Q4H3d"
      },
      "execution_count": 77,
      "outputs": []
    },
    {
      "cell_type": "markdown",
      "source": [
        "### Производим нормализацию таблиц"
      ],
      "metadata": {
        "id": "8m1z_ou8juLt"
      }
    },
    {
      "cell_type": "code",
      "source": [
        "for i in range(len(list_salary)):\n",
        "  for j in range(len(list_salary)):\n",
        "    list_salary[j][i]=float(list_salary[j][i])/float(sum_salary[i])\n",
        "print(np.copy(list_salary))"
      ],
      "metadata": {
        "colab": {
          "base_uri": "https://localhost:8080/"
        },
        "id": "ratxIH7hjzIO",
        "outputId": "3631bba6-438c-4e11-b01d-78867345e146"
      },
      "execution_count": 78,
      "outputs": [
        {
          "output_type": "stream",
          "name": "stdout",
          "text": [
            "[[0.09259259 0.16       0.18367347 0.12962963 0.08510638 0.18367347\n",
            "  0.04545455 0.17647059 0.14893617]\n",
            " [0.16666667 0.12       0.06122449 0.09259259 0.17021277 0.12244898\n",
            "  0.11363636 0.05882353 0.06382979]\n",
            " [0.03703704 0.1        0.14285714 0.14814815 0.08510638 0.06122449\n",
            "  0.15909091 0.11764706 0.17021277]\n",
            " [0.12962963 0.16       0.12244898 0.07407407 0.06382979 0.10204082\n",
            "  0.18181818 0.07843137 0.08510638]\n",
            " [0.18518519 0.06       0.10204082 0.16666667 0.10638298 0.16326531\n",
            "  0.09090909 0.09803922 0.06382979]\n",
            " [0.05555556 0.12       0.08163265 0.11111111 0.04255319 0.14285714\n",
            "  0.13636364 0.17647059 0.17021277]\n",
            " [0.11111111 0.08       0.04081633 0.05555556 0.12765957 0.10204082\n",
            "  0.11363636 0.03921569 0.08510638]\n",
            " [0.07407407 0.06       0.16326531 0.09259259 0.14893617 0.08163265\n",
            "  0.06818182 0.17647059 0.10638298]\n",
            " [0.14814815 0.14       0.10204082 0.12962963 0.17021277 0.04081633\n",
            "  0.09090909 0.07843137 0.10638298]]\n"
          ]
        }
      ]
    },
    {
      "cell_type": "code",
      "source": [
        "for i in range(len(list_salary)):\n",
        "  for j in range(len(list_salary)):\n",
        "    list_motivation[j][i]=float(list_motivation[j][i])/float(sum_motivation[i])\n",
        "print(np.copy(list_motivation))"
      ],
      "metadata": {
        "colab": {
          "base_uri": "https://localhost:8080/"
        },
        "id": "dRIG-4Xz0pb8",
        "outputId": "7775bc10-3ce2-402c-82f8-be8aac59fc93"
      },
      "execution_count": 79,
      "outputs": [
        {
          "output_type": "stream",
          "name": "stdout",
          "text": [
            "[[0.16363636 0.12244898 0.10204082 0.06521739 0.11627907 0.14814815\n",
            "  0.09302326 0.12244898 0.14583333]\n",
            " [0.09090909 0.18367347 0.06122449 0.13043478 0.18604651 0.03703704\n",
            "  0.09302326 0.08163265 0.04166667]\n",
            " [0.12727273 0.16326531 0.10204082 0.15217391 0.09302326 0.07407407\n",
            "  0.04651163 0.12244898 0.08333333]\n",
            " [0.07272727 0.14285714 0.12244898 0.17391304 0.06976744 0.16666667\n",
            "  0.11627907 0.10204082 0.16666667]\n",
            " [0.12727273 0.10204082 0.18367347 0.17391304 0.09302326 0.09259259\n",
            "  0.06976744 0.10204082 0.04166667]\n",
            " [0.09090909 0.08163265 0.16326531 0.06521739 0.1627907  0.09259259\n",
            "  0.20930233 0.18367347 0.1875    ]\n",
            " [0.05454545 0.10204082 0.04081633 0.08695652 0.13953488 0.12962963\n",
            "  0.18604651 0.10204082 0.04166667]\n",
            " [0.10909091 0.06122449 0.08163265 0.04347826 0.04651163 0.11111111\n",
            "  0.04651163 0.12244898 0.125     ]\n",
            " [0.16363636 0.04081633 0.14285714 0.10869565 0.09302326 0.14814815\n",
            "  0.13953488 0.06122449 0.16666667]]\n"
          ]
        }
      ]
    },
    {
      "cell_type": "markdown",
      "source": [
        "### Создаем таблицу для общих критериев"
      ],
      "metadata": {
        "id": "gScJaGHM5aYw"
      }
    },
    {
      "cell_type": "code",
      "source": [
        "list_comb = list_salary\n",
        "for i in range(len(list_salary)):\n",
        "  for j in range(len(list_salary)):\n",
        "    list_comb[i][j]=(list_salary[i][j]+list_motivation[i][j])/2\n",
        "\n",
        "print(np.copy(list_comb))"
      ],
      "metadata": {
        "colab": {
          "base_uri": "https://localhost:8080/"
        },
        "id": "cPIia8v95syc",
        "outputId": "99ec2a07-2d4d-4384-ec75-21a425e0a137"
      },
      "execution_count": 80,
      "outputs": [
        {
          "output_type": "stream",
          "name": "stdout",
          "text": [
            "[[0.12811448 0.14122449 0.14285714 0.09742351 0.10069273 0.16591081\n",
            "  0.0692389  0.14945978 0.14738475]\n",
            " [0.12878788 0.15183673 0.06122449 0.11151369 0.17812964 0.07974301\n",
            "  0.10332981 0.07022809 0.05274823]\n",
            " [0.08215488 0.13163265 0.12244898 0.15016103 0.08906482 0.06764928\n",
            "  0.10280127 0.12004802 0.12677305]\n",
            " [0.10117845 0.15142857 0.12244898 0.12399356 0.06679861 0.13435374\n",
            "  0.14904863 0.09023609 0.12588652]\n",
            " [0.15622896 0.08102041 0.14285714 0.17028986 0.09970312 0.12792895\n",
            "  0.08033827 0.10004002 0.05274823]\n",
            " [0.07323232 0.10081633 0.12244898 0.08816425 0.10267194 0.11772487\n",
            "  0.17283298 0.18007203 0.17885638]\n",
            " [0.08282828 0.09102041 0.04081633 0.07125604 0.13359723 0.11583522\n",
            "  0.14984144 0.07062825 0.06338652]\n",
            " [0.09158249 0.06061224 0.12244898 0.06803543 0.0977239  0.09637188\n",
            "  0.05734672 0.14945978 0.11569149]\n",
            " [0.15589226 0.09040816 0.12244898 0.11916264 0.13161801 0.09448224\n",
            "  0.11522199 0.06982793 0.13652482]]\n"
          ]
        }
      ]
    },
    {
      "cell_type": "markdown",
      "source": [
        "### Конвертируем все данные в словари, с которыми работает библиотека"
      ],
      "metadata": {
        "id": "39ChxIIAfG1_"
      }
    },
    {
      "cell_type": "code",
      "source": [
        "candidate1 = list_comb[0]\n",
        "candidate2 = list_comb[1]\n",
        "candidate3 = list_comb[2]\n",
        "candidate4 = list_comb[3]\n",
        "candidate5 = list_comb[4]\n",
        "candidate6 = list_comb[5]\n",
        "candidate7 = list_comb[6]\n",
        "candidate8 = list_comb[7]\n",
        "candidate9 = list_comb[8]\n",
        "\n",
        "\n",
        "res = pd.DataFrame([candidate1, candidate2, candidate3, candidate4, candidate5, candidate6, candidate7, candidate8, candidate9], \n",
        "             columns=['Художник', 'Тестировщик', 'Сценарист', 'Композитор', 'Геймдизайнер', 'Маркетолог', 'Fake1', 'Fake2', 'Fake3'])\n",
        "\n",
        "new_col = ['Исполнитель1', 'Исполнитель2', 'Исполнитель3', 'Исполнитель4', 'Исполнитель5', 'Исполнитель6', 'Исполнитель7', 'Исполнитель8', 'Исполнитель9']\n",
        " \n",
        "res.insert(loc = 0,\n",
        "           column = 'Исполнители',\n",
        "          value = new_col)"
      ],
      "metadata": {
        "id": "wopudmOGcByv"
      },
      "execution_count": 81,
      "outputs": []
    },
    {
      "cell_type": "code",
      "source": [
        "res = res.set_index('Исполнители')\n",
        "res.index.names = [None]\n",
        "dict_comb = res.to_dict('index')\n",
        "dict_comb"
      ],
      "metadata": {
        "colab": {
          "base_uri": "https://localhost:8080/"
        },
        "id": "1FXi60RClZ6b",
        "outputId": "90bcc718-9545-4004-a98d-f4567f289d67"
      },
      "execution_count": 82,
      "outputs": [
        {
          "output_type": "execute_result",
          "data": {
            "text/plain": [
              "{'Исполнитель1': {'Художник': 0.12811447811447813,\n",
              "  'Тестировщик': 0.14122448979591837,\n",
              "  'Сценарист': 0.14285714285714285,\n",
              "  'Композитор': 0.09742351046698872,\n",
              "  'Геймдизайнер': 0.10069272637308263,\n",
              "  'Маркетолог': 0.1659108087679516,\n",
              "  'Fake1': 0.06923890063424948,\n",
              "  'Fake2': 0.14945978391356543,\n",
              "  'Fake3': 0.14738475177304966},\n",
              " 'Исполнитель2': {'Художник': 0.12878787878787878,\n",
              "  'Тестировщик': 0.15183673469387754,\n",
              "  'Сценарист': 0.061224489795918366,\n",
              "  'Композитор': 0.11151368760064412,\n",
              "  'Геймдизайнер': 0.1781296387926769,\n",
              "  'Маркетолог': 0.07974300831443688,\n",
              "  'Fake1': 0.10332980972515857,\n",
              "  'Fake2': 0.0702280912364946,\n",
              "  'Fake3': 0.05274822695035461},\n",
              " 'Исполнитель3': {'Художник': 0.08215488215488215,\n",
              "  'Тестировщик': 0.13163265306122449,\n",
              "  'Сценарист': 0.12244897959183673,\n",
              "  'Композитор': 0.1501610305958132,\n",
              "  'Геймдизайнер': 0.08906481939633845,\n",
              "  'Маркетолог': 0.06764928193499622,\n",
              "  'Fake1': 0.10280126849894292,\n",
              "  'Fake2': 0.12004801920768307,\n",
              "  'Fake3': 0.12677304964539007},\n",
              " 'Исполнитель4': {'Художник': 0.10117845117845117,\n",
              "  'Тестировщик': 0.1514285714285714,\n",
              "  'Сценарист': 0.12244897959183673,\n",
              "  'Композитор': 0.12399355877616747,\n",
              "  'Геймдизайнер': 0.06679861454725383,\n",
              "  'Маркетолог': 0.13435374149659862,\n",
              "  'Fake1': 0.14904862579281183,\n",
              "  'Fake2': 0.09023609443777511,\n",
              "  'Fake3': 0.12588652482269502},\n",
              " 'Исполнитель5': {'Художник': 0.15622895622895622,\n",
              "  'Тестировщик': 0.0810204081632653,\n",
              "  'Сценарист': 0.14285714285714285,\n",
              "  'Композитор': 0.17028985507246375,\n",
              "  'Геймдизайнер': 0.09970311726867886,\n",
              "  'Маркетолог': 0.12792894935752078,\n",
              "  'Fake1': 0.080338266384778,\n",
              "  'Fake2': 0.10004001600640255,\n",
              "  'Fake3': 0.05274822695035461},\n",
              " 'Исполнитель6': {'Художник': 0.07323232323232323,\n",
              "  'Тестировщик': 0.10081632653061223,\n",
              "  'Сценарист': 0.12244897959183673,\n",
              "  'Композитор': 0.08816425120772947,\n",
              "  'Геймдизайнер': 0.10267194458189016,\n",
              "  'Маркетолог': 0.11772486772486772,\n",
              "  'Fake1': 0.17283298097251587,\n",
              "  'Fake2': 0.18007202881152462,\n",
              "  'Fake3': 0.17885638297872342},\n",
              " 'Исполнитель7': {'Художник': 0.08282828282828282,\n",
              "  'Тестировщик': 0.09102040816326532,\n",
              "  'Сценарист': 0.04081632653061224,\n",
              "  'Композитор': 0.07125603864734299,\n",
              "  'Геймдизайнер': 0.13359722909450766,\n",
              "  'Маркетолог': 0.11583522297808012,\n",
              "  'Fake1': 0.1498414376321353,\n",
              "  'Fake2': 0.07062825130052021,\n",
              "  'Fake3': 0.06338652482269504},\n",
              " 'Исполнитель8': {'Художник': 0.09158249158249157,\n",
              "  'Тестировщик': 0.06061224489795918,\n",
              "  'Сценарист': 0.12244897959183673,\n",
              "  'Композитор': 0.0680354267310789,\n",
              "  'Геймдизайнер': 0.09772389905987135,\n",
              "  'Маркетолог': 0.09637188208616779,\n",
              "  'Fake1': 0.05734672304439746,\n",
              "  'Fake2': 0.14945978391356543,\n",
              "  'Fake3': 0.11569148936170212},\n",
              " 'Исполнитель9': {'Художник': 0.1558922558922559,\n",
              "  'Тестировщик': 0.09040816326530612,\n",
              "  'Сценарист': 0.12244897959183673,\n",
              "  'Композитор': 0.11916264090177134,\n",
              "  'Геймдизайнер': 0.13161801088570013,\n",
              "  'Маркетолог': 0.09448223733938019,\n",
              "  'Fake1': 0.11522198731501057,\n",
              "  'Fake2': 0.069827931172469,\n",
              "  'Fake3': 0.13652482269503546}}"
            ]
          },
          "metadata": {},
          "execution_count": 82
        }
      ]
    },
    {
      "cell_type": "code",
      "source": [
        "df_salary = df_salary_org.set_index('Исполнители')\n",
        "df_salary.index.names = [None]\n",
        "dict_salary = df_salary.to_dict('index')\n",
        "dict_salary"
      ],
      "metadata": {
        "colab": {
          "base_uri": "https://localhost:8080/"
        },
        "id": "jXugk5mop7ix",
        "outputId": "56b9aa88-f637-4473-e5e3-37139e567486"
      },
      "execution_count": 83,
      "outputs": [
        {
          "output_type": "execute_result",
          "data": {
            "text/plain": [
              "{'Исполнитель1': {'Художник': 50,\n",
              "  'Тестировщик': 80,\n",
              "  'Сценарист': 90,\n",
              "  'Композитор': 70,\n",
              "  'Геймдизайнер': 40,\n",
              "  'Маркетолог': 90,\n",
              "  'Fake1': 20,\n",
              "  'Fake2': 90,\n",
              "  'Fake3': 70},\n",
              " 'Исполнитель2': {'Художник': 90,\n",
              "  'Тестировщик': 60,\n",
              "  'Сценарист': 30,\n",
              "  'Композитор': 50,\n",
              "  'Геймдизайнер': 80,\n",
              "  'Маркетолог': 60,\n",
              "  'Fake1': 50,\n",
              "  'Fake2': 30,\n",
              "  'Fake3': 30},\n",
              " 'Исполнитель3': {'Художник': 20,\n",
              "  'Тестировщик': 50,\n",
              "  'Сценарист': 70,\n",
              "  'Композитор': 80,\n",
              "  'Геймдизайнер': 40,\n",
              "  'Маркетолог': 30,\n",
              "  'Fake1': 70,\n",
              "  'Fake2': 60,\n",
              "  'Fake3': 80},\n",
              " 'Исполнитель4': {'Художник': 70,\n",
              "  'Тестировщик': 80,\n",
              "  'Сценарист': 60,\n",
              "  'Композитор': 40,\n",
              "  'Геймдизайнер': 30,\n",
              "  'Маркетолог': 50,\n",
              "  'Fake1': 80,\n",
              "  'Fake2': 40,\n",
              "  'Fake3': 40},\n",
              " 'Исполнитель5': {'Художник': 100,\n",
              "  'Тестировщик': 30,\n",
              "  'Сценарист': 50,\n",
              "  'Композитор': 90,\n",
              "  'Геймдизайнер': 50,\n",
              "  'Маркетолог': 80,\n",
              "  'Fake1': 40,\n",
              "  'Fake2': 50,\n",
              "  'Fake3': 30},\n",
              " 'Исполнитель6': {'Художник': 30,\n",
              "  'Тестировщик': 60,\n",
              "  'Сценарист': 40,\n",
              "  'Композитор': 60,\n",
              "  'Геймдизайнер': 20,\n",
              "  'Маркетолог': 70,\n",
              "  'Fake1': 60,\n",
              "  'Fake2': 90,\n",
              "  'Fake3': 80},\n",
              " 'Исполнитель7': {'Художник': 60,\n",
              "  'Тестировщик': 40,\n",
              "  'Сценарист': 20,\n",
              "  'Композитор': 30,\n",
              "  'Геймдизайнер': 60,\n",
              "  'Маркетолог': 50,\n",
              "  'Fake1': 50,\n",
              "  'Fake2': 20,\n",
              "  'Fake3': 40},\n",
              " 'Исполнитель8': {'Художник': 40,\n",
              "  'Тестировщик': 30,\n",
              "  'Сценарист': 80,\n",
              "  'Композитор': 50,\n",
              "  'Геймдизайнер': 70,\n",
              "  'Маркетолог': 40,\n",
              "  'Fake1': 30,\n",
              "  'Fake2': 90,\n",
              "  'Fake3': 50},\n",
              " 'Исполнитель9': {'Художник': 80,\n",
              "  'Тестировщик': 70,\n",
              "  'Сценарист': 50,\n",
              "  'Композитор': 70,\n",
              "  'Геймдизайнер': 80,\n",
              "  'Маркетолог': 20,\n",
              "  'Fake1': 40,\n",
              "  'Fake2': 40,\n",
              "  'Fake3': 50}}"
            ]
          },
          "metadata": {},
          "execution_count": 83
        }
      ]
    },
    {
      "cell_type": "code",
      "source": [
        "df_motivation  = df_motivation_org.set_index('Исполнители')\n",
        "df_motivation .index.names = [None]\n",
        "dict_motivation  = df_motivation.to_dict('index')\n",
        "dict_motivation "
      ],
      "metadata": {
        "colab": {
          "base_uri": "https://localhost:8080/"
        },
        "id": "ISeoe2RtrpAq",
        "outputId": "5df7f9ef-acce-4790-be26-061ddc871b28"
      },
      "execution_count": 84,
      "outputs": [
        {
          "output_type": "execute_result",
          "data": {
            "text/plain": [
              "{'Исполнитель1': {'Художник': 90,\n",
              "  'Тестировщик': 60,\n",
              "  'Сценарист': 50,\n",
              "  'Композитор': 30,\n",
              "  'Геймдизайнер': 50,\n",
              "  'Маркетолог': 80,\n",
              "  'Fake1': 40,\n",
              "  'Fake2': 60,\n",
              "  'Fake3': 70},\n",
              " 'Исполнитель2': {'Художник': 50,\n",
              "  'Тестировщик': 90,\n",
              "  'Сценарист': 30,\n",
              "  'Композитор': 60,\n",
              "  'Геймдизайнер': 80,\n",
              "  'Маркетолог': 20,\n",
              "  'Fake1': 40,\n",
              "  'Fake2': 40,\n",
              "  'Fake3': 20},\n",
              " 'Исполнитель3': {'Художник': 70,\n",
              "  'Тестировщик': 80,\n",
              "  'Сценарист': 50,\n",
              "  'Композитор': 70,\n",
              "  'Геймдизайнер': 40,\n",
              "  'Маркетолог': 40,\n",
              "  'Fake1': 20,\n",
              "  'Fake2': 60,\n",
              "  'Fake3': 40},\n",
              " 'Исполнитель4': {'Художник': 40,\n",
              "  'Тестировщик': 70,\n",
              "  'Сценарист': 60,\n",
              "  'Композитор': 80,\n",
              "  'Геймдизайнер': 30,\n",
              "  'Маркетолог': 90,\n",
              "  'Fake1': 50,\n",
              "  'Fake2': 50,\n",
              "  'Fake3': 80},\n",
              " 'Исполнитель5': {'Художник': 70,\n",
              "  'Тестировщик': 50,\n",
              "  'Сценарист': 90,\n",
              "  'Композитор': 80,\n",
              "  'Геймдизайнер': 40,\n",
              "  'Маркетолог': 50,\n",
              "  'Fake1': 30,\n",
              "  'Fake2': 50,\n",
              "  'Fake3': 20},\n",
              " 'Исполнитель6': {'Художник': 50,\n",
              "  'Тестировщик': 40,\n",
              "  'Сценарист': 80,\n",
              "  'Композитор': 30,\n",
              "  'Геймдизайнер': 70,\n",
              "  'Маркетолог': 50,\n",
              "  'Fake1': 90,\n",
              "  'Fake2': 90,\n",
              "  'Fake3': 90},\n",
              " 'Исполнитель7': {'Художник': 30,\n",
              "  'Тестировщик': 50,\n",
              "  'Сценарист': 20,\n",
              "  'Композитор': 40,\n",
              "  'Геймдизайнер': 60,\n",
              "  'Маркетолог': 70,\n",
              "  'Fake1': 80,\n",
              "  'Fake2': 50,\n",
              "  'Fake3': 20},\n",
              " 'Исполнитель8': {'Художник': 60,\n",
              "  'Тестировщик': 30,\n",
              "  'Сценарист': 40,\n",
              "  'Композитор': 20,\n",
              "  'Геймдизайнер': 20,\n",
              "  'Маркетолог': 60,\n",
              "  'Fake1': 20,\n",
              "  'Fake2': 60,\n",
              "  'Fake3': 60},\n",
              " 'Исполнитель9': {'Художник': 90,\n",
              "  'Тестировщик': 20,\n",
              "  'Сценарист': 70,\n",
              "  'Композитор': 50,\n",
              "  'Геймдизайнер': 40,\n",
              "  'Маркетолог': 80,\n",
              "  'Fake1': 60,\n",
              "  'Fake2': 30,\n",
              "  'Fake3': 80}}"
            ]
          },
          "metadata": {},
          "execution_count": 84
        }
      ]
    },
    {
      "cell_type": "markdown",
      "source": [
        "### Поиск по первому критерию"
      ],
      "metadata": {
        "id": "Qh0rjFcnHVos"
      }
    },
    {
      "cell_type": "code",
      "source": [
        "algorithm.find_matching(dict_salary, matching_type = 'min', return_type = 'list' )"
      ],
      "metadata": {
        "colab": {
          "base_uri": "https://localhost:8080/"
        },
        "id": "-86v8dA9FpJ5",
        "outputId": "1733af6f-5d42-42d8-9f4e-c5d3cd01a97e"
      },
      "execution_count": 85,
      "outputs": [
        {
          "output_type": "execute_result",
          "data": {
            "text/plain": [
              "[(('Исполнитель2', 'Сценарист'), 30),\n",
              " (('Исполнитель4', 'Композитор'), 40),\n",
              " (('Исполнитель7', 'Fake2'), 20),\n",
              " (('Исполнитель3', 'Художник'), 20),\n",
              " (('Исполнитель8', 'Тестировщик'), 30),\n",
              " (('Исполнитель9', 'Маркетолог'), 20),\n",
              " (('Исполнитель1', 'Fake1'), 20),\n",
              " (('Исполнитель6', 'Геймдизайнер'), 20),\n",
              " (('Исполнитель5', 'Fake3'), 30)]"
            ]
          },
          "metadata": {},
          "execution_count": 85
        }
      ]
    },
    {
      "cell_type": "markdown",
      "source": [
        "### Поиск по второму критерию"
      ],
      "metadata": {
        "id": "-PYFYyZZJg7E"
      }
    },
    {
      "cell_type": "code",
      "source": [
        "algorithm.find_matching(dict_motivation, matching_type = 'max', return_type = 'list' )"
      ],
      "metadata": {
        "colab": {
          "base_uri": "https://localhost:8080/"
        },
        "id": "eSqG-CowJjNp",
        "outputId": "073cfbb1-57ad-468c-fc0c-fddfb66c78fe"
      },
      "execution_count": 86,
      "outputs": [
        {
          "output_type": "execute_result",
          "data": {
            "text/plain": [
              "[(('Исполнитель8', 'Fake2'), 60),\n",
              " (('Исполнитель9', 'Художник'), 90),\n",
              " (('Исполнитель5', 'Сценарист'), 90),\n",
              " (('Исполнитель7', 'Fake1'), 80),\n",
              " (('Исполнитель1', 'Маркетолог'), 80),\n",
              " (('Исполнитель6', 'Fake3'), 90),\n",
              " (('Исполнитель4', 'Композитор'), 80),\n",
              " (('Исполнитель2', 'Геймдизайнер'), 80),\n",
              " (('Исполнитель3', 'Тестировщик'), 80)]"
            ]
          },
          "metadata": {},
          "execution_count": 86
        }
      ]
    },
    {
      "cell_type": "markdown",
      "source": [
        "### Поиск по двум критериям"
      ],
      "metadata": {
        "id": "YedTLKeUTncD"
      }
    },
    {
      "cell_type": "code",
      "source": [
        "algorithm.find_matching(dict_comb, matching_type = 'min', return_type = 'list' )"
      ],
      "metadata": {
        "colab": {
          "base_uri": "https://localhost:8080/"
        },
        "id": "kmG7cs9oKDrM",
        "outputId": "568b0174-df97-4fde-d3d4-9fcf52850943"
      },
      "execution_count": 87,
      "outputs": [
        {
          "output_type": "execute_result",
          "data": {
            "text/plain": [
              "[(('Исполнитель5', 'Тестировщик'), 0.0810204081632653),\n",
              " (('Исполнитель4', 'Геймдизайнер'), 0.06679861454725383),\n",
              " (('Исполнитель3', 'Маркетолог'), 0.06764928193499622),\n",
              " (('Исполнитель1', 'Fake1'), 0.06923890063424948),\n",
              " (('Исполнитель6', 'Художник'), 0.07323232323232323),\n",
              " (('Исполнитель9', 'Fake2'), 0.069827931172469),\n",
              " (('Исполнитель2', 'Fake3'), 0.05274822695035461),\n",
              " (('Исполнитель7', 'Сценарист'), 0.04081632653061224),\n",
              " (('Исполнитель8', 'Композитор'), 0.0680354267310789)]"
            ]
          },
          "metadata": {},
          "execution_count": 87
        }
      ]
    },
    {
      "cell_type": "markdown",
      "source": [
        "* Исполнитель 3 будет работать маркетологом\n",
        "* Исполнитель 4 будет работать геймдизайнером\n",
        "* Исполнитель 5 будет работать тестировщиком\n",
        "* Исполнитель 6 будет работать художником\n",
        "* Исполнитель 7 будет работать сценаристом\n",
        "* Исполнитель 8 будет работать композитором\n",
        "* Исполнители 1, 2 и 9 работают на фейковых работах\n"
      ],
      "metadata": {
        "id": "kd0tNHIOVRXf"
      }
    },
    {
      "cell_type": "code",
      "source": [
        "Result_min = [[20,70],\n",
        "        [40,80],\n",
        "        [20,70],\n",
        "        [20,20],\n",
        "        [30,30],\n",
        "        [20,80]]"
      ],
      "metadata": {
        "id": "_c1Efsn0Iuus"
      },
      "execution_count": 88,
      "outputs": []
    },
    {
      "cell_type": "code",
      "source": [
        "Result_max = [[90,80],\n",
        "        [80,80],\n",
        "        [50,80],\n",
        "        [40,80],\n",
        "        [50,90],\n",
        "        [80,90]]"
      ],
      "metadata": {
        "id": "I_vSN-MOKnMW"
      },
      "execution_count": 89,
      "outputs": []
    },
    {
      "cell_type": "code",
      "source": [
        "Result = [[30,40],\n",
        "        [30,30],\n",
        "        [30,50],\n",
        "        [30,50],\n",
        "        [20,20],\n",
        "        [50,20]]\n",
        "\n",
        "Summ=0\n",
        "Motivation=0\n",
        "for i in range(len(Result)):\n",
        "  Summ+=Result[i][0]\n",
        "  Motivation+=Result[i][1]\n",
        "\n",
        "print(\"Зарплата:\",Summ,\" \",\"Мотивация:\", Motivation)"
      ],
      "metadata": {
        "colab": {
          "base_uri": "https://localhost:8080/"
        },
        "id": "lvn2tuNlG6qU",
        "outputId": "830a2d89-379d-48b7-8b8c-a1efcd7fc7ac"
      },
      "execution_count": 90,
      "outputs": [
        {
          "output_type": "stream",
          "name": "stdout",
          "text": [
            "Зарплата: 190   Мотивация: 210\n"
          ]
        }
      ]
    },
    {
      "cell_type": "code",
      "source": [
        "Summ=0\n",
        "Motivation=0\n",
        "for i in range(len(Result_min)):\n",
        "  Summ+=Result_min[i][0]\n",
        "  Motivation+=Result_min[i][1]\n",
        "\n",
        "print(\"Зарплата:\",Summ,\" \",\"Мотивация:\", Motivation)"
      ],
      "metadata": {
        "colab": {
          "base_uri": "https://localhost:8080/"
        },
        "id": "WIpIudLaLdas",
        "outputId": "d86d513b-9712-4071-dc35-70aff9c2ef92"
      },
      "execution_count": 91,
      "outputs": [
        {
          "output_type": "stream",
          "name": "stdout",
          "text": [
            "Зарплата: 150   Мотивация: 350\n"
          ]
        }
      ]
    },
    {
      "cell_type": "code",
      "source": [
        "Summ=0\n",
        "Motivation=0\n",
        "for i in range(len(Result_max)):\n",
        "  Summ+=Result_max[i][0]\n",
        "  Motivation+=Result_max[i][1]\n",
        "\n",
        "print(\"Зарплата:\",Summ,\" \",\"Мотивация:\", Motivation)"
      ],
      "metadata": {
        "colab": {
          "base_uri": "https://localhost:8080/"
        },
        "id": "j9OvDzMOLi4t",
        "outputId": "3f944272-d30c-45a5-fc03-b7e05177fa8e"
      },
      "execution_count": 92,
      "outputs": [
        {
          "output_type": "stream",
          "name": "stdout",
          "text": [
            "Зарплата: 390   Мотивация: 500\n"
          ]
        }
      ]
    },
    {
      "cell_type": "code",
      "source": [
        "import matplotlib.pyplot as plt\n",
        "\n",
        "x = np.arange(3)\n",
        "plt.figure(figsize=(10, 7), dpi=100)\n",
        "plt.bar(x, height=[150,190,390])\n",
        "plt.xticks(x, ['1-й критерий','Два критерия','2-й критерий']);\n",
        "plt.title(\"Зарплата\")"
      ],
      "metadata": {
        "colab": {
          "base_uri": "https://localhost:8080/",
          "height": 629
        },
        "id": "auvgXa_UL8O0",
        "outputId": "ad005d9b-5b9c-4d9e-93f2-4689a60891b7"
      },
      "execution_count": 93,
      "outputs": [
        {
          "output_type": "execute_result",
          "data": {
            "text/plain": [
              "Text(0.5, 1.0, 'Зарплата')"
            ]
          },
          "metadata": {},
          "execution_count": 93
        },
        {
          "output_type": "display_data",
          "data": {
            "text/plain": [
              "<Figure size 1000x700 with 1 Axes>"
            ],
            "image/png": "[encoded data removed]"
          },
          "metadata": {
            "needs_background": "light"
          }
        }
      ]
    },
    {
      "cell_type": "code",
      "source": [
        "x = np.arange(3)\n",
        "plt.figure(figsize=(10, 7), dpi=100)\n",
        "plt.bar(x, height=[210,350,500])\n",
        "plt.xticks(x, ['1-й критерий','Два критерия','2-й критерий'])\n",
        "plt.title(\"Мотивация\")"
      ],
      "metadata": {
        "colab": {
          "base_uri": "https://localhost:8080/",
          "height": 629
        },
        "id": "v1cfWuTxG0bZ",
        "outputId": "36cda04c-41c0-4ed7-c54e-b32e9fe40e13"
      },
      "execution_count": 94,
      "outputs": [
        {
          "output_type": "execute_result",
          "data": {
            "text/plain": [
              "Text(0.5, 1.0, 'Мотивация')"
            ]
          },
          "metadata": {},
          "execution_count": 94
        },
        {
          "output_type": "display_data",
          "data": {
            "text/plain": [
              "<Figure size 1000x700 with 1 Axes>"
            ],
            "image/png": "[encoded data removed]"
          },
          "metadata": {
            "needs_background": "light"
          }
        }
      ]
    },
    {
      "cell_type": "markdown",
      "source": [
        "### Распределим незадействованных исполнителей на работы"
      ],
      "metadata": {
        "id": "ZKKKzg8jVZSa"
      }
    },
    {
      "cell_type": "markdown",
      "source": [
        "### По первому критерию"
      ],
      "metadata": {
        "id": "FLB2eZXxsqTu"
      }
    },
    {
      "cell_type": "code",
      "source": [
        "list_salary_fake = [[ 50,  80,  90,  70,  40,  90],\n",
        "                    [ 90,  60,  30,  50,  80,  60],\n",
        "                    [80,  70,  50,  70,  80,  20]]\n",
        "list_salary_fake"
      ],
      "metadata": {
        "id": "BC4DpkKfs2I1",
        "colab": {
          "base_uri": "https://localhost:8080/"
        },
        "outputId": "bd50fbc8-d3fe-442f-c900-a935057af39f"
      },
      "execution_count": 95,
      "outputs": [
        {
          "output_type": "execute_result",
          "data": {
            "text/plain": [
              "[[50, 80, 90, 70, 40, 90], [90, 60, 30, 50, 80, 60], [80, 70, 50, 70, 80, 20]]"
            ]
          },
          "metadata": {},
          "execution_count": 95
        }
      ]
    },
    {
      "cell_type": "markdown",
      "source": [
        "### По второму критерию"
      ],
      "metadata": {
        "id": "TDHOUqVOvtav"
      }
    },
    {
      "cell_type": "code",
      "source": [
        "list_motivation_fake = [[90, 60, 50, 30, 50, 80],\n",
        "                        [50, 90, 30, 60, 80, 20],\n",
        "                        [90, 20, 70, 50, 40, 80]]\n",
        "list_motivation_fake"
      ],
      "metadata": {
        "id": "DxYSaI0IvtDu",
        "colab": {
          "base_uri": "https://localhost:8080/"
        },
        "outputId": "db33b8be-804a-4356-9258-61008c5bf26f"
      },
      "execution_count": 96,
      "outputs": [
        {
          "output_type": "execute_result",
          "data": {
            "text/plain": [
              "[[90, 60, 50, 30, 50, 80], [50, 90, 30, 60, 80, 20], [90, 20, 70, 50, 40, 80]]"
            ]
          },
          "metadata": {},
          "execution_count": 96
        }
      ]
    },
    {
      "cell_type": "markdown",
      "source": [
        "### Ищем суммы для каждого столбца"
      ],
      "metadata": {
        "id": "zOaZgxHExPsM"
      }
    },
    {
      "cell_type": "code",
      "source": [
        "sum_salary_fake = list(map(sum,zip(*list_salary_fake)))\n",
        "sum_salary_fake"
      ],
      "metadata": {
        "id": "x0A3vgFtxWBO",
        "colab": {
          "base_uri": "https://localhost:8080/"
        },
        "outputId": "cecac09d-c588-4c01-8ecc-a4c5cab75ae2"
      },
      "execution_count": 97,
      "outputs": [
        {
          "output_type": "execute_result",
          "data": {
            "text/plain": [
              "[220, 210, 170, 190, 200, 170]"
            ]
          },
          "metadata": {},
          "execution_count": 97
        }
      ]
    },
    {
      "cell_type": "code",
      "source": [
        "sum_motivation_fake = list(map(sum,zip(*list_motivation_fake)))\n",
        "sum_motivation_fake"
      ],
      "metadata": {
        "id": "354tH8xByZ7c",
        "colab": {
          "base_uri": "https://localhost:8080/"
        },
        "outputId": "29ed9013-0f45-4173-8891-6c982b75fd33"
      },
      "execution_count": 98,
      "outputs": [
        {
          "output_type": "execute_result",
          "data": {
            "text/plain": [
              "[230, 170, 150, 140, 170, 180]"
            ]
          },
          "metadata": {},
          "execution_count": 98
        }
      ]
    },
    {
      "cell_type": "markdown",
      "source": [
        "### Нормализуем таблицы"
      ],
      "metadata": {
        "id": "2Zm36YodypHV"
      }
    },
    {
      "cell_type": "code",
      "source": [
        "for i in range(6):\n",
        "  for j in range(3):\n",
        "    list_salary_fake[j][i]=float(list_salary_fake[j][i])/float(sum_salary_fake[i])\n",
        "print(np.copy(list_salary_fake))\n"
      ],
      "metadata": {
        "id": "xJ_1ByqOysLC",
        "colab": {
          "base_uri": "https://localhost:8080/"
        },
        "outputId": "b78b7e28-f528-4655-f5fb-47be804ad275"
      },
      "execution_count": 99,
      "outputs": [
        {
          "output_type": "stream",
          "name": "stdout",
          "text": [
            "[[0.22727273 0.38095238 0.52941176 0.36842105 0.2        0.52941176]\n",
            " [0.40909091 0.28571429 0.17647059 0.26315789 0.4        0.35294118]\n",
            " [0.36363636 0.33333333 0.29411765 0.36842105 0.4        0.11764706]]\n"
          ]
        }
      ]
    },
    {
      "cell_type": "code",
      "source": [
        "for i in range(6):\n",
        "  for j in range(3):\n",
        "    list_motivation_fake[j][i]=float(list_motivation_fake[j][i])/float(sum_motivation_fake[i])\n",
        "print(np.copy(list_motivation_fake))"
      ],
      "metadata": {
        "id": "aokxL2g70BZ8",
        "colab": {
          "base_uri": "https://localhost:8080/"
        },
        "outputId": "7e8b3b82-0748-4020-95bd-cef2064a6211"
      },
      "execution_count": 100,
      "outputs": [
        {
          "output_type": "stream",
          "name": "stdout",
          "text": [
            "[[0.39130435 0.35294118 0.33333333 0.21428571 0.29411765 0.44444444]\n",
            " [0.2173913  0.52941176 0.2        0.42857143 0.47058824 0.11111111]\n",
            " [0.39130435 0.11764706 0.46666667 0.35714286 0.23529412 0.44444444]]\n"
          ]
        }
      ]
    },
    {
      "cell_type": "markdown",
      "source": [
        "### Таблица с общими критериями"
      ],
      "metadata": {
        "id": "gVX4xBgT1DvX"
      }
    },
    {
      "cell_type": "code",
      "source": [
        "list_comb_fake = list_salary_fake \n",
        "for i in range(3):\n",
        "  for j in range(6):\n",
        "    list_comb_fake[i][j]=(list_salary_fake[i][j]+list_motivation_fake[i][j])/2\n",
        "\n",
        "print(np.copy(list_comb_fake))"
      ],
      "metadata": {
        "id": "djQPjqZk1CDs",
        "colab": {
          "base_uri": "https://localhost:8080/"
        },
        "outputId": "02fb119d-a151-45c9-b886-72370e7e671e"
      },
      "execution_count": 101,
      "outputs": [
        {
          "output_type": "stream",
          "name": "stdout",
          "text": [
            "[[0.30928854 0.36694678 0.43137255 0.29135338 0.24705882 0.4869281 ]\n",
            " [0.31324111 0.40756303 0.18823529 0.34586466 0.43529412 0.23202614]\n",
            " [0.37747036 0.2254902  0.38039216 0.36278195 0.31764706 0.28104575]]\n"
          ]
        }
      ]
    },
    {
      "cell_type": "markdown",
      "source": [
        "### Конвертируем данные в словари"
      ],
      "metadata": {
        "id": "UHLyPu2DCeq0"
      }
    },
    {
      "cell_type": "code",
      "source": [
        "dict_salary_fake = {'Исполнитель1': {'Художник': 50, 'Тестировщик': 80, 'Сценарист': 90, 'Композитор': 70, 'Геймдизайнер': 40, 'Маркетолог': 90},  \n",
        "                    'Исполнитель2': {'Художник': 90, 'Тестировщик': 60, 'Сценарист': 30, 'Композитор': 50, 'Геймдизайнер': 80, 'Маркетолог': 60},\n",
        "                    'Исполнитель9': {'Художник': 80, 'Тестировщик': 70, 'Сценарист': 50, 'Композитор': 70, 'Геймдизайнер': 80, 'Маркетолог': 20},\n",
        "                    'Fake1': {'Художник': 100, 'Тестировщик': 97, 'Сценарист': 94, 'Композитор': 91, 'Геймдизайнер': 95, 'Маркетолог': 91},\n",
        "                    'Fake2': {'Художник': 99, 'Тестировщик': 96, 'Сценарист': 93, 'Композитор': 94, 'Геймдизайнер': 91, 'Маркетолог': 92},\n",
        "                    'Fake3': {'Художник': 98, 'Тестировщик': 95, 'Сценарист': 92, 'Композитор': 92, 'Геймдизайнер': 94, 'Маркетолог': 93},\n",
        "}      \n",
        "\n",
        "dict_motivation_fake = {'Исполнитель1': {'Художник': 90, 'Тестировщик': 60, 'Сценарист': 50, 'Композитор': 30, 'Геймдизайнер': 50, 'Маркетолог': 80},\n",
        "                        'Исполнитель2': {'Художник': 50, 'Тестировщик': 90, 'Сценарист': 30, 'Композитор': 60, 'Геймдизайнер': 80, 'Маркетолог': 20},\n",
        "                        'Исполнитель9': {'Художник': 90, 'Тестировщик': 20, 'Сценарист': 70, 'Композитор': 50, 'Геймдизайнер': 40, 'Маркетолог': 80},\n",
        "                        'Fake1': {'Художник': 1, 'Тестировщик': 2, 'Сценарист': 3, 'Композитор': 4, 'Геймдизайнер': 5, 'Маркетолог': 6},\n",
        "                        'Fake2': {'Художник': 7, 'Тестировщик': 8, 'Сценарист': 9, 'Композитор': 1, 'Геймдизайнер': 2, 'Маркетолог': 3},\n",
        "                        'Fake3': {'Художник': 4, 'Тестировщик': 5, 'Сценарист': 6, 'Композитор': 7, 'Геймдизайнер': 8, 'Маркетолог': 9},}\n",
        "\n",
        "dict_comb_fake = {'Исполнитель1': {'Художник': 0.3708004, 'Тестировщик': 0.35644258, 'Сценарист': 0.35784314, 'Композитор': 0.29135338, 'Геймдизайнер': 0.24705882, 'Маркетолог': 0.4869281},\n",
        "                  'Исполнитель2': {'Художник': 0.24135375, 'Тестировщик': 0.49894958, 'Сценарист': 0.19705882, 'Композитор': 0.34586466, 'Геймдизайнер': 0.43529412, 'Маркетолог': 0.23202614},\n",
        "                  'Исполнитель9': {'Художник': 0.38784585, 'Тестировщик': 0.14460784, 'Сценарист': 0.44509804, 'Композитор': 0.36278195, 'Геймдизайнер': 0.31764706, 'Маркетолог': 0.28104575},\n",
        "                  'Fake1': {'Художник': 0.39, 'Тестировщик': 0.5, 'Сценарист': 0.45, 'Композитор': 0.38, 'Геймдизайнер': 0.436, 'Маркетолог': 0.49},\n",
        "                  'Fake2': {'Художник': 0.4, 'Тестировщик': 0.51, 'Сценарист': 0.451, 'Композитор': 0.365, 'Геймдизайнер': 0.438, 'Маркетолог': 0.48},\n",
        "                  'Fake3': {'Художник': 0.41, 'Тестировщик': 0.52, 'Сценарист': 0.452, 'Композитор': 0.37, 'Геймдизайнер': 0.437, 'Маркетолог': 0.491},}"
      ],
      "metadata": {
        "id": "jUq-JnyMX2Le"
      },
      "execution_count": 102,
      "outputs": []
    },
    {
      "cell_type": "markdown",
      "source": [
        "### Поиск по первому критерию"
      ],
      "metadata": {
        "id": "3_9U438mFT91"
      }
    },
    {
      "cell_type": "code",
      "source": [
        "algorithm.find_matching(dict_salary_fake, matching_type = 'min', return_type = 'list' )"
      ],
      "metadata": {
        "id": "ZSbKSMicFW_C",
        "colab": {
          "base_uri": "https://localhost:8080/"
        },
        "outputId": "76a8193a-1149-482f-e345-93a7182eb8e8"
      },
      "execution_count": 103,
      "outputs": [
        {
          "output_type": "execute_result",
          "data": {
            "text/plain": [
              "[(('Исполнитель2', 'Сценарист'), 30),\n",
              " (('Fake3', 'Тестировщик'), 95),\n",
              " (('Исполнитель1', 'Геймдизайнер'), 40),\n",
              " (('Исполнитель9', 'Маркетолог'), 20),\n",
              " (('Fake1', 'Композитор'), 91),\n",
              " (('Fake2', 'Художник'), 99)]"
            ]
          },
          "metadata": {},
          "execution_count": 103
        }
      ]
    },
    {
      "cell_type": "markdown",
      "source": [
        "### Поиск по второму критерию"
      ],
      "metadata": {
        "id": "BacrB8JBFXYv"
      }
    },
    {
      "cell_type": "code",
      "source": [
        "algorithm.find_matching(dict_motivation_fake, matching_type = 'max', return_type = 'list' )"
      ],
      "metadata": {
        "id": "gdxpKL0VFatH",
        "colab": {
          "base_uri": "https://localhost:8080/"
        },
        "outputId": "0ab93a03-bb47-4749-8715-af34b4afe38b"
      },
      "execution_count": 104,
      "outputs": [
        {
          "output_type": "execute_result",
          "data": {
            "text/plain": [
              "[(('Исполнитель2', 'Тестировщик'), 90),\n",
              " (('Исполнитель9', 'Художник'), 90),\n",
              " (('Fake3', 'Геймдизайнер'), 8),\n",
              " (('Исполнитель1', 'Маркетолог'), 80),\n",
              " (('Fake1', 'Композитор'), 4),\n",
              " (('Fake2', 'Сценарист'), 9)]"
            ]
          },
          "metadata": {},
          "execution_count": 104
        }
      ]
    },
    {
      "cell_type": "markdown",
      "source": [
        "### Поиск по двум критериям"
      ],
      "metadata": {
        "id": "TYgQbYbhFiJc"
      }
    },
    {
      "cell_type": "code",
      "source": [
        "algorithm.find_matching(dict_comb_fake, matching_type = 'min', return_type = 'list' )"
      ],
      "metadata": {
        "id": "Z5dR9x5cGWas",
        "colab": {
          "base_uri": "https://localhost:8080/"
        },
        "outputId": "ce81f67e-fbec-4de5-927e-c268216833e7"
      },
      "execution_count": 105,
      "outputs": [
        {
          "output_type": "execute_result",
          "data": {
            "text/plain": [
              "[(('Fake1', 'Художник'), 0.39),\n",
              " (('Исполнитель9', 'Тестировщик'), 0.14460784),\n",
              " (('Fake3', 'Композитор'), 0.37),\n",
              " (('Fake2', 'Маркетолог'), 0.48),\n",
              " (('Исполнитель2', 'Сценарист'), 0.19705882),\n",
              " (('Исполнитель1', 'Геймдизайнер'), 0.24705882)]"
            ]
          },
          "metadata": {},
          "execution_count": 105
        }
      ]
    },
    {
      "cell_type": "markdown",
      "source": [
        "В результате работы венгерского алгоритма \"Исполнитель 1\" был назначен геймдизайнером, \"Исполнитель 2\" сценаристом, а \"Исполнитель 9\" тестировщиком."
      ],
      "metadata": {
        "id": "TcuTC_ZOsFiG"
      }
    },
    {
      "cell_type": "code",
      "source": [
        "Salary=[[30,40],\n",
        "        [40,30],\n",
        "        [30,50],\n",
        "        [30,50],\n",
        "        [20,20],\n",
        "        [50,20],\n",
        "        [40,50],\n",
        "        [30,30],\n",
        "        [70,20]]\n",
        "\n",
        "Summ=0\n",
        "Motivation=0\n",
        "for i in range(len(Salary)):\n",
        "  Summ+=Salary[i][0]\n",
        "  Motivation+=Salary[i][1]\n",
        "\n",
        "print(\"Зарплата:\",Summ,\" \",\"Мотивация:\", Motivation)"
      ],
      "metadata": {
        "colab": {
          "base_uri": "https://localhost:8080/"
        },
        "id": "BHSRMPRyuZkT",
        "outputId": "89955acd-58cb-4788-bd3c-7864be31da77"
      },
      "execution_count": 106,
      "outputs": [
        {
          "output_type": "stream",
          "name": "stdout",
          "text": [
            "Зарплата: 340   Мотивация: 310\n"
          ]
        }
      ]
    }
  ]
}